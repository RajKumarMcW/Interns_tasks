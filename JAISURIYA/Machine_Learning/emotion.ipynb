{
  "nbformat": 4,
  "nbformat_minor": 0,
  "metadata": {
    "colab": {
      "provenance": []
    },
    "kernelspec": {
      "name": "python3",
      "display_name": "Python 3"
    },
    "language_info": {
      "name": "python"
    }
  },
  "cells": [
    {
      "cell_type": "code",
      "execution_count": 1,
      "metadata": {
        "colab": {
          "base_uri": "https://localhost:8080/"
        },
        "id": "JsKx9hFNF6Y8",
        "outputId": "2fe84437-d0e1-491c-b1d5-72f8ca10fa1f"
      },
      "outputs": [
        {
          "output_type": "stream",
          "name": "stdout",
          "text": [
            "Mounted at /content/drive\n"
          ]
        }
      ],
      "source": [
        "from google.colab import drive\n",
        "drive.mount('/content/drive')"
      ]
    },
    {
      "cell_type": "code",
      "source": [
        "import numpy as np\n",
        "import pandas as pd\n",
        "import matplotlib.pyplot as plt\n",
        "import seaborn as sns\n",
        "import missingno as msno"
      ],
      "metadata": {
        "id": "yeSCtPQCGVcR"
      },
      "execution_count": 2,
      "outputs": []
    },
    {
      "cell_type": "code",
      "source": [
        "#----------------------------------------------------------CLASSIFICATION USING Multinomial Naive Bayes------------------------------------------------------\n",
        "#--------------------------ABOUT DATASET------------------\n",
        "#dataset traffic classification\n",
        "\n",
        "#shape 5937, 2\n",
        "\n",
        "#columns ->Comment,Emotion\n",
        "\n",
        "#missing values->No Missing values\n",
        "\n",
        "#dataset is balanced\n",
        "\n",
        "\n",
        "\n",
        "\n",
        "#--------------------------Preprocessing-----------------------\n",
        "#Remove Puntuation\n",
        "\n",
        "#Remove stopwords,REmove white spaces\n",
        "\n",
        "#Tokenization\n",
        "\n",
        "#Normalizing text(stemming,lemmatization)\n",
        "\n",
        "#Vectorization\n",
        "\n",
        "#lable Encoder\n",
        "\n",
        "\n",
        "\n",
        "\n",
        "#--------------------------feature selection----------------\n",
        "#Correlation heat map only for numeric columns in this dataset only two columns\n",
        "#two columns are important\n",
        "\n",
        "\n",
        "#--------------------------Model Naive Bayes--------------------\n",
        "#using sklearn\n",
        "          #Accuracy: 0.9031986531986532\n",
        "          #AUC-ROC Score: 0.9767583679110395\n",
        "          #Precision: 0.9036858149024937\n",
        "          #Recall: 0.9031986531986532\n",
        "          #F1 Score: 0.9033014240181332\n",
        "#without using sklearn\n",
        "          #Accuracy: 0.9015151515151515\n",
        "          #Precision: 0.9013421363942585\n",
        "          #Recall: 0.9014360474510551\n",
        "          #F1 Score: 0.901248254974282"
      ],
      "metadata": {
        "id": "7J9xBt-jX6DK"
      },
      "execution_count": null,
      "outputs": []
    },
    {
      "cell_type": "code",
      "source": [
        "df=pd.read_csv('/content/drive/MyDrive/week2_python/Emotion_classify_Data.csv')"
      ],
      "metadata": {
        "id": "NXfiIhLYGaDx"
      },
      "execution_count": 3,
      "outputs": []
    },
    {
      "cell_type": "code",
      "source": [
        "df.head()"
      ],
      "metadata": {
        "colab": {
          "base_uri": "https://localhost:8080/",
          "height": 206
        },
        "id": "p-nwC4BoHcW-",
        "outputId": "fc86d1f3-8933-41e0-d0a1-ffe8b5112f10"
      },
      "execution_count": null,
      "outputs": [
        {
          "output_type": "execute_result",
          "data": {
            "text/plain": [
              "                                             Comment Emotion\n",
              "0  i seriously hate one subject to death but now ...    fear\n",
              "1                 im so full of life i feel appalled   anger\n",
              "2  i sit here to write i start to dig out my feel...    fear\n",
              "3  ive been really angry with r and i feel like a...     joy\n",
              "4  i feel suspicious if there is no one outside l...    fear"
            ],
            "text/html": [
              "\n",
              "  <div id=\"df-b61f46b8-470a-4c94-8e49-1731e75bde55\" class=\"colab-df-container\">\n",
              "    <div>\n",
              "<style scoped>\n",
              "    .dataframe tbody tr th:only-of-type {\n",
              "        vertical-align: middle;\n",
              "    }\n",
              "\n",
              "    .dataframe tbody tr th {\n",
              "        vertical-align: top;\n",
              "    }\n",
              "\n",
              "    .dataframe thead th {\n",
              "        text-align: right;\n",
              "    }\n",
              "</style>\n",
              "<table border=\"1\" class=\"dataframe\">\n",
              "  <thead>\n",
              "    <tr style=\"text-align: right;\">\n",
              "      <th></th>\n",
              "      <th>Comment</th>\n",
              "      <th>Emotion</th>\n",
              "    </tr>\n",
              "  </thead>\n",
              "  <tbody>\n",
              "    <tr>\n",
              "      <th>0</th>\n",
              "      <td>i seriously hate one subject to death but now ...</td>\n",
              "      <td>fear</td>\n",
              "    </tr>\n",
              "    <tr>\n",
              "      <th>1</th>\n",
              "      <td>im so full of life i feel appalled</td>\n",
              "      <td>anger</td>\n",
              "    </tr>\n",
              "    <tr>\n",
              "      <th>2</th>\n",
              "      <td>i sit here to write i start to dig out my feel...</td>\n",
              "      <td>fear</td>\n",
              "    </tr>\n",
              "    <tr>\n",
              "      <th>3</th>\n",
              "      <td>ive been really angry with r and i feel like a...</td>\n",
              "      <td>joy</td>\n",
              "    </tr>\n",
              "    <tr>\n",
              "      <th>4</th>\n",
              "      <td>i feel suspicious if there is no one outside l...</td>\n",
              "      <td>fear</td>\n",
              "    </tr>\n",
              "  </tbody>\n",
              "</table>\n",
              "</div>\n",
              "    <div class=\"colab-df-buttons\">\n",
              "\n",
              "  <div class=\"colab-df-container\">\n",
              "    <button class=\"colab-df-convert\" onclick=\"convertToInteractive('df-b61f46b8-470a-4c94-8e49-1731e75bde55')\"\n",
              "            title=\"Convert this dataframe to an interactive table.\"\n",
              "            style=\"display:none;\">\n",
              "\n",
              "  <svg xmlns=\"http://www.w3.org/2000/svg\" height=\"24px\" viewBox=\"0 -960 960 960\">\n",
              "    <path d=\"M120-120v-720h720v720H120Zm60-500h600v-160H180v160Zm220 220h160v-160H400v160Zm0 220h160v-160H400v160ZM180-400h160v-160H180v160Zm440 0h160v-160H620v160ZM180-180h160v-160H180v160Zm440 0h160v-160H620v160Z\"/>\n",
              "  </svg>\n",
              "    </button>\n",
              "\n",
              "  <style>\n",
              "    .colab-df-container {\n",
              "      display:flex;\n",
              "      gap: 12px;\n",
              "    }\n",
              "\n",
              "    .colab-df-convert {\n",
              "      background-color: #E8F0FE;\n",
              "      border: none;\n",
              "      border-radius: 50%;\n",
              "      cursor: pointer;\n",
              "      display: none;\n",
              "      fill: #1967D2;\n",
              "      height: 32px;\n",
              "      padding: 0 0 0 0;\n",
              "      width: 32px;\n",
              "    }\n",
              "\n",
              "    .colab-df-convert:hover {\n",
              "      background-color: #E2EBFA;\n",
              "      box-shadow: 0px 1px 2px rgba(60, 64, 67, 0.3), 0px 1px 3px 1px rgba(60, 64, 67, 0.15);\n",
              "      fill: #174EA6;\n",
              "    }\n",
              "\n",
              "    .colab-df-buttons div {\n",
              "      margin-bottom: 4px;\n",
              "    }\n",
              "\n",
              "    [theme=dark] .colab-df-convert {\n",
              "      background-color: #3B4455;\n",
              "      fill: #D2E3FC;\n",
              "    }\n",
              "\n",
              "    [theme=dark] .colab-df-convert:hover {\n",
              "      background-color: #434B5C;\n",
              "      box-shadow: 0px 1px 3px 1px rgba(0, 0, 0, 0.15);\n",
              "      filter: drop-shadow(0px 1px 2px rgba(0, 0, 0, 0.3));\n",
              "      fill: #FFFFFF;\n",
              "    }\n",
              "  </style>\n",
              "\n",
              "    <script>\n",
              "      const buttonEl =\n",
              "        document.querySelector('#df-b61f46b8-470a-4c94-8e49-1731e75bde55 button.colab-df-convert');\n",
              "      buttonEl.style.display =\n",
              "        google.colab.kernel.accessAllowed ? 'block' : 'none';\n",
              "\n",
              "      async function convertToInteractive(key) {\n",
              "        const element = document.querySelector('#df-b61f46b8-470a-4c94-8e49-1731e75bde55');\n",
              "        const dataTable =\n",
              "          await google.colab.kernel.invokeFunction('convertToInteractive',\n",
              "                                                    [key], {});\n",
              "        if (!dataTable) return;\n",
              "\n",
              "        const docLinkHtml = 'Like what you see? Visit the ' +\n",
              "          '<a target=\"_blank\" href=https://colab.research.google.com/notebooks/data_table.ipynb>data table notebook</a>'\n",
              "          + ' to learn more about interactive tables.';\n",
              "        element.innerHTML = '';\n",
              "        dataTable['output_type'] = 'display_data';\n",
              "        await google.colab.output.renderOutput(dataTable, element);\n",
              "        const docLink = document.createElement('div');\n",
              "        docLink.innerHTML = docLinkHtml;\n",
              "        element.appendChild(docLink);\n",
              "      }\n",
              "    </script>\n",
              "  </div>\n",
              "\n",
              "\n",
              "<div id=\"df-9ce22925-0e1f-4577-ac37-1d2c69d94ce6\">\n",
              "  <button class=\"colab-df-quickchart\" onclick=\"quickchart('df-9ce22925-0e1f-4577-ac37-1d2c69d94ce6')\"\n",
              "            title=\"Suggest charts\"\n",
              "            style=\"display:none;\">\n",
              "\n",
              "<svg xmlns=\"http://www.w3.org/2000/svg\" height=\"24px\"viewBox=\"0 0 24 24\"\n",
              "     width=\"24px\">\n",
              "    <g>\n",
              "        <path d=\"M19 3H5c-1.1 0-2 .9-2 2v14c0 1.1.9 2 2 2h14c1.1 0 2-.9 2-2V5c0-1.1-.9-2-2-2zM9 17H7v-7h2v7zm4 0h-2V7h2v10zm4 0h-2v-4h2v4z\"/>\n",
              "    </g>\n",
              "</svg>\n",
              "  </button>\n",
              "\n",
              "<style>\n",
              "  .colab-df-quickchart {\n",
              "      --bg-color: #E8F0FE;\n",
              "      --fill-color: #1967D2;\n",
              "      --hover-bg-color: #E2EBFA;\n",
              "      --hover-fill-color: #174EA6;\n",
              "      --disabled-fill-color: #AAA;\n",
              "      --disabled-bg-color: #DDD;\n",
              "  }\n",
              "\n",
              "  [theme=dark] .colab-df-quickchart {\n",
              "      --bg-color: #3B4455;\n",
              "      --fill-color: #D2E3FC;\n",
              "      --hover-bg-color: #434B5C;\n",
              "      --hover-fill-color: #FFFFFF;\n",
              "      --disabled-bg-color: #3B4455;\n",
              "      --disabled-fill-color: #666;\n",
              "  }\n",
              "\n",
              "  .colab-df-quickchart {\n",
              "    background-color: var(--bg-color);\n",
              "    border: none;\n",
              "    border-radius: 50%;\n",
              "    cursor: pointer;\n",
              "    display: none;\n",
              "    fill: var(--fill-color);\n",
              "    height: 32px;\n",
              "    padding: 0;\n",
              "    width: 32px;\n",
              "  }\n",
              "\n",
              "  .colab-df-quickchart:hover {\n",
              "    background-color: var(--hover-bg-color);\n",
              "    box-shadow: 0 1px 2px rgba(60, 64, 67, 0.3), 0 1px 3px 1px rgba(60, 64, 67, 0.15);\n",
              "    fill: var(--button-hover-fill-color);\n",
              "  }\n",
              "\n",
              "  .colab-df-quickchart-complete:disabled,\n",
              "  .colab-df-quickchart-complete:disabled:hover {\n",
              "    background-color: var(--disabled-bg-color);\n",
              "    fill: var(--disabled-fill-color);\n",
              "    box-shadow: none;\n",
              "  }\n",
              "\n",
              "  .colab-df-spinner {\n",
              "    border: 2px solid var(--fill-color);\n",
              "    border-color: transparent;\n",
              "    border-bottom-color: var(--fill-color);\n",
              "    animation:\n",
              "      spin 1s steps(1) infinite;\n",
              "  }\n",
              "\n",
              "  @keyframes spin {\n",
              "    0% {\n",
              "      border-color: transparent;\n",
              "      border-bottom-color: var(--fill-color);\n",
              "      border-left-color: var(--fill-color);\n",
              "    }\n",
              "    20% {\n",
              "      border-color: transparent;\n",
              "      border-left-color: var(--fill-color);\n",
              "      border-top-color: var(--fill-color);\n",
              "    }\n",
              "    30% {\n",
              "      border-color: transparent;\n",
              "      border-left-color: var(--fill-color);\n",
              "      border-top-color: var(--fill-color);\n",
              "      border-right-color: var(--fill-color);\n",
              "    }\n",
              "    40% {\n",
              "      border-color: transparent;\n",
              "      border-right-color: var(--fill-color);\n",
              "      border-top-color: var(--fill-color);\n",
              "    }\n",
              "    60% {\n",
              "      border-color: transparent;\n",
              "      border-right-color: var(--fill-color);\n",
              "    }\n",
              "    80% {\n",
              "      border-color: transparent;\n",
              "      border-right-color: var(--fill-color);\n",
              "      border-bottom-color: var(--fill-color);\n",
              "    }\n",
              "    90% {\n",
              "      border-color: transparent;\n",
              "      border-bottom-color: var(--fill-color);\n",
              "    }\n",
              "  }\n",
              "</style>\n",
              "\n",
              "  <script>\n",
              "    async function quickchart(key) {\n",
              "      const quickchartButtonEl =\n",
              "        document.querySelector('#' + key + ' button');\n",
              "      quickchartButtonEl.disabled = true;  // To prevent multiple clicks.\n",
              "      quickchartButtonEl.classList.add('colab-df-spinner');\n",
              "      try {\n",
              "        const charts = await google.colab.kernel.invokeFunction(\n",
              "            'suggestCharts', [key], {});\n",
              "      } catch (error) {\n",
              "        console.error('Error during call to suggestCharts:', error);\n",
              "      }\n",
              "      quickchartButtonEl.classList.remove('colab-df-spinner');\n",
              "      quickchartButtonEl.classList.add('colab-df-quickchart-complete');\n",
              "    }\n",
              "    (() => {\n",
              "      let quickchartButtonEl =\n",
              "        document.querySelector('#df-9ce22925-0e1f-4577-ac37-1d2c69d94ce6 button');\n",
              "      quickchartButtonEl.style.display =\n",
              "        google.colab.kernel.accessAllowed ? 'block' : 'none';\n",
              "    })();\n",
              "  </script>\n",
              "</div>\n",
              "    </div>\n",
              "  </div>\n"
            ]
          },
          "metadata": {},
          "execution_count": 25
        }
      ]
    },
    {
      "cell_type": "code",
      "source": [
        "df.describe()"
      ],
      "metadata": {
        "colab": {
          "base_uri": "https://localhost:8080/",
          "height": 175
        },
        "id": "Fv80S0ktHfZB",
        "outputId": "de85515b-4a9f-44a9-8233-fa8a0439b653"
      },
      "execution_count": null,
      "outputs": [
        {
          "output_type": "execute_result",
          "data": {
            "text/plain": [
              "                                                 Comment Emotion\n",
              "count                                               5937    5937\n",
              "unique                                              5934       3\n",
              "top     i feel like a tortured artist when i talk to her   anger\n",
              "freq                                                   2    2000"
            ],
            "text/html": [
              "\n",
              "  <div id=\"df-40c91666-661a-44ae-8a25-202ba8025ae8\" class=\"colab-df-container\">\n",
              "    <div>\n",
              "<style scoped>\n",
              "    .dataframe tbody tr th:only-of-type {\n",
              "        vertical-align: middle;\n",
              "    }\n",
              "\n",
              "    .dataframe tbody tr th {\n",
              "        vertical-align: top;\n",
              "    }\n",
              "\n",
              "    .dataframe thead th {\n",
              "        text-align: right;\n",
              "    }\n",
              "</style>\n",
              "<table border=\"1\" class=\"dataframe\">\n",
              "  <thead>\n",
              "    <tr style=\"text-align: right;\">\n",
              "      <th></th>\n",
              "      <th>Comment</th>\n",
              "      <th>Emotion</th>\n",
              "    </tr>\n",
              "  </thead>\n",
              "  <tbody>\n",
              "    <tr>\n",
              "      <th>count</th>\n",
              "      <td>5937</td>\n",
              "      <td>5937</td>\n",
              "    </tr>\n",
              "    <tr>\n",
              "      <th>unique</th>\n",
              "      <td>5934</td>\n",
              "      <td>3</td>\n",
              "    </tr>\n",
              "    <tr>\n",
              "      <th>top</th>\n",
              "      <td>i feel like a tortured artist when i talk to her</td>\n",
              "      <td>anger</td>\n",
              "    </tr>\n",
              "    <tr>\n",
              "      <th>freq</th>\n",
              "      <td>2</td>\n",
              "      <td>2000</td>\n",
              "    </tr>\n",
              "  </tbody>\n",
              "</table>\n",
              "</div>\n",
              "    <div class=\"colab-df-buttons\">\n",
              "\n",
              "  <div class=\"colab-df-container\">\n",
              "    <button class=\"colab-df-convert\" onclick=\"convertToInteractive('df-40c91666-661a-44ae-8a25-202ba8025ae8')\"\n",
              "            title=\"Convert this dataframe to an interactive table.\"\n",
              "            style=\"display:none;\">\n",
              "\n",
              "  <svg xmlns=\"http://www.w3.org/2000/svg\" height=\"24px\" viewBox=\"0 -960 960 960\">\n",
              "    <path d=\"M120-120v-720h720v720H120Zm60-500h600v-160H180v160Zm220 220h160v-160H400v160Zm0 220h160v-160H400v160ZM180-400h160v-160H180v160Zm440 0h160v-160H620v160ZM180-180h160v-160H180v160Zm440 0h160v-160H620v160Z\"/>\n",
              "  </svg>\n",
              "    </button>\n",
              "\n",
              "  <style>\n",
              "    .colab-df-container {\n",
              "      display:flex;\n",
              "      gap: 12px;\n",
              "    }\n",
              "\n",
              "    .colab-df-convert {\n",
              "      background-color: #E8F0FE;\n",
              "      border: none;\n",
              "      border-radius: 50%;\n",
              "      cursor: pointer;\n",
              "      display: none;\n",
              "      fill: #1967D2;\n",
              "      height: 32px;\n",
              "      padding: 0 0 0 0;\n",
              "      width: 32px;\n",
              "    }\n",
              "\n",
              "    .colab-df-convert:hover {\n",
              "      background-color: #E2EBFA;\n",
              "      box-shadow: 0px 1px 2px rgba(60, 64, 67, 0.3), 0px 1px 3px 1px rgba(60, 64, 67, 0.15);\n",
              "      fill: #174EA6;\n",
              "    }\n",
              "\n",
              "    .colab-df-buttons div {\n",
              "      margin-bottom: 4px;\n",
              "    }\n",
              "\n",
              "    [theme=dark] .colab-df-convert {\n",
              "      background-color: #3B4455;\n",
              "      fill: #D2E3FC;\n",
              "    }\n",
              "\n",
              "    [theme=dark] .colab-df-convert:hover {\n",
              "      background-color: #434B5C;\n",
              "      box-shadow: 0px 1px 3px 1px rgba(0, 0, 0, 0.15);\n",
              "      filter: drop-shadow(0px 1px 2px rgba(0, 0, 0, 0.3));\n",
              "      fill: #FFFFFF;\n",
              "    }\n",
              "  </style>\n",
              "\n",
              "    <script>\n",
              "      const buttonEl =\n",
              "        document.querySelector('#df-40c91666-661a-44ae-8a25-202ba8025ae8 button.colab-df-convert');\n",
              "      buttonEl.style.display =\n",
              "        google.colab.kernel.accessAllowed ? 'block' : 'none';\n",
              "\n",
              "      async function convertToInteractive(key) {\n",
              "        const element = document.querySelector('#df-40c91666-661a-44ae-8a25-202ba8025ae8');\n",
              "        const dataTable =\n",
              "          await google.colab.kernel.invokeFunction('convertToInteractive',\n",
              "                                                    [key], {});\n",
              "        if (!dataTable) return;\n",
              "\n",
              "        const docLinkHtml = 'Like what you see? Visit the ' +\n",
              "          '<a target=\"_blank\" href=https://colab.research.google.com/notebooks/data_table.ipynb>data table notebook</a>'\n",
              "          + ' to learn more about interactive tables.';\n",
              "        element.innerHTML = '';\n",
              "        dataTable['output_type'] = 'display_data';\n",
              "        await google.colab.output.renderOutput(dataTable, element);\n",
              "        const docLink = document.createElement('div');\n",
              "        docLink.innerHTML = docLinkHtml;\n",
              "        element.appendChild(docLink);\n",
              "      }\n",
              "    </script>\n",
              "  </div>\n",
              "\n",
              "\n",
              "<div id=\"df-fec071af-e3d1-4ee0-805d-73e9a75d45a1\">\n",
              "  <button class=\"colab-df-quickchart\" onclick=\"quickchart('df-fec071af-e3d1-4ee0-805d-73e9a75d45a1')\"\n",
              "            title=\"Suggest charts\"\n",
              "            style=\"display:none;\">\n",
              "\n",
              "<svg xmlns=\"http://www.w3.org/2000/svg\" height=\"24px\"viewBox=\"0 0 24 24\"\n",
              "     width=\"24px\">\n",
              "    <g>\n",
              "        <path d=\"M19 3H5c-1.1 0-2 .9-2 2v14c0 1.1.9 2 2 2h14c1.1 0 2-.9 2-2V5c0-1.1-.9-2-2-2zM9 17H7v-7h2v7zm4 0h-2V7h2v10zm4 0h-2v-4h2v4z\"/>\n",
              "    </g>\n",
              "</svg>\n",
              "  </button>\n",
              "\n",
              "<style>\n",
              "  .colab-df-quickchart {\n",
              "      --bg-color: #E8F0FE;\n",
              "      --fill-color: #1967D2;\n",
              "      --hover-bg-color: #E2EBFA;\n",
              "      --hover-fill-color: #174EA6;\n",
              "      --disabled-fill-color: #AAA;\n",
              "      --disabled-bg-color: #DDD;\n",
              "  }\n",
              "\n",
              "  [theme=dark] .colab-df-quickchart {\n",
              "      --bg-color: #3B4455;\n",
              "      --fill-color: #D2E3FC;\n",
              "      --hover-bg-color: #434B5C;\n",
              "      --hover-fill-color: #FFFFFF;\n",
              "      --disabled-bg-color: #3B4455;\n",
              "      --disabled-fill-color: #666;\n",
              "  }\n",
              "\n",
              "  .colab-df-quickchart {\n",
              "    background-color: var(--bg-color);\n",
              "    border: none;\n",
              "    border-radius: 50%;\n",
              "    cursor: pointer;\n",
              "    display: none;\n",
              "    fill: var(--fill-color);\n",
              "    height: 32px;\n",
              "    padding: 0;\n",
              "    width: 32px;\n",
              "  }\n",
              "\n",
              "  .colab-df-quickchart:hover {\n",
              "    background-color: var(--hover-bg-color);\n",
              "    box-shadow: 0 1px 2px rgba(60, 64, 67, 0.3), 0 1px 3px 1px rgba(60, 64, 67, 0.15);\n",
              "    fill: var(--button-hover-fill-color);\n",
              "  }\n",
              "\n",
              "  .colab-df-quickchart-complete:disabled,\n",
              "  .colab-df-quickchart-complete:disabled:hover {\n",
              "    background-color: var(--disabled-bg-color);\n",
              "    fill: var(--disabled-fill-color);\n",
              "    box-shadow: none;\n",
              "  }\n",
              "\n",
              "  .colab-df-spinner {\n",
              "    border: 2px solid var(--fill-color);\n",
              "    border-color: transparent;\n",
              "    border-bottom-color: var(--fill-color);\n",
              "    animation:\n",
              "      spin 1s steps(1) infinite;\n",
              "  }\n",
              "\n",
              "  @keyframes spin {\n",
              "    0% {\n",
              "      border-color: transparent;\n",
              "      border-bottom-color: var(--fill-color);\n",
              "      border-left-color: var(--fill-color);\n",
              "    }\n",
              "    20% {\n",
              "      border-color: transparent;\n",
              "      border-left-color: var(--fill-color);\n",
              "      border-top-color: var(--fill-color);\n",
              "    }\n",
              "    30% {\n",
              "      border-color: transparent;\n",
              "      border-left-color: var(--fill-color);\n",
              "      border-top-color: var(--fill-color);\n",
              "      border-right-color: var(--fill-color);\n",
              "    }\n",
              "    40% {\n",
              "      border-color: transparent;\n",
              "      border-right-color: var(--fill-color);\n",
              "      border-top-color: var(--fill-color);\n",
              "    }\n",
              "    60% {\n",
              "      border-color: transparent;\n",
              "      border-right-color: var(--fill-color);\n",
              "    }\n",
              "    80% {\n",
              "      border-color: transparent;\n",
              "      border-right-color: var(--fill-color);\n",
              "      border-bottom-color: var(--fill-color);\n",
              "    }\n",
              "    90% {\n",
              "      border-color: transparent;\n",
              "      border-bottom-color: var(--fill-color);\n",
              "    }\n",
              "  }\n",
              "</style>\n",
              "\n",
              "  <script>\n",
              "    async function quickchart(key) {\n",
              "      const quickchartButtonEl =\n",
              "        document.querySelector('#' + key + ' button');\n",
              "      quickchartButtonEl.disabled = true;  // To prevent multiple clicks.\n",
              "      quickchartButtonEl.classList.add('colab-df-spinner');\n",
              "      try {\n",
              "        const charts = await google.colab.kernel.invokeFunction(\n",
              "            'suggestCharts', [key], {});\n",
              "      } catch (error) {\n",
              "        console.error('Error during call to suggestCharts:', error);\n",
              "      }\n",
              "      quickchartButtonEl.classList.remove('colab-df-spinner');\n",
              "      quickchartButtonEl.classList.add('colab-df-quickchart-complete');\n",
              "    }\n",
              "    (() => {\n",
              "      let quickchartButtonEl =\n",
              "        document.querySelector('#df-fec071af-e3d1-4ee0-805d-73e9a75d45a1 button');\n",
              "      quickchartButtonEl.style.display =\n",
              "        google.colab.kernel.accessAllowed ? 'block' : 'none';\n",
              "    })();\n",
              "  </script>\n",
              "</div>\n",
              "    </div>\n",
              "  </div>\n"
            ]
          },
          "metadata": {},
          "execution_count": 6
        }
      ]
    },
    {
      "cell_type": "code",
      "source": [
        "df.columns"
      ],
      "metadata": {
        "colab": {
          "base_uri": "https://localhost:8080/"
        },
        "id": "QmiTFHgNyXLM",
        "outputId": "5491cbb5-4163-4be2-b4e0-b688df92e432"
      },
      "execution_count": 8,
      "outputs": [
        {
          "output_type": "execute_result",
          "data": {
            "text/plain": [
              "Index(['Comment', 'Emotion'], dtype='object')"
            ]
          },
          "metadata": {},
          "execution_count": 8
        }
      ]
    },
    {
      "cell_type": "code",
      "source": [
        "print(df['Emotion'].unique())"
      ],
      "metadata": {
        "colab": {
          "base_uri": "https://localhost:8080/"
        },
        "id": "P5HxuqwLHr9b",
        "outputId": "3c19ab60-1b40-47af-d3ba-1c2fad2be535"
      },
      "execution_count": null,
      "outputs": [
        {
          "output_type": "stream",
          "name": "stdout",
          "text": [
            "['fear' 'anger' 'joy']\n"
          ]
        }
      ]
    },
    {
      "cell_type": "code",
      "source": [
        "df.isnull().sum()"
      ],
      "metadata": {
        "colab": {
          "base_uri": "https://localhost:8080/"
        },
        "id": "ao94Q4TaH1Lu",
        "outputId": "cf486fd5-9e48-4cc3-a2c6-be3e6920105f"
      },
      "execution_count": null,
      "outputs": [
        {
          "output_type": "execute_result",
          "data": {
            "text/plain": [
              "Comment    0\n",
              "Emotion    0\n",
              "dtype: int64"
            ]
          },
          "metadata": {},
          "execution_count": 8
        }
      ]
    },
    {
      "cell_type": "code",
      "source": [
        "msno.matrix(df)"
      ],
      "metadata": {
        "colab": {
          "base_uri": "https://localhost:8080/",
          "height": 584
        },
        "id": "WA78bgGcyEiH",
        "outputId": "5c80191a-c877-4510-fb2d-51922b712644"
      },
      "execution_count": 6,
      "outputs": [
        {
          "output_type": "execute_result",
          "data": {
            "text/plain": [
              "<Axes: >"
            ]
          },
          "metadata": {},
          "execution_count": 6
        },
        {
          "output_type": "display_data",
          "data": {
            "text/plain": [
              "<Figure size 2500x1000 with 2 Axes>"
            ],
            "image/png": "[encoded data removed]"
          },
          "metadata": {}
        }
      ]
    },
    {
      "cell_type": "code",
      "source": [
        "sns.countplot(x = df['Emotion'])"
      ],
      "metadata": {
        "colab": {
          "base_uri": "https://localhost:8080/",
          "height": 466
        },
        "id": "LHSBNCyNH8I3",
        "outputId": "dcb5b715-657e-4745-a498-519e78d2929e"
      },
      "execution_count": null,
      "outputs": [
        {
          "output_type": "execute_result",
          "data": {
            "text/plain": [
              "<Axes: xlabel='Emotion', ylabel='count'>"
            ]
          },
          "metadata": {},
          "execution_count": 9
        },
        {
          "output_type": "display_data",
          "data": {
            "text/plain": [
              "<Figure size 640x480 with 1 Axes>"
            ],
            "image/png": "[encoded data removed]"
          },
          "metadata": {}
        }
      ]
    },
    {
      "cell_type": "code",
      "source": [
        "# Expand Contraction\n",
        "!pip install contractions\n",
        "import contractions"
      ],
      "metadata": {
        "colab": {
          "base_uri": "https://localhost:8080/"
        },
        "id": "yEJHdq_HH-Cn",
        "outputId": "8ba864af-e375-49d3-9ed8-8bfcce43747a"
      },
      "execution_count": 11,
      "outputs": [
        {
          "output_type": "stream",
          "name": "stdout",
          "text": [
            "Collecting contractions\n",
            "  Downloading contractions-0.1.73-py2.py3-none-any.whl (8.7 kB)\n",
            "Collecting textsearch>=0.0.21 (from contractions)\n",
            "  Downloading textsearch-0.0.24-py2.py3-none-any.whl (7.6 kB)\n",
            "Collecting anyascii (from textsearch>=0.0.21->contractions)\n",
            "  Downloading anyascii-0.3.2-py3-none-any.whl (289 kB)\n",
            "\u001b[2K     \u001b[90m━━━━━━━━━━━━━━━━━━━━━━━━━━━━━━━━━━━━━━━━\u001b[0m \u001b[32m289.9/289.9 kB\u001b[0m \u001b[31m4.9 MB/s\u001b[0m eta \u001b[36m0:00:00\u001b[0m\n",
            "\u001b[?25hCollecting pyahocorasick (from textsearch>=0.0.21->contractions)\n",
            "  Downloading pyahocorasick-2.0.0-cp310-cp310-manylinux_2_5_x86_64.manylinux1_x86_64.manylinux_2_12_x86_64.manylinux2010_x86_64.whl (110 kB)\n",
            "\u001b[2K     \u001b[90m━━━━━━━━━━━━━━━━━━━━━━━━━━━━━━━━━━━━━━━━\u001b[0m \u001b[32m110.8/110.8 kB\u001b[0m \u001b[31m6.8 MB/s\u001b[0m eta \u001b[36m0:00:00\u001b[0m\n",
            "\u001b[?25hInstalling collected packages: pyahocorasick, anyascii, textsearch, contractions\n",
            "Successfully installed anyascii-0.3.2 contractions-0.1.73 pyahocorasick-2.0.0 textsearch-0.0.24\n"
          ]
        }
      ]
    },
    {
      "cell_type": "code",
      "source": [
        "# applying fuction for contracting text\n",
        "df['Comment']=df['Comment'].apply(lambda x:contractions.fix(str(x)))"
      ],
      "metadata": {
        "id": "hExMB7JFNc4M"
      },
      "execution_count": 12,
      "outputs": []
    },
    {
      "cell_type": "code",
      "source": [
        "# Remove Punctuations\n",
        "import string\n",
        "def remove_punctuation(text):\n",
        "  '''This function is for removing punctuation'''\n",
        "   # replacing the punctuations with no space, hence punctuation marks will be removed\n",
        "  translator = text.translate(str.maketrans('', '', string.punctuation))\n",
        "  # return the text stripped of punctuation marks\n",
        "  return (translator)\n",
        "#remove punctuation using function created\n",
        "df['Comment'] = df['Comment'].apply(remove_punctuation)"
      ],
      "metadata": {
        "id": "cmtV3ChcNxWZ"
      },
      "execution_count": 13,
      "outputs": []
    },
    {
      "cell_type": "code",
      "source": [
        "# Remove Stopwords\n",
        "import nltk\n",
        "from nltk.corpus import stopwords\n",
        "nltk.download('stopwords')\n",
        "nltk.download('punkt')\n",
        "nltk.download('wordnet')\n",
        "nltk.download('averaged_perceptron_tagger')"
      ],
      "metadata": {
        "colab": {
          "base_uri": "https://localhost:8080/"
        },
        "id": "hhe6rXdpOMWl",
        "outputId": "c9095278-3be3-4d70-cc9f-0b26a6a2d795"
      },
      "execution_count": 14,
      "outputs": [
        {
          "output_type": "stream",
          "name": "stderr",
          "text": [
            "[nltk_data] Downloading package stopwords to /root/nltk_data...\n",
            "[nltk_data]   Unzipping corpora/stopwords.zip.\n",
            "[nltk_data] Downloading package punkt to /root/nltk_data...\n",
            "[nltk_data]   Unzipping tokenizers/punkt.zip.\n",
            "[nltk_data] Downloading package wordnet to /root/nltk_data...\n",
            "[nltk_data] Downloading package averaged_perceptron_tagger to\n",
            "[nltk_data]     /root/nltk_data...\n",
            "[nltk_data]   Unzipping taggers/averaged_perceptron_tagger.zip.\n"
          ]
        },
        {
          "output_type": "execute_result",
          "data": {
            "text/plain": [
              "True"
            ]
          },
          "metadata": {},
          "execution_count": 14
        }
      ]
    },
    {
      "cell_type": "code",
      "source": [
        "# creating object for english stopwords\n",
        "sw = stopwords.words('english')\n",
        "def remove_stopwords(text):\n",
        "    '''a function for removing the stopword'''\n",
        "    # removing the stop words and lowercasing the selected words\n",
        "    text = [word.lower() for word in text.split() if word.lower() not in sw]\n",
        "    # joining the list of words with space separator\n",
        "    return \" \".join(text)\n",
        "\n",
        "df['Comment'] = df['Comment'].apply(remove_stopwords)"
      ],
      "metadata": {
        "id": "ogniIduTOTWV"
      },
      "execution_count": 15,
      "outputs": []
    },
    {
      "cell_type": "code",
      "source": [
        "# Remove White spaces\n",
        "df['Comment'] =df['Comment'].apply(lambda x: \" \".join(x.split()))"
      ],
      "metadata": {
        "id": "jhWGXnriOi8U"
      },
      "execution_count": 16,
      "outputs": []
    },
    {
      "cell_type": "code",
      "source": [
        "# Tokenization\n",
        "df['Comment'] = df['Comment'].apply(nltk.word_tokenize)"
      ],
      "metadata": {
        "id": "uZmwKjm4Opuv"
      },
      "execution_count": 17,
      "outputs": []
    },
    {
      "cell_type": "code",
      "source": [
        "df.sample(3)"
      ],
      "metadata": {
        "colab": {
          "base_uri": "https://localhost:8080/",
          "height": 143
        },
        "id": "MU_8NxsFPBpB",
        "outputId": "eb39e7d5-8f0b-404a-f439-09b1f0d17551"
      },
      "execution_count": null,
      "outputs": [
        {
          "output_type": "execute_result",
          "data": {
            "text/plain": [
              "                                                Comment Emotion\n",
              "761   [care, much, number, viewers, viewer, ratings,...   anger\n",
              "148   [feel, motivation, satisfied, read, write, als...     joy\n",
              "3008  [planned, still, days, feel, stressed, point, ...   anger"
            ],
            "text/html": [
              "\n",
              "  <div id=\"df-93fae89e-bed7-4f22-8afe-8cfb4a5b067d\" class=\"colab-df-container\">\n",
              "    <div>\n",
              "<style scoped>\n",
              "    .dataframe tbody tr th:only-of-type {\n",
              "        vertical-align: middle;\n",
              "    }\n",
              "\n",
              "    .dataframe tbody tr th {\n",
              "        vertical-align: top;\n",
              "    }\n",
              "\n",
              "    .dataframe thead th {\n",
              "        text-align: right;\n",
              "    }\n",
              "</style>\n",
              "<table border=\"1\" class=\"dataframe\">\n",
              "  <thead>\n",
              "    <tr style=\"text-align: right;\">\n",
              "      <th></th>\n",
              "      <th>Comment</th>\n",
              "      <th>Emotion</th>\n",
              "    </tr>\n",
              "  </thead>\n",
              "  <tbody>\n",
              "    <tr>\n",
              "      <th>761</th>\n",
              "      <td>[care, much, number, viewers, viewer, ratings,...</td>\n",
              "      <td>anger</td>\n",
              "    </tr>\n",
              "    <tr>\n",
              "      <th>148</th>\n",
              "      <td>[feel, motivation, satisfied, read, write, als...</td>\n",
              "      <td>joy</td>\n",
              "    </tr>\n",
              "    <tr>\n",
              "      <th>3008</th>\n",
              "      <td>[planned, still, days, feel, stressed, point, ...</td>\n",
              "      <td>anger</td>\n",
              "    </tr>\n",
              "  </tbody>\n",
              "</table>\n",
              "</div>\n",
              "    <div class=\"colab-df-buttons\">\n",
              "\n",
              "  <div class=\"colab-df-container\">\n",
              "    <button class=\"colab-df-convert\" onclick=\"convertToInteractive('df-93fae89e-bed7-4f22-8afe-8cfb4a5b067d')\"\n",
              "            title=\"Convert this dataframe to an interactive table.\"\n",
              "            style=\"display:none;\">\n",
              "\n",
              "  <svg xmlns=\"http://www.w3.org/2000/svg\" height=\"24px\" viewBox=\"0 -960 960 960\">\n",
              "    <path d=\"M120-120v-720h720v720H120Zm60-500h600v-160H180v160Zm220 220h160v-160H400v160Zm0 220h160v-160H400v160ZM180-400h160v-160H180v160Zm440 0h160v-160H620v160ZM180-180h160v-160H180v160Zm440 0h160v-160H620v160Z\"/>\n",
              "  </svg>\n",
              "    </button>\n",
              "\n",
              "  <style>\n",
              "    .colab-df-container {\n",
              "      display:flex;\n",
              "      gap: 12px;\n",
              "    }\n",
              "\n",
              "    .colab-df-convert {\n",
              "      background-color: #E8F0FE;\n",
              "      border: none;\n",
              "      border-radius: 50%;\n",
              "      cursor: pointer;\n",
              "      display: none;\n",
              "      fill: #1967D2;\n",
              "      height: 32px;\n",
              "      padding: 0 0 0 0;\n",
              "      width: 32px;\n",
              "    }\n",
              "\n",
              "    .colab-df-convert:hover {\n",
              "      background-color: #E2EBFA;\n",
              "      box-shadow: 0px 1px 2px rgba(60, 64, 67, 0.3), 0px 1px 3px 1px rgba(60, 64, 67, 0.15);\n",
              "      fill: #174EA6;\n",
              "    }\n",
              "\n",
              "    .colab-df-buttons div {\n",
              "      margin-bottom: 4px;\n",
              "    }\n",
              "\n",
              "    [theme=dark] .colab-df-convert {\n",
              "      background-color: #3B4455;\n",
              "      fill: #D2E3FC;\n",
              "    }\n",
              "\n",
              "    [theme=dark] .colab-df-convert:hover {\n",
              "      background-color: #434B5C;\n",
              "      box-shadow: 0px 1px 3px 1px rgba(0, 0, 0, 0.15);\n",
              "      filter: drop-shadow(0px 1px 2px rgba(0, 0, 0, 0.3));\n",
              "      fill: #FFFFFF;\n",
              "    }\n",
              "  </style>\n",
              "\n",
              "    <script>\n",
              "      const buttonEl =\n",
              "        document.querySelector('#df-93fae89e-bed7-4f22-8afe-8cfb4a5b067d button.colab-df-convert');\n",
              "      buttonEl.style.display =\n",
              "        google.colab.kernel.accessAllowed ? 'block' : 'none';\n",
              "\n",
              "      async function convertToInteractive(key) {\n",
              "        const element = document.querySelector('#df-93fae89e-bed7-4f22-8afe-8cfb4a5b067d');\n",
              "        const dataTable =\n",
              "          await google.colab.kernel.invokeFunction('convertToInteractive',\n",
              "                                                    [key], {});\n",
              "        if (!dataTable) return;\n",
              "\n",
              "        const docLinkHtml = 'Like what you see? Visit the ' +\n",
              "          '<a target=\"_blank\" href=https://colab.research.google.com/notebooks/data_table.ipynb>data table notebook</a>'\n",
              "          + ' to learn more about interactive tables.';\n",
              "        element.innerHTML = '';\n",
              "        dataTable['output_type'] = 'display_data';\n",
              "        await google.colab.output.renderOutput(dataTable, element);\n",
              "        const docLink = document.createElement('div');\n",
              "        docLink.innerHTML = docLinkHtml;\n",
              "        element.appendChild(docLink);\n",
              "      }\n",
              "    </script>\n",
              "  </div>\n",
              "\n",
              "\n",
              "<div id=\"df-38cfb7b9-4454-40e5-8a17-37f4933a3b2e\">\n",
              "  <button class=\"colab-df-quickchart\" onclick=\"quickchart('df-38cfb7b9-4454-40e5-8a17-37f4933a3b2e')\"\n",
              "            title=\"Suggest charts\"\n",
              "            style=\"display:none;\">\n",
              "\n",
              "<svg xmlns=\"http://www.w3.org/2000/svg\" height=\"24px\"viewBox=\"0 0 24 24\"\n",
              "     width=\"24px\">\n",
              "    <g>\n",
              "        <path d=\"M19 3H5c-1.1 0-2 .9-2 2v14c0 1.1.9 2 2 2h14c1.1 0 2-.9 2-2V5c0-1.1-.9-2-2-2zM9 17H7v-7h2v7zm4 0h-2V7h2v10zm4 0h-2v-4h2v4z\"/>\n",
              "    </g>\n",
              "</svg>\n",
              "  </button>\n",
              "\n",
              "<style>\n",
              "  .colab-df-quickchart {\n",
              "      --bg-color: #E8F0FE;\n",
              "      --fill-color: #1967D2;\n",
              "      --hover-bg-color: #E2EBFA;\n",
              "      --hover-fill-color: #174EA6;\n",
              "      --disabled-fill-color: #AAA;\n",
              "      --disabled-bg-color: #DDD;\n",
              "  }\n",
              "\n",
              "  [theme=dark] .colab-df-quickchart {\n",
              "      --bg-color: #3B4455;\n",
              "      --fill-color: #D2E3FC;\n",
              "      --hover-bg-color: #434B5C;\n",
              "      --hover-fill-color: #FFFFFF;\n",
              "      --disabled-bg-color: #3B4455;\n",
              "      --disabled-fill-color: #666;\n",
              "  }\n",
              "\n",
              "  .colab-df-quickchart {\n",
              "    background-color: var(--bg-color);\n",
              "    border: none;\n",
              "    border-radius: 50%;\n",
              "    cursor: pointer;\n",
              "    display: none;\n",
              "    fill: var(--fill-color);\n",
              "    height: 32px;\n",
              "    padding: 0;\n",
              "    width: 32px;\n",
              "  }\n",
              "\n",
              "  .colab-df-quickchart:hover {\n",
              "    background-color: var(--hover-bg-color);\n",
              "    box-shadow: 0 1px 2px rgba(60, 64, 67, 0.3), 0 1px 3px 1px rgba(60, 64, 67, 0.15);\n",
              "    fill: var(--button-hover-fill-color);\n",
              "  }\n",
              "\n",
              "  .colab-df-quickchart-complete:disabled,\n",
              "  .colab-df-quickchart-complete:disabled:hover {\n",
              "    background-color: var(--disabled-bg-color);\n",
              "    fill: var(--disabled-fill-color);\n",
              "    box-shadow: none;\n",
              "  }\n",
              "\n",
              "  .colab-df-spinner {\n",
              "    border: 2px solid var(--fill-color);\n",
              "    border-color: transparent;\n",
              "    border-bottom-color: var(--fill-color);\n",
              "    animation:\n",
              "      spin 1s steps(1) infinite;\n",
              "  }\n",
              "\n",
              "  @keyframes spin {\n",
              "    0% {\n",
              "      border-color: transparent;\n",
              "      border-bottom-color: var(--fill-color);\n",
              "      border-left-color: var(--fill-color);\n",
              "    }\n",
              "    20% {\n",
              "      border-color: transparent;\n",
              "      border-left-color: var(--fill-color);\n",
              "      border-top-color: var(--fill-color);\n",
              "    }\n",
              "    30% {\n",
              "      border-color: transparent;\n",
              "      border-left-color: var(--fill-color);\n",
              "      border-top-color: var(--fill-color);\n",
              "      border-right-color: var(--fill-color);\n",
              "    }\n",
              "    40% {\n",
              "      border-color: transparent;\n",
              "      border-right-color: var(--fill-color);\n",
              "      border-top-color: var(--fill-color);\n",
              "    }\n",
              "    60% {\n",
              "      border-color: transparent;\n",
              "      border-right-color: var(--fill-color);\n",
              "    }\n",
              "    80% {\n",
              "      border-color: transparent;\n",
              "      border-right-color: var(--fill-color);\n",
              "      border-bottom-color: var(--fill-color);\n",
              "    }\n",
              "    90% {\n",
              "      border-color: transparent;\n",
              "      border-bottom-color: var(--fill-color);\n",
              "    }\n",
              "  }\n",
              "</style>\n",
              "\n",
              "  <script>\n",
              "    async function quickchart(key) {\n",
              "      const quickchartButtonEl =\n",
              "        document.querySelector('#' + key + ' button');\n",
              "      quickchartButtonEl.disabled = true;  // To prevent multiple clicks.\n",
              "      quickchartButtonEl.classList.add('colab-df-spinner');\n",
              "      try {\n",
              "        const charts = await google.colab.kernel.invokeFunction(\n",
              "            'suggestCharts', [key], {});\n",
              "      } catch (error) {\n",
              "        console.error('Error during call to suggestCharts:', error);\n",
              "      }\n",
              "      quickchartButtonEl.classList.remove('colab-df-spinner');\n",
              "      quickchartButtonEl.classList.add('colab-df-quickchart-complete');\n",
              "    }\n",
              "    (() => {\n",
              "      let quickchartButtonEl =\n",
              "        document.querySelector('#df-38cfb7b9-4454-40e5-8a17-37f4933a3b2e button');\n",
              "      quickchartButtonEl.style.display =\n",
              "        google.colab.kernel.accessAllowed ? 'block' : 'none';\n",
              "    })();\n",
              "  </script>\n",
              "</div>\n",
              "    </div>\n",
              "  </div>\n"
            ]
          },
          "metadata": {},
          "execution_count": 31
        }
      ]
    },
    {
      "cell_type": "code",
      "source": [
        "# Normalizing Text (i.e., Stemming, Lemmatization etc.)\n",
        "\n",
        "#applying Lemmatization\n",
        "from nltk.stem import WordNetLemmatizer\n",
        "\n",
        "# Create a lemmatizer\n",
        "lemmatizer = WordNetLemmatizer()\n",
        "\n",
        "def lemmatize_tokens(tokens):\n",
        "  '''function for lemmatization'''\n",
        "  lemmatized_tokens = [lemmatizer.lemmatize(token) for token in tokens]\n",
        "  return lemmatized_tokens\n",
        "\n",
        "# Lemmatize the 'Review' column\n",
        "df['Comment'] = df['Comment'].apply(lemmatize_tokens)"
      ],
      "metadata": {
        "id": "WwWLA5-ZPCsF"
      },
      "execution_count": 18,
      "outputs": []
    },
    {
      "cell_type": "code",
      "source": [
        "# let's create tokens for text data\n",
        "from sklearn.feature_extraction.text import  TfidfVectorizer\n",
        "vectorizer = TfidfVectorizer(tokenizer=lambda x: x, lowercase=False)\n",
        "X = df['Comment']\n",
        "X= vectorizer.fit_transform(X)"
      ],
      "metadata": {
        "colab": {
          "base_uri": "https://localhost:8080/"
        },
        "id": "ggjBWCxOPdIL",
        "outputId": "1dd0d474-3886-4611-e1d1-bbd04091d792"
      },
      "execution_count": 19,
      "outputs": [
        {
          "output_type": "stream",
          "name": "stderr",
          "text": [
            "/usr/local/lib/python3.10/dist-packages/sklearn/feature_extraction/text.py:528: UserWarning: The parameter 'token_pattern' will not be used since 'tokenizer' is not None'\n",
            "  warnings.warn(\n"
          ]
        }
      ]
    },
    {
      "cell_type": "code",
      "source": [
        "# collect the vocabulary items used in the vectorizer to see them\n",
        "dictionary = vectorizer.vocabulary_.items()\n",
        "dictionary"
      ],
      "metadata": {
        "colab": {
          "base_uri": "https://localhost:8080/"
        },
        "id": "KtkHb77NPk9A",
        "outputId": "38038301-27dc-47f0-bd1d-9338e42a4398"
      },
      "execution_count": 20,
      "outputs": [
        {
          "output_type": "execute_result",
          "data": {
            "text/plain": [
              "dict_items([('seriously', 6122), ('hate', 3171), ('one', 4809), ('subject', 6734), ('death', 1688), ('feel', 2571), ('reluctant', 5707), ('drop', 2087), ('full', 2833), ('life', 4028), ('appalled', 335), ('sit', 6289), ('write', 7847), ('start', 6599), ('dig', 1880), ('feeling', 2574), ('think', 7026), ('afraid', 147), ('accept', 34), ('possibility', 5234), ('might', 4379), ('make', 4206), ('really', 5586), ('angry', 273), ('r', 5507), ('like', 4043), ('idiot', 3417), ('trusting', 7241), ('first', 2642), ('place', 5143), ('suspicious', 6834), ('outside', 4877), ('rapture', 5550), ('happened', 3136), ('something', 6450), ('jealous', 3740), ('becasue', 599), ('wanted', 7610), ('kind', 3852), ('love', 4143), ('true', 7234), ('connection', 1382), ('two', 7283), ('soul', 6476), ('friend', 2805), ('mine', 4398), ('keep', 3829), ('telling', 6955), ('morbid', 4470), ('thing', 7025), ('dog', 2013), ('finally', 2621), ('fell', 2577), ('asleep', 410), ('useless', 7456), ('still', 6639), ('anxiety', 308), ('bit', 692), ('annoyed', 289), ('antsy', 307), ('good', 2985), ('way', 7647), ('regained', 5655), ('another', 295), ('vital', 7563), ('part', 4972), ('living', 4082), ('franz', 2783), ('liebkind', 4025), ('producer', 5362), ('many', 4238), ('people', 5038), ('know', 3877), ('fuhrer', 2829), ('terrific', 6986), ('dancer', 1651), ('want', 7609), ('move', 4505), ('much', 4518), ('glad', 2943), ('experience', 2445), ('glimpse', 2958), ('sort', 6474), ('vibrant', 7518), ('energy', 2266), ('gain', 2857), ('year', 7882), ('bitten', 698), ('always', 231), ('find', 2626), ('thankful', 7002), ('gathered', 2880), ('trick', 7214), ('allow', 206), ('grateful', 3025), ('face', 2488), ('moment', 4447), ('last', 3926), ('say', 5984), ('thanks', 7006), ('try', 7246), ('talk', 6898), ('anyone', 314), ('irritable', 3688), ('hated', 3172), ('since', 6271), ('wrote', 7855), ('following', 2721), ('little', 4076), ('note', 4709), ('today', 7101), ('offended', 4776), ('posting', 5239), ('obviously', 4758), ('lived', 4079), ('long', 4110), ('enough', 2286), ('compromised', 1335), ('act', 75), ('believe', 627), ('choose', 1137), ('tell', 6954), ('guy', 3090), ('treated', 7201), ('would', 7835), ('put', 5468), ('stop', 6658), ('nonsense', 4693), ('remember', 5718), ('belong', 637), ('smart', 6354), ('cool', 1458), ('even', 2365), ('young', 7903), ('redeem', 5628), ('though', 7036), ('realized', 5584), ('distraught', 1987), ('ok', 4795), ('hope', 3320), ('next', 4658), ('quote', 5506), ('able', 14), ('let', 4008), ('special', 6503), ('someone', 6447), ('insecure', 3571), ('understand', 7329), ('matter', 4284), ('trust', 7239), ('better', 662), ('without', 7791), ('help', 3232), ('ice', 3403), ('sitting', 6295), ('typing', 7289), ('wondering', 7805), ('distracted', 1984), ('comfortable', 1276), ('misunderstood', 4427), ('hurt', 3383), ('shaky', 6153), ('time', 7075), ('slightly', 6332), ('odd', 4770), ('jade', 3720), ('hair', 3103), ('particular', 4977), ('seems', 6066), ('prone', 5389), ('generally', 2898), ('work', 7814), ('well', 7686), ('spencer', 6513), ('writing', 7850), ('stropped', 6701), ('grumpy', 3069), ('missing', 4419), ('shall', 6154), ('go', 2973), ('mad', 4184), ('happpy', 3142), ('get', 2921), ('result', 5804), ('field', 2603), ('academic', 30), ('athletics', 442), ('got', 2994), ('brig', 840), ('sincere', 6272), ('strong', 6696), ('desire', 1813), ('others', 4861), ('become', 600), ('successful', 6749), ('financially', 2624), ('also', 222), ('building', 885), ('strengthening', 6682), ('relationship', 5683), ('christianity', 1144), ('deeply', 1717), ('overwhelmed', 4905), ('ordinary', 4845), ('task', 6915), ('grouchy', 3057), ('sick', 6239), ('heart', 3203), ('expect', 2439), ('content', 1423), ('amused', 252), ('absurdity', 25), ('end', 2251), ('getting', 2923), ('unwanted', 7422), ('attention', 460), ('boy', 809), ('ill', 3431), ('starting', 6602), ('flirtiing', 2687), ('presence', 5301), ('insincere', 3581), ('around', 374), ('could', 1490), ('bitter', 699), ('towards', 7150), ('great', 3032), ('big', 672), ('happy', 3143), ('grin', 3048), ('back', 511), ('point', 5187), ('easy', 2145), ('sell', 6083), ('folk', 2717), ('virtuous', 7551), ('anyway', 317), ('sociable', 6413), ('although', 227), ('express', 2466), ('everything', 2376), ('joyful', 3780), ('certain', 1049), ('situation', 6296), ('felt', 2580), ('neglected', 4619), ('undeservedly', 7337), ('harmed', 3158), ('fine', 2628), ('looked', 4116), ('u', 7291), ('generation', 2900), ('three', 7041), ('instead', 3595), ('outraged', 4875), ('history', 3272), ('aggression', 158), ('privileged', 5347), ('optimistic', 4836), ('hateful', 3173), ('hollow', 3290), ('yes', 7892), ('hear', 3199), ('smith', 6364), ('day', 1671), ('indecisive', 3513), ('polling', 5204), ('p', 4914), ('sometime', 6451), ('girl', 2935), ('term', 6980), ('exboyfriend', 2395), ('came', 952), ('shout', 6222), ('twelve', 7273), ('midnight', 4376), ('thought', 7037), ('interested', 3626), ('id', 3407), ('resentful', 5772), ('country', 1500), ('sun', 6782), ('stubbornly', 6708), ('refuse', 5651), ('show', 6226), ('september', 6112), ('fucked', 2825), ('confess', 1364), ('nervous', 4632), ('made', 4185), ('event', 2367), ('venue', 7505), ('worried', 7824), ('intimidated', 3643), ('monica', 4456), ('met', 4359), ('morning', 4476), ('incredibly', 3511), ('welcoming', 7684), ('relaxed', 5688), ('straight', 6667), ('away', 495), ('cold', 1248), ('amp', 250), ('patience', 5001), ('whitleys', 7723), ('month', 4461), ('photo', 5094), ('shoot', 6203), ('obnoxious', 4749), ('picture', 5109), ('morally', 4469), ('furious', 2846), ('often', 4790), ('pissed', 5137), ('offer', 4782), ('soda', 6421), ('treading', 7196), ('dangerous', 1654), ('territory', 6989), ('frightened', 2810), ('pleasant', 5169), ('selfish', 6081), ('saying', 5985), ('fallen', 2510), ('apart', 321), ('shafted', 6149), ('greedy', 3038), ('crappy', 1532), ('week', 7669), ('agitated', 161), ('rebellious', 5595), ('particularly', 4978), ('watching', 7640), ('romcoms', 5879), ('may', 4287), ('pretty', 5322), ('leave', 3977), ('alone', 214), ('helping', 3234), ('repay', 5739), ('goodness', 2988), ('ashamed', 401), ('see', 6057), ('terrified', 6987), ('cry', 1596), ('child', 1121), ('dead', 1680), ('wake', 7592), ('voice', 7570), ('throat', 7046), ('afternoon', 150), ('scratchy', 6025), ('sound', 6479), ('marge', 4242), ('simpson', 6268), ('night', 4672), ('bad', 520), ('sore', 6471), ('whisper', 7719), ('talented', 6897), ('enter', 2293), ('official', 4787), ('contest', 1426), ('went', 7688), ('satisfied', 5974), ('knowing', 3878), ('dirt', 1908), ('longer', 4111), ('car', 976), ('house', 3347), ('edition', 2164), ('song', 6457), ('gift', 2928), ('hesitant', 3247), ('programming', 5375), ('bitchy', 695), ('adequately', 101), ('expressed', 2467), ('appreciation', 350), ('confused', 1375), ('professor', 5369), ('look', 4115), ('spitball', 6528), ('dying', 2121), ('pillow', 5120), ('tickle', 7065), ('jealousy', 3741), ('luring', 4172), ('lair', 3906), ('rushed', 5916), ('finish', 2630), ('million', 4392), ('focus', 2711), ('separately', 6109), ('tortured', 7132), ('completely', 1323), ('real', 5576), ('world', 7821), ('taught', 6925), ('struggle', 6704), ('going', 2978), ('thru', 7054), ('nothing', 4712), ('close', 1210), ('taken', 6891), ('role', 5872), ('grandmother', 3018), ('beloved', 641), ('grandma', 3017), ('fear', 2550), ('ask', 406), ('smiled', 6361), ('except', 2399), ('uptight', 7445), ('comment', 1283), ('jaw', 3736), ('fall', 2509), ('right', 5842), ('head', 3185), ('unsure', 7416), ('boundary', 804), ('normalcy', 4699), ('gratitude', 3027), ('gracious', 3005), ('heavenly', 3214), ('father', 2540), ('left', 3983), ('somewhat', 6454), ('dissatisfied', 1975), ('simply', 6267), ('said', 5940), ('sorry', 6473), ('restless', 5802), ('weird', 7681), ('incredible', 3510), ('frantic', 2781), ('despair', 1818), ('hey', 3251), ('take', 6889), ('sip', 6285), ('sensation', 6094), ('iced', 3404), ('capp', 972), ('pressured', 5313), ('longest', 4112), ('race', 5510), ('expected', 2441), ('support', 6799), ('hat', 3169), ('rule', 5906), ('turn', 7266), ('school', 6009), ('sans', 5961), ('ever', 2370), ('entire', 2302), ('affecting', 139), ('never', 4645), ('accounted', 54), ('trauma', 7191), ('bring', 844), ('scared', 5993), ('losing', 4130), ('clearly', 1188), ('influenced', 3539), ('dash', 1663), ('happiness', 3141), ('emily', 2218), ('dickinson', 1868), ('example', 2394), ('use', 7453), ('colon', 1258), ('semi', 6087), ('enhance', 2274), ('enjambment', 2275), ('sonnet', 6460), ('pray', 5270), ('eye', 2481), ('read', 5569), ('mind', 4395), ('comprehend', 1333), ('lot', 4133), ('group', 3060), ('small', 6351), ('hang', 3128), ('failed', 2498), ('examination', 2391), ('train', 7167), ('outdoors', 4868), ('late', 3929), ('bundle', 895), ('wear', 7655), ('several', 6137), ('layer', 3951), ('rather', 5556), ('sleep', 6321), ('purpose', 5459), ('earthquake', 2137), ('shaken', 6151), ('foundation', 2767), ('recreate', 5623), ('fog', 2713), ('awaits', 489), ('tomorrow', 7114), ('woke', 7797), ('positive', 5230), ('totally', 7137), ('mood', 4463), ('evening', 2366), ('banana', 544), ('shake', 6150), ('breakfast', 824), ('chocolate', 1133), ('dinner', 1898), ('sunday', 6784), ('roast', 5863), ('tea', 6931), ('defination', 1732), ('romance', 5877), ('anger', 269), ('mean', 4299), ('terrible', 6984), ('envious', 2314), ('post', 5237), ('regular', 5665), ('interesting', 3627), ('wish', 7780), ('stay', 6618), ('faithful', 2506), ('possible', 5235), ('perceives', 5042), ('mountain', 4499), ('assaulted', 415), ('new', 4648), ('kid', 3843), ('whined', 7710), ('road', 5861), ('initially', 3554), ('rude', 5899), ('turning', 7268), ('food', 2724), ('brought', 862), ('sometimes', 6452), ('eating', 2150), ('stuff', 6716), ('gluten', 2969), ('free', 2790), ('delicious', 1751), ('maybe', 4288), ('mediocre', 4316), ('wedding', 7666), ('cake', 934), ('sure', 6809), ('century', 1047), ('college', 1255), ('friday', 2803), ('kick', 3841), ('gear', 2887), ('motivation', 4491), ('productive', 5365), ('productivity', 5366), ('chalk', 1059), ('idea', 3408), ('art', 386), ('project', 5379), ('summer', 6779), ('army', 373), ('attack', 452), ('pigeon', 5115), ('tiny', 7083), ('uninhabited', 7372), ('island', 3694), ('already', 220), ('convinced', 1451), ('bothered', 794), ('beat', 592), ('far', 2526), ('basically', 569), ('drove', 2089), ('class', 1172), ('apprehensive', 352), ('sweat', 6841), ('wronged', 7853), ('curse', 1620), ('bang', 548), ('onto', 4814), ('wall', 7600), ('wrinkle', 7844), ('prevention', 5325), ('beauty', 597), ('product', 5363), ('reason', 5588), ('thus', 7058), ('gotten', 2996), ('student', 6711), ('parent', 4963), ('can', 958), ('not', 4708), ('difference', 1875), ('open', 4818), ('teacher', 6933), ('perfect', 5045), ('fit', 2647), ('islam', 3693), ('insecurity', 3573), ('started', 6600), ('pictured', 5110), ('deep', 1715), ('alaska', 186), ('snowy', 6402), ('yet', 7894), ('land', 3913), ('pine', 5125), ('tree', 7204), ('destined', 1828), ('live', 4077), ('southern', 6485), ('california', 939), ('shy', 6235), ('taking', 6894), ('mother', 4483), ('described', 1801), ('ring', 5848), ('arm', 369), ('leg', 3984), ('cranky', 1529), ('cantankerous', 967), ('slave', 6320), ('almost', 212), ('rely', 5708), ('heavily', 3216), ('either', 2188), ('alcohol', 192), ('marijuana', 4248), ('separation', 6111), ('divorce', 2001), ('space', 6488), ('sanity', 5960), ('maternal', 4283), ('responsibility', 5796), ('crazy', 1540), ('thank', 7000), ('god', 2975), ('craving', 1535), ('fruit', 2820), ('gross', 3054), ('wind', 7758), ('blowing', 742), ('neck', 4608), ('talking', 6901), ('execution', 2417), ('theme', 7010), ('seem', 6062), ('large', 3922), ('fathom', 2541), ('emotionless', 2226), ('pit', 5138), ('self', 6080), ('begun', 614), ('thick', 7021), ('black', 703), ('rain', 5526), ('cloud', 1219), ('stormed', 6664), ('sky', 6312), ('town', 7151), ('pop', 5211), ('automatically', 480), ('seeing', 6058), ('shut', 6233), ('door', 2030), ('triumphant', 7226), ('breath', 828), ('whispered', 7720), ('hertha', 3245), ('ran', 5536), ('finger', 2629), ('across', 74), ('side', 6242), ('gave', 2885), ('plenty', 5175), ('change', 1067), ('shine', 6186), ('every', 2372), ('woman', 7799), ('problem', 5353), ('five', 2651), ('old', 4798), ('element', 2197), ('pleased', 5171), ('surrounded', 6823), ('adorable', 121), ('garment', 2873), ('reading', 5571), ('hell', 3230), ('casual', 1008), ('favorite', 2546), ('blue', 746), ('red', 5625), ('heavy', 3219), ('color', 1259), ('table', 6878), ('otherwise', 4862), ('tournament', 7148), ('deck', 1704), ('popular', 5215), ('possibly', 5236), ('step', 6629), ('zendikar', 7920), ('block', 729), ('rotates', 5886), ('valid', 7478), ('complaint', 1319), ('willing', 7751), ('deal', 1683), ('aspect', 411), ('imagine', 3440), ('subjective', 6735), ('cover', 1510), ('based', 565), ('despite', 1824), ('must', 4549), ('choice', 1135), ('alteration', 223), ('done', 2022), ('elsewhere', 2205), ('noticed', 4716), ('irritated', 3689), ('easily', 2143), ('ache', 61), ('inside', 3576), ('unnoticeable', 7396), ('burrowed', 910), ('foot', 2729), ('emotion', 2223), ('freaked', 2787), ('fearful', 2552), ('welling', 7687), ('chest', 1115), ('extremely', 2479), ('attribute', 466), ('overshadowed', 4898), ('weakness', 7652), ('subconsciously', 6731), ('wired', 7774), ('superior', 6791), ('thereby', 7017), ('treat', 7200), ('differently', 1877), ('hard', 3148), ('hour', 3345), ('assumption', 429), ('wondered', 7802), ('strange', 6672), ('understands', 7331), ('walk', 7597), ('customer', 1624), ('maze', 4289), ('found', 2766), ('email', 2208), ('scott', 6020), ('dale', 1639), ('frusterated', 2821), ('need', 4610), ('neurotic', 4643), ('freak', 2786), ('neglecting', 4620), ('stubborn', 6707), ('sneakily', 6385), ('listen', 4068), ('x', 7862), ('ma', 4180), ('music', 4544), ('beginning', 613), ('october', 4769), ('socially', 6417), ('acceptable', 35), ('prance', 5267), ('eartha', 2136), ('kitt', 3865), ('version', 7512), ('santa', 5962), ('baby', 509), ('blare', 714), ('ipod', 3674), ('normally', 4701), ('type', 7286), ('typically', 7288), ('respond', 5792), ('wearing', 7657), ('confident', 1367), ('threw', 7042), ('top', 7124), ('tube', 7252), ('surgery', 6815), ('unprotected', 7399), ('artistic', 393), ('managed', 4219), ('eat', 2146), ('usually', 7462), ('mostly', 4482), ('jon', 3768), ('quite', 5500), ('spent', 6516), ('emotional', 2224), ('mental', 4339), ('argue', 366), ('succumb', 6751), ('thankfully', 7003), ('hold', 3283), ('strength', 6681), ('determined', 1840), ('motivated', 4489), ('workout', 7819), ('room', 5881), ('doubtful', 2041), ('dream', 2071), ('behind', 620), ('enraged', 2287), ('punch', 5445), ('actually', 88), ('everyone', 2375), ('buy', 922), ('smell', 6357), ('amazing', 232), ('sooner', 6464), ('greg', 3041), ('distressed', 1989), ('mom', 4446), ('excited', 2406), ('smile', 6360), ('anxious', 309), ('visable', 7553), ('spotlighted', 6551), ('different', 1876), ('unfashionable', 7353), ('stupid', 6721), ('embarrassed', 2212), ('paranoid', 4959), ('seen', 6067), ('ago', 163), ('walked', 7598), ('inspired', 3588), ('realistic', 5580), ('increase', 3507), ('blog', 732), ('chance', 1066), ('disappointed', 1917), ('shown', 6230), ('apparently', 337), ('impatient', 3454), ('period', 5054), ('hp', 3351), ('plugged', 5180), ('laptop', 3921), ('charging', 1080), ('making', 4208), ('upload', 7435), ('online', 4811), ('notice', 4715), ('fabulous', 2487), ('hiding', 3256), ('according', 52), ('rest', 5798), ('keenly', 3828), ('greatly', 3035), ('stitch', 6649), ('mile', 4386), ('etc', 2347), ('uncomfortable', 7317), ('presentation', 5303), ('option', 4837), ('violent', 7545), ('probably', 5351), ('costly', 1484), ('equally', 2325), ('futile', 2850), ('keeping', 3830), ('men', 4336), ('harm', 3157), ('collected', 1252), ('create', 1542), ('precious', 5276), ('item', 3707), ('tribute', 7213), ('earth', 2135), ('power', 5252), ('generosity', 2904), ('majorly', 4204), ('cast', 1007), ('alternate', 224), ('universe', 7381), ('wrong', 7852), ('timeline', 7076), ('stuck', 6709), ('knew', 3870), ('dress', 2074), ('practise', 5262), ('thai', 6999), ('introduction', 3649), ('session', 6129), ('sat', 5972), ('helpless', 3235), ('disgusted', 1945), ('referred', 5639), ('ugly', 7296), ('angered', 270), ('walking', 7599), ('handmade', 3124), ('piece', 5112), ('pcm', 5018), ('follow', 2718), ('appointment', 347), ('hopeful', 3322), ('asked', 407), ('prom', 5383), ('accepted', 37), ('invitation', 3665), ('heartbroken', 3205), ('wimpy', 7756), ('skip', 6309), ('safe', 5934), ('argument', 368), ('rough', 5890), ('picking', 5106), ('toy', 7153), ('goddamn', 2976), ('hopped', 3328), ('scale', 5988), ('none', 4691), ('appreciate', 348), ('award', 491), ('wonderful', 7803), ('winner', 7765), ('fun', 2838), ('movie', 4508), ('least', 3975), ('number', 4730), ('held', 3229), ('mystical', 4558), ('key', 3835), ('government', 2997), ('conspiracy', 1400), ('harmful', 3159), ('hurting', 3385), ('wrongly', 7854), ('undo', 7338), ('pain', 4932), ('childhood', 1122), ('bigotry', 675), ('bind', 679), ('path', 4998), ('decide', 1698), ('give', 2938), ('rupee', 5914), ('nowhere', 4724), ('used', 7454), ('brave', 820), ('nice', 4661), ('tip', 7084), ('skeptical', 6301), ('painting', 4936), ('nail', 4568), ('light', 4035), ('skin', 6306), ('stand', 6591), ('cute', 1626), ('looking', 4118), ('trying', 7247), ('hooker', 3318), ('ward', 7613), ('epileptic', 2321), ('patient', 5002), ('burnt', 909), ('whole', 7725), ('body', 759), ('stinking', 6645), ('affected', 138), ('come', 1272), ('near', 4601), ('grown', 3065), ('accustomed', 60), ('creative', 1546), ('freedom', 2791), ('dance', 1649), ('play', 5161), ('guitar', 3081), ('inhibited', 3550), ('ear', 2128), ('divine', 1998), ('quaking', 5478), ('boat', 753), ('shore', 6209), ('run', 5908), ('paulie', 5010), ('visibly', 7555), ('perception', 5043), ('performance', 5048), ('canon', 966), ('mark', 4249), ('iii', 3430), ('generous', 2905), ('wonder', 7801), ('genentech', 2896), ('hostile', 3341), ('takeover', 6892), ('global', 2962), ('partner', 4980), ('sarah', 5964), ('supporting', 6802), ('truly', 7237), ('wanting', 7611), ('list', 4067), ('married', 4253), ('baptized', 554), ('honestly', 3307), ('atm', 446), ('clever', 1192), ('rightly', 5843), ('noted', 4711), ('aunt', 472), ('flee', 2672), ('damn', 1645), ('baltic', 541), ('sea', 6039), ('share', 6163), ('jolly', 3767), ('throng', 7049), ('lost', 4132), ('fervor', 2587), ('green', 3039), ('wallet', 7601), ('encouraged', 2249), ('constant', 1401), ('barrage', 562), ('pressure', 5312), ('angle', 272), ('shop', 6206), ('blah', 709), ('lonely', 4108), ('esily', 2337), ('airritated', 180), ('decided', 1699), ('intentionally', 3620), ('easier', 2141), ('admitting', 117), ('job', 3760), ('called', 941), ('sharknado', 6167), ('intelligence', 3609), ('insulted', 3602), ('blown', 743), ('money', 4455), ('meant', 4302), ('pay', 5015), ('rego', 5663), ('told', 7108), ('continue', 1430), ('frustrated', 2822), ('calm', 946), ('disadvantaged', 1912), ('exciting', 2409), ('entertainment', 2298), ('home', 3296), ('opportunity', 4829), ('familiar', 2515), ('nature', 4592), ('capable', 970), ('depressed', 1791), ('general', 2897), ('joy', 3779), ('excitement', 2408), ('receive', 5598), ('ordinance', 4844), ('worry', 7825), ('spending', 6515), ('computer', 1337), ('party', 4981), ('call', 940), ('carefree', 986), ('contented', 1424), ('listening', 4071), ('flirty', 2688), ('urgent', 7448), ('file', 2612), ('lead', 3960), ('develop', 1846), ('promised', 5386), ('guess', 3073), ('avoiding', 487), ('conversation', 1448), ('confidence', 1366), ('tired', 7088), ('grab', 3000), ('seat', 6045), ('contemplating', 1422), ('hopeless', 3324), ('credit', 1553), ('equal', 2324), ('debt', 1691), ('interest', 3625), ('rant', 5543), ('conscious', 1385), ('short', 6210), ('wishing', 7783), ('petty', 5084), ('extent', 2472), ('human', 3364), ('war', 7612), ('loving', 4147), ('murder', 4537), ('unhappiness', 7363), ('stopping', 6660), ('yesterday', 7893), ('highschool', 3262), ('sigh', 6247), ('menu', 4344), ('tonight', 7120), ('anything', 316), ('speak', 6499), ('shaun', 6172), ('passed', 4985), ('dlpt', 2006), ('stressed', 6684), ('watch', 7637), ('street', 6680), ('slough', 6342), ('carapace', 978), ('crud', 1584), ('enveloped', 2312), ('past', 4993), ('thirty', 7029), ('invigorated', 3664), ('ready', 5574), ('discovered', 1932), ('satisfaction', 5973), ('produce', 5361), ('dish', 1947), ('written', 7851), ('recipe', 5606), ('tangible', 6905), ('completed', 1322), ('rare', 5551), ('visit', 7557), ('sister', 6288), ('clear', 1185), ('conscience', 1384), ('insignificant', 3580), ('bored', 786), ('regret', 5664), ('allowed', 207), ('johann', 3762), ('accompany', 46), ('khartoum', 3838), ('rally', 5531), ('present', 5302), ('descara', 1799), ('factor', 2492), ('culture', 1605), ('cooking', 1456), ('mystique', 4559), ('sad', 5929), ('festive', 2589), ('professional', 5368), ('unpressed', 7398), ('outlet', 4873), ('supportive', 6803), ('campaign', 956), ('senator', 6088), ('jackson', 3718), ('cnn', 1231), ('second', 6048), ('entered', 2294), ('division', 2000), ('greeted', 3040), ('everybody', 2373), ('shoulding', 6221), ('teenager', 6948), ('sarcastic', 5967), ('kindly', 3854), ('fuck', 2824), ('window', 7760), ('resonates', 5785), ('uncaring', 7311), ('exists', 2435), ('aware', 492), ('uncertain', 7312), ('abc', 8), ('link', 4061), ('china', 1127), ('hearing', 3201), ('unique', 7376), ('communication', 1295), ('nellie', 4625), ('phone', 5093), ('rang', 5540), ('leslie', 4003), ('seldom', 6075), ('slow', 6343), ('partly', 4979), ('win', 7757), ('push', 5464), ('kill', 3846), ('count', 1496), ('anymore', 313), ('faith', 2505), ('core', 1471), ('ending', 2255), ('missed', 4417), ('sign', 6251), ('story', 6666), ('happens', 3138), ('addictive', 96), ('passing', 4988), ('edge', 2161), ('whether', 7706), ('fight', 2607), ('crazily', 1538), ('impulsive', 3482), ('suffering', 6764), ('heartless', 3209), ('ability', 12), ('mourn', 4501), ('relating', 5681), ('grandparent', 3019), ('grow', 3062), ('wing', 7763), ('fly', 2707), ('infuriated', 3546), ('disease', 1941), ('cajoled', 933), ('bullied', 887), ('ordered', 4841), ('running', 5912), ('police', 5194), ('sheriff', 6180), ('tsa', 7248), ('especially', 2339), ('lively', 4081), ('mention', 4342), ('vulnerable', 7583), ('someway', 6453), ('le', 3958), ('energetic', 2262), ('exercise', 2420), ('minute', 4405), ('awake', 490), ('energized', 2265), ('focused', 2712), ('person', 5065), ('liking', 4050), ('justly', 3811), ('thinking', 7027), ('brewing', 836), ('actual', 86), ('weather', 7658), ('expressive', 2470), ('control', 1441), ('issue', 3701), ('badly', 522), ('safety', 5936), ('net', 4639), ('blink', 726), ('decision', 1703), ('crap', 1531), ('despised', 1823), ('crumbling', 1587), ('bore', 785), ('fierce', 2604), ('medium', 4320), ('egypt', 2181), ('track', 7154), ('manage', 4217), ('wisely', 7778), ('sadness', 5933), ('word', 7812), ('hero', 3242), ('substance', 6740), ('tipping', 7085), ('backwards', 519), ('ambitious', 237), ('book', 776), ('touch', 7140), ('spinning', 6524), ('alright', 221), ('heard', 3200), ('somehow', 6445), ('brings', 846), ('explaining', 2452), ('biggest', 674), ('bottling', 798), ('dumping', 2111), ('search', 6041), ('difficult', 1878), ('caught', 1020), ('therefore', 7018), ('catch', 1013), ('criminal', 1563), ('crime', 1562), ('join', 3763), ('creating', 1544), ('powerful', 5253), ('awful', 497), ('ocean', 4768), ('surround', 6822), ('happen', 3135), ('daily', 1638), ('basis', 570), ('needed', 4611), ('dragging', 2057), ('combo', 1271), ('language', 3916), ('barrier', 563), ('nap', 4579), ('schedule', 6004), ('horsey', 3336), ('lucky', 4159), ('study', 6714), ('indeed', 3514), ('christian', 1143), ('latter', 3935), ('saint', 5942), ('ate', 434), ('motif', 4486), ('inbalance', 3486), ('committment', 1290), ('process', 5355), ('counselling', 1494), ('reconciliation', 5617), ('embrace', 2215), ('knowledge', 3880), ('learn', 3970), ('daydreamed', 1674), ('learning', 3972), ('useful', 7455), ('serf', 6116), ('reminder', 5724), ('vertigo', 7514), ('blood', 738), ('vein', 7499), ('super', 6789), ('engineering', 2271), ('whatever', 7696), ('kept', 3834), ('quiet', 5495), ('threatened', 7040), ('illness', 3432), ('lose', 4128), ('hoping', 3327), ('ahead', 171), ('navigating', 4597), ('delighted', 1753), ('punching', 5447), ('headed', 3187), ('trail', 7165), ('wood', 7807), ('vibe', 7517), ('indulgence', 3528), ('audacity', 468), ('british', 849), ('admit', 113), ('failure', 2501), ('charmed', 1085), ('chapter', 1075), ('meet', 4322), ('everyday', 2374), ('privately', 5346), ('couple', 1501), ('targeted', 6912), ('belittled', 632), ('honoured', 3314), ('client', 1197), ('brand', 816), ('film', 2616), ('appreciative', 351), ('innanimate', 3562), ('object', 4745), ('set', 6130), ('model', 4438), ('carpet', 995), ('putting', 5470), ('page', 4928), ('hit', 3273), ('tempting', 6965), ('fate', 2539), ('watched', 7638), ('snow', 6399), ('accumulate', 56), ('conifer', 1379), ('shoveling', 6225), ('shirt', 6190), ('sleeve', 6324), ('vigorous', 7534), ('outcome', 4867), ('explored', 2459), ('style', 6726), ('remained', 5711), ('teach', 6932), ('middle', 4374), ('f', 2484), ('tend', 6968), ('water', 7641), ('quickly', 5494), ('flatmate', 2663), ('asking', 408), ('question', 5489), ('boyfriend', 810), ('chosen', 1141), ('tat', 6922), ('depending', 1785), ('born', 788), ('errrr', 2331), ('dun', 2112), ('realise', 5577), ('lol', 4101), ('noe', 4682), ('lame', 3911), ('img', 3444), ('src', 6576), ('http', 3354), ('shared', 6164), ('caveman', 1029), ('complimented', 1330), ('high', 3257), ('ecstatic', 2159), ('normal', 4698), ('thousand', 7038), ('unhappy', 7364), ('excruciating', 2412), ('lovely', 4145), ('wintry', 7770), ('scene', 5998), ('href', 3353), ('worked', 7815), ('leaf', 3965), ('enjoy', 2276), ('banter', 552), ('seth', 6131), ('apologizes', 331), ('behavior', 618), ('lock', 4092), ('playing', 5165), ('eager', 2125), ('obvious', 4757), ('chinese', 1128), ('company', 1302), ('future', 2852), ('dave', 1668), ('atell', 435), ('blurting', 749), ('tone', 7116), ('figured', 2611), ('deserve', 1806), ('heinously', 3228), ('hot', 3342), ('bath', 574), ('inclined', 3494), ('lazy', 3956), ('fed', 2559), ('lab', 3891), ('rat', 5554), ('however', 3350), ('uttering', 7468), ('flight', 2680), ('novel', 4721), ('traveling', 7194), ('plot', 5178), ('tangent', 6904), ('arrived', 382), ('gym', 3092), ('ball', 537), ('sunshine', 6787), ('welcomed', 7683), ('dorky', 2035), ('unfit', 7356), ('rotund', 5888), ('sloth', 6341), ('environment', 2316), ('buffed', 881), ('bloke', 736), ('giving', 2942), ('response', 5795), ('reach', 5563), ('weakest', 7651), ('risk', 5857), ('staring', 6598), ('examining', 2393), ('dimple', 1891), ('thigh', 7023), ('sag', 5937), ('blessed', 721), ('marrying', 4255), ('family', 2516), ('caffeine', 929), ('coping', 1467), ('method', 4365), ('unnecessary', 7395), ('huge', 3359), ('discus', 1935), ('changing', 1070), ('glued', 2968), ('bed', 604), ('initial', 3553), ('splash', 6532), ('stroke', 6694), ('bone', 773), ('care', 982), ('nauseous', 4596), ('elated', 2190), ('crawl', 1536), ('whine', 7709), ('consumed', 1413), ('killed', 3847), ('conveniently', 1445), ('uninformed', 7371), ('specific', 6505), ('mistake', 4423), ('played', 5162), ('fps', 2772), ('game', 2864), ('mentally', 4341), ('emotionally', 2225), ('switch', 6859), ('important', 3464), ('brain', 813), ('working', 7817), ('evolve', 2383), ('transcend', 7177), ('along', 215), ('journey', 3778), ('continued', 1431), ('flexy', 2677), ('shoe', 6199), ('soaked', 6405), ('else', 2204), ('peer', 5029), ('stagnate', 6586), ('delivery', 1757), ('hopefully', 3323), ('vbac', 7491), ('planned', 5151), ('security', 6056), ('character', 1076), ('hostel', 3340), ('break', 823), ('star', 6595), ('emerge', 2216), ('bah', 530), ('adventurous', 129), ('lipstick', 4065), ('rouge', 5889), ('artist', 392), ('intense', 3613), ('hitting', 3274), ('victorious', 7524), ('brother', 860), ('impostor', 3468), ('visitor', 7560), ('el', 2189), ('technically', 6940), ('laugh', 3936), ('order', 4840), ('card', 981), ('mass', 4271), ('talent', 6896), ('etsy', 2353), ('ya', 7875), ('allah', 202), ('puff', 5435), ('man', 4216), ('equivalent', 2326), ('crack', 1521), ('couch', 1487), ('cushion', 1622), ('lounge', 4142), ('pool', 5208), ('depends', 1786), ('yeah', 7881), ('tenge', 6974), ('anywhere', 319), ('overhear', 4891), ('victory', 7525), ('tune', 7259), ('geek', 2890), ('ringtone', 5850), ('fact', 2491), ('coming', 1281), ('grasp', 3023), ('ended', 2254), ('clothes', 1217), ('laying', 3952), ('closed', 1211), ('eventually', 2369), ('pinnacle', 5128), ('non', 4689), ('materialistic', 4282), ('fault', 2542), ('caused', 1022), ('abandon', 4), ('innocent', 3565), ('barely', 560), ('breathing', 831), ('report', 5751), ('urge', 7446), ('smack', 6350), ('olivia', 4801), ('production', 5364), ('four', 2770), ('fashion', 2531), ('passionate', 4990), ('robot', 5867), ('worthwhile', 7833), ('document', 2010), ('batch', 573), ('grounded', 3059), ('formulate', 2756), ('smash', 6356), ('round', 5891), ('proud', 5409), ('suggestion', 6770), ('relates', 5680), ('workplace', 7820), ('lower', 4149), ('status', 6617), ('higher', 3258), ('momentarily', 4448), ('began', 610), ('disappointment', 1918), ('tour', 7146), ('ick', 3405), ('nerve', 4631), ('given', 2940), ('boring', 787), ('assignment', 420), ('saturday', 5975), ('attempt', 455), ('coloring', 1261), ('later', 3931), ('genre', 2908), ('literary', 4074), ('fiction', 2600), ('legitimate', 3989), ('analyze', 257), ('awfully', 498), ('glamorous', 2944), ('sensational', 6095), ('heat', 3210), ('ash', 400), ('stench', 6628), ('greasy', 3031), ('basic', 568), ('yeast', 7887), ('infection', 3534), ('mode', 4437), ('drive', 2082), ('thief', 7022), ('stolen', 6653), ('exposure', 2465), ('crudely', 1585), ('camera', 953), ('ancient', 260), ('upset', 7441), ('transformed', 7181), ('state', 6609), ('yelled', 7889), ('existed', 2432), ('vanquished', 7483), ('england', 2272), ('improve', 3478), ('similar', 6262), ('die', 1871), ('wash', 7630), ('succeed', 6746), ('insane', 3569), ('forego', 2739), ('favor', 2544), ('futon', 2851), ('relative', 5684), ('slowly', 6345), ('frozen', 2818), ('forgive', 2746), ('accepting', 38), ('allowing', 208), ('application', 344), ('within', 7790), ('reveal', 5819), ('concerned', 1344), ('marriage', 4252), ('seriousness', 6123), ('elderly', 2193), ('oven', 4882), ('accident', 42), ('total', 7135), ('wipe', 7772), ('timid', 7079), ('usual', 7461), ('becoming', 602), ('norm', 4697), ('warmth', 7623), ('stillness', 6641), ('comforted', 1277), ('ushering', 7458), ('traumatic', 7192), ('injury', 3558), ('toll', 7111), ('physical', 5099), ('capacity', 971), ('spring', 6558), ('fling', 2683), ('flower', 2700), ('unfurling', 7361), ('forth', 2758), ('effort', 2175), ('sooo', 6465), ('regain', 5654), ('definitely', 1735), ('extra', 2476), ('annoyance', 288), ('reality', 5581), ('talked', 6900), ('doctor', 2009), ('approach', 353), ('together', 7106), ('ailment', 174), ('rediculous', 5630), ('justified', 3807), ('flung', 2701), ('suitcase', 6774), ('crossing', 1579), ('explode', 2455), ('pressurized', 5314), ('cabin', 927), ('splendid', 6533), ('pathetic', 4999), ('various', 7486), ('doubt', 2040), ('luck', 4157), ('material', 4281), ('kit', 3862), ('site', 6291), ('beautifully', 596), ('curated', 1610), ('okay', 4796), ('empathize', 2227), ('jim', 3759), ('dancing', 1652), ('cliff', 1198), ('alternated', 225), ('leaving', 3978), ('newborn', 4650), ('son', 6456), ('conflicted', 1371), ('follower', 2720), ('christ', 1142), ('celebrate', 1036), ('pagan', 4927), ('originated', 4857), ('modern', 4439), ('holiday', 3286), ('tension', 6977), ('resolved', 5784), ('stare', 6596), ('utterly', 7469), ('enjoying', 2279), ('forward', 2763), ('unknown', 7386), ('autumn', 481), ('winter', 7767), ('suddenly', 6759), ('measuring', 4305), ('drinking', 2081), ('nearly', 4604), ('tracking', 7155), ('fitness', 2648), ('overall', 4883), ('unfocused', 7357), ('steady', 6621), ('scoffing', 6015), ('strategy', 6676), ('benefited', 650), ('information', 3543), ('learnt', 3974), ('practice', 5259), ('inspiring', 3590), ('return', 5814), ('moz', 4511), ('uncertainty', 7313), ('consolidate', 1399), ('evaluate', 2360), ('providing', 5416), ('vicarious', 7520), ('sarcasm', 5966), ('print', 5338), ('influence', 3538), ('pointing', 5188), ('discomfort', 1926), ('cru', 1583), ('australia', 474), ('criticizing', 1569), ('praising', 5265), ('waiting', 7590), ('tax', 6927), ('mail', 4193), ('letter', 4011), ('jason', 3735), ('employer', 2232), ('disorganised', 1957), ('answer', 298), ('unable', 7305), ('forget', 2744), ('logical', 4099), ('uuuugh', 7470), ('remotely', 5729), ('dignified', 1883), ('tasteful', 6918), ('golden', 2980), ('heated', 3211), ('discussion', 1938), ('spouse', 6552), ('concerning', 1345), ('scenario', 5997), ('connected', 1381), ('prolonged', 5382), ('contact', 1418), ('sex', 6141), ('subsequently', 6739), ('blogger', 733), ('exception', 2400), ('aesthetic', 134), ('numb', 4729), ('worthless', 7832), ('forgot', 2748), ('med', 4308), ('predictably', 5285), ('bitch', 693), ('hand', 3115), ('cupcake', 1609), ('dare', 1657), ('billy', 678), ('blank', 713), ('jump', 3797), ('screen', 6029), ('yell', 7888), ('fierceness', 2605), ('medication', 4314), ('fantastic', 2524), ('occured', 4765), ('preparing', 5298), ('midterm', 4378), ('social', 6414), ('welfare', 7685), ('unprepared', 7397), ('nasty', 4585), ('temple', 6961), ('vaguely', 7474), ('as', 398), ('hole', 3285), ('hookah', 3317), ('add', 93), ('dear', 1687), ('pleasure', 5174), ('air', 177), ('roof', 5880), ('ground', 3058), ('savage', 5979), ('returning', 5816), ('wild', 7746), ('native', 4589), ('habit', 3095), ('involved', 3669), ('tale', 6895), ('versus', 7513), ('evil', 2381), ('dark', 1658), ('limited', 4056), ('current', 1617), ('arrangment', 378), ('strangely', 6673), ('barbie', 557), ('doll', 2015), ('decorate', 1708), ('heel', 3223), ('coz', 1516), ('struggling', 6706), ('bedroom', 605), ('expectation', 2440), ('upon', 7437), ('disappoint', 1916), ('tugging', 7257), ('relieved', 5699), ('shot', 6218), ('lupron', 4170), ('peaceful', 5022), ('sense', 6096), ('pm', 5183), ('linda', 4057), ('accomplished', 48), ('rarely', 5552), ('affirmation', 142), ('nevermind', 4646), ('due', 2101), ('deliberation', 1749), ('agree', 165), ('respected', 5790), ('sake', 5943), ('overcoming', 4886), ('shackle', 6146), ('society', 6418), ('beholder', 621), ('beautiful', 595), ('compliment', 1329), ('statement', 6611), ('valuable', 7480), ('needing', 4612), ('constraint', 1406), ('guessing', 3075), ('standing', 6594), ('moving', 4509), ('crowd', 1581), ('smoking', 6367), ('lung', 4168), ('veer', 7492), ('disorientated', 1958), ('queasy', 5484), ('rich', 5835), ('pas', 4982), ('penny', 5035), ('fresh', 2797), ('sight', 6249), ('improved', 3479), ('distance', 1979), ('sampled', 5952), ('stretch', 6686), ('nodded', 4681), ('procure', 5360), ('pump', 5441), ('smug', 6374), ('jubilant', 3783), ('arrival', 380), ('gate', 2877), ('thrilled', 7044), ('market', 4250), ('position', 5228), ('trader', 7159), ('mellow', 4328), ('soft', 6425), ('topic', 7125), ('backing', 515), ('relying', 5709), ('solely', 6432), ('opinion', 4825), ('changed', 1068), ('contentedly', 1425), ('low', 4148), ('older', 4800), ('sd', 6038), ('rewarded', 5829), ('sticking', 6637), ('bench', 645), ('favs', 2549), ('wrist', 7845), ('turbillion', 7262), ('hong', 3310), ('kong', 3884), ('huckleberry', 3357), ('finn', 2634), ('censored', 1041), ('psyched', 5422), ('relax', 5686), ('extension', 2471), ('wait', 7588), ('camp', 955), ('hacking', 3097), ('coughing', 1489), ('spluttering', 6537), ('contribution', 1440), ('insight', 3579), ('network', 4641), ('currently', 1618), ('drs', 2091), ('office', 4785), ('heck', 3220), ('tied', 7067), ('occupy', 4763), ('picnic', 5108), ('james', 3725), ('repeat', 5740), ('soon', 6463), ('husband', 3386), ('grandchild', 3014), ('mum', 4531), ('scream', 6026), ('bastard', 572), ('revolve', 5827), ('recless', 5610), ('mamma', 4213), ('headlock', 3191), ('whooooos', 7732), ('whooooooooos', 7731), ('whooooo', 7730), ('craaaaaaack', 1519), ('feelin', 2573), ('spiteful', 6530), ('finland', 2633), ('dropping', 2088), ('mosquito', 4480), ('squeal', 6571), ('miss', 4415), ('member', 4334), ('horribly', 3332), ('tragic', 7164), ('transpired', 7185), ('inanimate', 3485), ('stepped', 6630), ('candyland', 965), ('haggard', 3100), ('radiant', 5515), ('bag', 526), ('course', 1504), ('resolve', 5783), ('grievance', 3045), ('christmas', 1146), ('isolation', 3697), ('lack', 3896), ('hypocrite', 3397), ('palin', 4940), ('publishing', 5434), ('fan', 2518), ('london', 4105), ('grammar', 3012), ('disclosure', 1924), ('collaboration', 1249), ('mouse', 4502), ('among', 246), ('perpetually', 5061), ('delve', 1760), ('unworthy', 7427), ('playful', 5164), ('monthe', 4462), ('weight', 7677), ('healthy', 3197), ('outfit', 4870), ('explain', 2451), ('encapsulate', 2243), ('ness', 4636), ('bouncy', 803), ('energised', 2264), ('socialise', 6415), ('smiley', 6362), ('emo', 2221), ('comfort', 1275), ('zone', 7926), ('tad', 6883), ('hears', 3202), ('whenever', 7701), ('stopped', 6659), ('wod', 7796), ('balance', 533), ('harder', 3152), ('outgoing', 4871), ('smooch', 6368), ('stock', 6651), ('survived', 6828), ('comprehensive', 1334), ('exam', 2390), ('survive', 6827), ('respect', 5789), ('pull', 5436), ('fix', 2652), ('terribly', 6985), ('spiritual', 6526), ('awareness', 493), ('readjust', 5572), ('pick', 5104), ('centre', 1046), ('glamour', 2945), ('glamourous', 2946), ('medical', 4312), ('assistant', 422), ('existing', 2434), ('symbol', 6865), ('musical', 4545), ('taste', 6917), ('wanders', 7607), ('techno', 6942), ('slander', 6315), ('benevolent', 651), ('imagined', 3441), ('zombie', 7925), ('blocking', 731), ('passionately', 4991), ('knitter', 3873), ('withdraw', 7786), ('combat', 1267), ('trainer', 7169), ('socialize', 6416), ('eight', 2186), ('text', 6996), ('host', 3338), ('span', 6491), ('spend', 6514), ('biochem', 683), ('disdain', 1939), ('hatred', 3176), ('nothingness', 4713), ('laced', 3895), ('repulsion', 5759), ('horrible', 3331), ('immedietly', 3448), ('wal', 7594), ('mart', 4258), ('box', 807), ('description', 1804), ('brown', 864), ('copying', 1470), ('handsome', 3126), ('yay', 7880), ('whoop', 7733), ('holler', 3289), ('unless', 7388), ('occasion', 4759), ('suitably', 6773), ('constipated', 1403), ('yhhhay', 7895), ('falling', 2511), ('slumber', 6347), ('accurate', 59), ('intention', 3617), ('irate', 3676), ('conference', 1363), ('being', 624), ('weekend', 7670), ('locking', 4095), ('organized', 4850), ('isolated', 3696), ('recommendation', 5615), ('function', 2839), ('web', 7661), ('searched', 6042), ('advertising', 130), ('fleshed', 2674), ('fluttering', 2706), ('ignorant', 3425), ('input', 3567), ('naight', 4567), ('fulfilled', 2831), ('lacking', 3897), ('emptied', 2237), ('worn', 7823), ('concealer', 1339), ('pale', 4939), ('co', 1232), ('answering', 300), ('doorway', 2031), ('flicking', 2679), ('depth', 1793), ('spirit', 6525), ('reaction', 5567), ('ffs', 2596), ('twitter', 7282), ('recently', 5603), ('handheld', 3120), ('cam', 950), ('facebook', 2489), ('update', 7431), ('he', 3184), ('toward', 7149), ('patrick', 5004), ('avery', 484), ('nightly', 4674), ('jerry', 3750), ('sloan', 6337), ('utah', 7463), ('jazz', 3737), ('forced', 2734), ('stomach', 6654), ('series', 6117), ('silly', 6260), ('brilliant', 843), ('comic', 1280), ('actor', 84), ('sweet', 6846), ('hearted', 3207), ('pole', 5193), ('pair', 4937), ('price', 5329), ('stats', 6616), ('review', 5825), ('programme', 5374), ('staying', 6620), ('placce', 5142), ('outright', 4876), ('remark', 5714), ('male', 4209), ('colleague', 1251), ('likeable', 4044), ('birding', 687), ('reached', 5564), ('plateau', 5158), ('buying', 923), ('wardrobe', 7614), ('personal', 5067), ('weightless', 7679), ('uniform', 7368), ('glove', 2966), ('crim', 1561), ('hefty', 3224), ('weighting', 7678), ('sweating', 6843), ('bucket', 877), ('reaching', 5565), ('razor', 5561), ('blade', 708), ('constantly', 1402), ('philosophy', 5091), ('religion', 5701), ('vile', 7535), ('traitor', 7171), ('truth', 7244), ('newly', 4653), ('developed', 1847), ('tendency', 6970), ('realization', 5582), ('gone', 2983), ('k', 3813), ('training', 7170), ('swim', 6854), ('cleaning', 1183), ('mcas', 4291), ('fulfill', 2830), ('idealized', 3411), ('writer', 7848), ('faster', 2535), ('valued', 7482), ('education', 2168), ('uncoiling', 7316), ('wise', 7777), ('advice', 131), ('drag', 2055), ('court', 1506), ('trip', 7223), ('milestone', 4387), ('snuggle', 6403), ('growing', 3063), ('personality', 5068), ('posed', 5227), ('cutesy', 1627), ('vintage', 7543), ('absolutely', 21), ('freaking', 2788), ('reproductive', 5757), ('acted', 76), ('acting', 77), ('diary', 1864), ('adding', 97), ('md', 4295), ('teen', 6946), ('offering', 4784), ('guidance', 3077), ('grief', 3044), ('narrated', 4581), ('erik', 2328), ('prince', 5337), ('autobiography', 479), ('civilian', 1163), ('warrior', 7628), ('blackwater', 706), ('unsung', 7414), ('terror', 6990), ('released', 5691), ('monday', 4453), ('nov', 4720), ('th', 6998), ('gag', 2856), ('line', 4058), ('fortunate', 2760), ('mexican', 4368), ('worldly', 7822), ('reader', 5570), ('bounce', 801), ('us', 7450), ('reference', 5638), ('earliest', 2130), ('dawn', 1670), ('till', 7074), ('giggle', 2931), ('nervously', 4633), ('guest', 3076), ('alise', 200), ('jeremy', 3747), ('chose', 1140), ('petrified', 5082), ('news', 4654), ('comeback', 1273), ('fangirls', 2522), ('ministry', 4403), ('concern', 1343), ('jesus', 3752), ('monroe', 4458), ('launch', 3940), ('incorporated', 3505), ('drink', 2079), ('coffee', 1241), ('togehter', 7105), ('relate', 5678), ('smiling', 6363), ('spa', 6487), ('treatment', 7202), ('cycling', 1633), ('invade', 3654), ('inspiration', 3587), ('fast', 2534), ('burner', 908), ('raising', 5530), ('supporter', 6801), ('ebooks', 2153), ('hgtv', 3252), ('overcome', 4884), ('circumstance', 1159), ('rise', 5854), ('beneficial', 648), ('tried', 7215), ('throw', 7051), ('temper', 6957), ('keen', 3827), ('geared', 2888), ('altitude', 228), ('snowglobe', 6401), ('flying', 2708), ('viewer', 7531), ('rating', 5557), ('drama', 2060), ('iris', 3677), ('gained', 2858), ('success', 6748), ('hungry', 3380), ('melt', 4331), ('down', 2044), ('mishap', 4413), ('toddler', 7103), ('challenge', 1061), ('regard', 5656), ('season', 6044), ('draw', 2063), ('sing', 6274), ('awhile', 499), ('scribble', 6032), ('notebook', 4710), ('entertained', 2296), ('appreciated', 349), ('saw', 5983), ('kyuhyun', 3888), ('strolling', 6695), ('apgujeong', 328), ('hyunjin', 3400), ('breathed', 830), ('sceptical', 6002), ('phrase', 5097), ('dump', 2109), ('mildly', 4385), ('upsetting', 7442), ('negative', 4615), ('perhaps', 5052), ('traffic', 7162), ('nose', 4704), ('vocal', 7569), ('confessed', 1365), ('rejected', 5673), ('worthy', 7834), ('potentially', 5244), ('envisioned', 2318), ('intended', 3612), ('vision', 7556), ('lisa', 4066), ('bathing', 575), ('suit', 6772), ('beating', 594), ('harmfully', 3160), ('acknowledge', 68), ('fat', 2537), ('definition', 1736), ('discussed', 1936), ('blending', 720), ('alot', 218), ('xanax', 7863), ('lately', 3930), ('mixing', 4431), ('lie', 4024), ('protect', 5400), ('glee', 2955), ('mud', 4521), ('squishing', 6575), ('toe', 7104), ('sacred', 5926), ('venerate', 7501), ('pretend', 5318), ('cat', 1010), ('expert', 2450), ('instantly', 3594), ('officer', 4786), ('begin', 612), ('repeating', 5743), ('snooped', 6395), ('vented', 7503), ('cried', 1560), ('mm', 4433), ('composition', 1331), ('wound', 7836), ('tightly', 7072), ('paced', 4916), ('feelingless', 2575), ('daughter', 1667), ('beijing', 622), ('nauseated', 4595), ('row', 5895), ('dharavi', 1858), ('mumbai', 4532), ('annual', 291), ('turnover', 7270), ('aside', 405), ('stoned', 6656), ('endorphin', 2257), ('muscle', 4541), ('seizing', 6073), ('meat', 4306), ('diktats', 1887), ('authority', 477), ('praying', 5273), ('wisdom', 7776), ('shoudlnt', 6219), ('punished', 5451), ('shitty', 6192), ('pressed', 5310), ('cut', 1625), ('amount', 249), ('meditated', 4317), ('altogether', 229), ('boil', 763), ('retail', 5808), ('therapy', 7016), ('hardly', 3154), ('hyper', 3391), ('intelligent', 3610), ('trusted', 7240), ('worth', 7831), ('village', 7536), ('friendly', 2806), ('alert', 193), ('manila', 4227), ('common', 1292), ('guard', 3072), ('popping', 5214), ('primetime', 5336), ('potential', 5243), ('murderer', 4538), ('grim', 3047), ('torture', 7131), ('checked', 1100), ('lyric', 4178), ('dreaming', 2073), ('supposedly', 6806), ('inspires', 3589), ('creativity', 1548), ('suffer', 6762), ('seoul', 6106), ('quarter', 5483), ('sleeping', 6322), ('category', 1015), ('bus', 914), ('personally', 5070), ('memory', 4335), ('score', 6018), ('abide', 11), ('political', 5200), ('mess', 4354), ('uk', 7298), ('politics', 5202), ('ranbir', 5537), ('director', 1907), ('ayan', 505), ('mukerji', 4526), ('filmfare', 2617), ('pour', 5249), ('brandy', 817), ('renewed', 5733), ('endurance', 2258), ('awkwardly', 501), ('melbourne', 4326), ('answered', 299), ('newton', 4656), ('plus', 5182), ('panther', 4948), ('prime', 5334), ('reassured', 5590), ('irreplaceable', 3684), ('single', 6279), ('settle', 6132), ('idrc', 3420), ('essence', 2341), ('empty', 2239), ('dispersed', 1960), ('fragmented', 2774), ('occassionally', 4762), ('earring', 2134), ('plug', 5179), ('rolling', 5876), ('haha', 3101), ('ad', 90), ('internet', 3632), ('died', 1872), ('vista', 7561), ('virus', 7552), ('pro', 5350), ('bother', 793), ('unsettled', 7408), ('deserves', 1807), ('lesson', 4005), ('finished', 2631), ('checking', 1101), ('bruce', 868), ('yiling', 7896), ('properly', 5394), ('considerate', 1391), ('settled', 6133), ('frame', 2778), ('lady', 3902), ('claim', 1164), ('master', 4275), ('please', 5170), ('affection', 140), ('mix', 4429), ('gutted', 3089), ('hall', 3108), ('residence', 5776), ('uni', 7366), ('joking', 3766), ('westerner', 7691), ('picked', 5105), ('surprised', 6818), ('ski', 6303), ('slope', 6339), ('steep', 6625), ('illustrating', 3434), ('necessarily', 4605), ('rape', 5545), ('whistle', 7721), ('grossly', 3055), ('campus', 957), ('claustrophobic', 1177), ('crunched', 1589), ('stunned', 6719), ('bible', 669), ('verse', 7511), ('secure', 6055), ('restaurant', 5799), ('shouted', 6223), ('cousin', 1509), ('investment', 3663), ('bank', 549), ('dubstep', 2098), ('bashful', 567), ('exposed', 2463), ('crush', 1593), ('flakiness', 2656), ('laziness', 3955), ('narcissism', 4580), ('justifying', 3809), ('bought', 800), ('fairly', 2503), ('blur', 748), ('pertaining', 5074), ('dinn', 1897), ('anticipation', 305), ('cesspool', 1051), ('signed', 6252), ('petition', 5081), ('served', 6126), ('alway', 230), ('elusively', 2207), ('considered', 1393), ('woop', 7811), ('possession', 5233), ('rock', 5868), ('grand', 3013), ('plan', 5147), ('baking', 532), ('curled', 1616), ('pouting', 5250), ('aubrey', 467), ('baptism', 553), ('pile', 5116), ('neon', 4627), ('shizz', 6195), ('anguish', 276), ('patronize', 5007), ('complacent', 1316), ('whoever', 7724), ('slept', 6325), ('peace', 5021), ('external', 2474), ('terrorised', 6991), ('pregnancy', 5291), ('condition', 1355), ('imaginary', 3438), ('name', 4574), ('identity', 3414), ('appeared', 341), ('xbla', 7865), ('sony', 6461), ('denied', 1771), ('claimed', 1165), ('cherry', 1114), ('candy', 964), ('sucking', 6756), ('charge', 1078), ('z', 7913), ('nurturing', 4737), ('hockey', 3280), ('local', 4090), ('pub', 5429), ('pig', 5114), ('duke', 2103), ('parmesan', 4970), ('truffle', 7236), ('prawn', 5269), ('lollipop', 4103), ('lb', 3957), ('shockingly', 6198), ('enacting', 2242), ('doc', 2008), ('insult', 3601), ('arrogance', 384), ('clarify', 1168), ('health', 3195), ('pgce', 5086), ('qualified', 5479), ('expense', 2443), ('mouth', 4504), ('violence', 7544), ('lessen', 4004), ('apply', 345), ('discussing', 1937), ('attire', 462), ('adn', 118), ('inferior', 3535), ('someobdy', 6446), ('labour', 3894), ('tub', 7251), ('overpower', 4893), ('sequel', 6113), ('overrated', 4894), ('deem', 1712), ('filmmaker', 2618), ('speaking', 6501), ('level', 4014), ('audience', 469), ('radiation', 5516), ('random', 5538), ('tick', 7063), ('keyboard', 3836), ('spilled', 6520), ('behaviour', 619), ('guilt', 3079), ('admiration', 108), ('resilience', 5778), ('rainbow', 5527), ('finance', 2622), ('smooth', 6369), ('monetarily', 4454), ('walia', 7596), ('tarun', 6914), ('ban', 542), ('coped', 1466), ('twenty', 7274), ('wrung', 7856), ('candle', 963), ('match', 4279), ('flashlight', 2661), ('ashers', 402), ('bug', 883), ('goodbye', 2986), ('fridge', 2804), ('build', 884), ('date', 1665), ('unreliable', 7403), ('drafted', 2053), ('rider', 5838), ('central', 1045), ('park', 4967), ('gentleman', 2910), ('mild', 4384), ('greed', 3037), ('impractical', 3471), ('tummy', 7258), ('incase', 3488), ('learned', 3971), ('nay', 4598), ('exactly', 2387), ('foist', 2715), ('inconvenience', 3503), ('manageable', 4218), ('attractive', 465), ('unleashed', 7387), ('fromthe', 2815), ('virgin', 7548), ('david', 1669), ('stayed', 6619), ('jaded', 3721), ('careful', 987), ('overreacted', 4895), ('pileon', 5117), ('applying', 346), ('landed', 3914), ('reagan', 5575), ('airport', 179), ('derp', 1798), ('lrt', 4155), ('packed', 4922), ('rode', 5871), ('gorgeous', 2992), ('curl', 1615), ('transition', 7182), ('natural', 4590), ('lowlights', 4151), ('bottom', 799), ('section', 6053), ('six', 6298), ('attitude', 463), ('screw', 6030), ('wrap', 7840), ('resorted', 5787), ('peak', 5024), ('housebound', 3348), ('peckish', 5026), ('brew', 835), ('pic', 5103), ('organisation', 4847), ('best', 657), ('disagree', 1913), ('heartedly', 3208), ('demostrators', 1767), ('powerless', 5254), ('craft', 1522), ('sharing', 6166), ('instructables', 3599), ('germ', 2917), ('conditioned', 1356), ('indulgent', 3529), ('crave', 1534), ('alphabet', 219), ('rose', 5885), ('jsk', 3782), ('length', 3997), ('lolita', 4102), ('knee', 3868), ('reminds', 5725), ('jane', 3728), ('austen', 473), ('bt', 873), ('n', 4562), ('thn', 7031), ('giant', 2926), ('glass', 2953), ('vigilant', 7533), ('sand', 5954), ('rush', 5915), ('whoosh', 7734), ('dipshit', 1900), ('stab', 6579), ('loneliness', 4107), ('hasan', 3167), ('retiring', 5811), ('modest', 4440), ('english', 2273), ('schadenfreude', 6003), ('tinge', 7081), ('sox', 6486), ('tampa', 6903), ('bay', 582), ('devil', 1849), ('ray', 5560), ('pregant', 5290), ('worker', 7816), ('foundry', 2768), ('humor', 3374), ('shield', 6181), ('conceal', 1338), ('lending', 3994), ('appearance', 340), ('wherewithal', 7705), ('view', 7529), ('apology', 333), ('took', 7122), ('guilty', 3080), ('shielding', 6182), ('offspring', 4789), ('carby', 980), ('glycemic', 2970), ('meal', 4298), ('dessert', 1826), ('bike', 676), ('sob', 6407), ('pulling', 5438), ('quixote', 5504), ('blinding', 724), ('rushing', 5917), ('windmill', 7759), ('eventual', 2368), ('neither', 4624), ('kook', 3885), ('danger', 1653), ('realising', 5579), ('celebration', 1038), ('harden', 3151), ('hide', 3255), ('mike', 4383), ('pragmatic', 5263), ('practical', 5257), ('sarcoidosis', 5968), ('carry', 997), ('receiver', 5600), ('steamy', 6624), ('weak', 7649), ('assuage', 426), ('display', 1963), ('nakedness', 4571), ('front', 2816), ('maid', 4192), ('shadow', 6148), ('drawn', 2066), ('curtain', 1621), ('pie', 5111), ('crust', 1594), ('struggled', 6705), ('marvel', 4262), ('humble', 3367), ('paratrooper', 4961), ('conduct', 1359), ('mission', 4420), ('sweetly', 6848), ('tiredness', 7089), ('mundane', 4535), ('paperwork', 4953), ('bureaucrat', 903), ('revel', 5821), ('law', 3945), ('stiff', 6638), ('superstorm', 6795), ('sandy', 5957), ('suspect', 6830), ('musician', 4547), ('rel', 5677), ('bookmark', 779), ('entry', 2309), ('author', 476), ('liveagainsttheflow', 4078), ('petronas', 5083), ('performed', 5049), ('profit', 5371), ('indication', 3520), ('eve', 2364), ('font', 2723), ('georgia', 2915), ('serif', 6118), ('size', 6300), ('px', 5474), ('height', 3226), ('consistently', 1397), ('disengaged', 1942), ('disinterested', 1950), ('zest', 7922), ('seemad', 6063), ('odds', 4772), ('favour', 2547), ('grandfather', 3016), ('added', 94), ('fuel', 2828), ('fire', 2636), ('scent', 6000), ('taiwan', 6887), ('frequently', 2796), ('bathroom', 576), ('precipice', 5277), ('scandalized', 5990), ('nfl', 4659), ('honored', 3313), ('remarkable', 5715), ('grader', 3007), ('stranger', 6674), ('poem', 5184), ('poetry', 5186), ('activist', 82), ('wimp', 7755), ('angst', 274), ('yelping', 7891), ('passion', 4989), ('ignorance', 3424), ('engage', 2267), ('debate', 1689), ('broaden', 852), ('booking', 778), ('pe', 5019), ('warner', 7624), ('final', 2619), ('edit', 2163), ('arriving', 383), ('format', 2752), ('blu', 744), ('roller', 5875), ('coaster', 1235), ('craziness', 1539), ('throne', 7048), ('killing', 3849), ('catalyst', 1011), ('community', 1298), ('fully', 2836), ('transferred', 7180), ('operating', 4823), ('supposed', 6805), ('explorer', 2460), ('enuff', 2310), ('stair', 6587), ('baffroom', 525), ('immediately', 3447), ('appears', 342), ('persom', 5064), ('wickdly', 7737), ('girlfriend', 2936), ('ne', 4600), ('convince', 1450), ('subconscious', 6730), ('believing', 630), ('dick', 1866), ('hobbs', 3278), ('rebecca', 5594), ('mcpherson', 4294), ('fuckin', 2826), ('calling', 943), ('intentional', 3618), ('ungrateful', 7362), ('inconsiderate', 3501), ('plate', 5157), ('snobbish', 6394), ('waking', 7593), ('quicker', 5493), ('deeper', 1716), ('endless', 2256), ('convoluted', 1452), ('fairy', 2504), ('throughout', 7050), ('cringe', 1564), ('chained', 1055), ('desk', 1815), ('performing', 5050), ('oscar', 4860), ('denounced', 1776), ('grotesque', 3056), ('unrealistic', 7400), ('wore', 7813), ('leader', 3962), ('irrationally', 3682), ('previously', 5327), ('ebay', 2151), ('fish', 2644), ('thin', 7024), ('dejected', 1743), ('wrapped', 7841), ('clean', 1180), ('warm', 7617), ('test', 6993), ('catching', 1014), ('uber', 7292), ('realize', 5583), ('keith', 3831), ('detoured', 1843), ('tourist', 7147), ('xela', 7868), ('upper', 7438), ('ou', 4863), ('strongest', 6698), ('competition', 1315), ('experienced', 2446), ('squad', 6567), ('drawing', 2065), ('attacked', 453), ('alarmed', 185), ('genuinely', 2913), ('connect', 1380), ('withdrawing', 7788), ('alive', 201), ('cancel', 960), ('hyundai', 3399), ('tucson', 7254), ('seven', 6136), ('whiff', 7707), ('remind', 5722), ('nostalgic', 4706), ('welcome', 7682), ('mommyhood', 4450), ('inability', 3483), ('breastfeed', 827), ('screwed', 6031), ('quietly', 5496), ('til', 7073), ('phase', 5087), ('pass', 4983), ('hence', 3239), ('complete', 1321), ('absence', 19), ('lj', 4083), ('squeeze', 6572), ('lethargic', 4009), ('curiously', 1614), ('excitedly', 2407), ('team', 6935), ('target', 6911), ('feedback', 2567), ('constructively', 1408), ('unfortunately', 7359), ('aftermath', 149), ('puzzle', 5471), ('par', 4954), ('faculty', 2494), ('crossword', 1580), ('lap', 3918), ('holding', 3284), ('tender', 6971), ('somewhere', 6455), ('cc', 1030), ('anime', 278), ('anipike', 280), ('website', 7664), ('fanfictions', 2521), ('vunerable', 7584), ('endzone', 2260), ('impotent', 3469), ('giddy', 2927), ('fortune', 2761), ('cozy', 1517), ('sobbed', 6408), ('staff', 6583), ('aggressive', 159), ('individual', 3522), ('subcontinent', 6732), ('paper', 4952), ('prospect', 5398), ('dvd', 2118), ('olden', 4799), ('sarawak', 5965), ('seemed', 6064), ('parallel', 4956), ('jugra', 3791), ('chronicle', 1150), ('quilting', 5497), ('questioning', 5492), ('church', 1151), ('dr', 2051), ('suppose', 6804), ('moping', 4467), ('misery', 4411), ('blogging', 734), ('immune', 3452), ('system', 6873), ('jeannie', 3743), ('grip', 3050), ('shoulder', 6220), ('allthingsbucks', 210), ('tear', 6936), ('lump', 4166), ('abruptly', 18), ('reminded', 5723), ('la', 3890), ('varnish', 7487), ('climbed', 1201), ('hill', 3266), ('entirely', 2304), ('hampered', 3113), ('dent', 1777), ('garage', 2870), ('scheduler', 6006), ('massive', 4273), ('repairman', 5738), ('italian', 3703), ('stupidity', 6722), ('teddy', 6944), ('illustrator', 3436), ('designer', 1810), ('trapping', 7189), ('crosshatching', 1578), ('lensflares', 4000), ('concentrate', 1340), ('simultaneously', 6269), ('worrying', 7826), ('concentrating', 1341), ('entirelly', 2303), ('meeting', 4323), ('player', 5163), ('clicking', 1196), ('shit', 6191), ('stated', 6610), ('unsafe', 7405), ('independent', 3517), ('achievement', 65), ('breathe', 829), ('immensely', 3450), ('gut', 3088), ('joyous', 3781), ('breast', 826), ('milk', 4389), ('formula', 2755), ('stranded', 6671), ('north', 4702), ('fraser', 2784), ('submerged', 6738), ('wd', 7648), ('hire', 3270), ('vehicle', 7497), ('kinship', 3858), ('mounting', 4500), ('nausea', 4594), ('binding', 680), ('opening', 4820), ('passage', 4984), ('strike', 6688), ('singular', 6281), ('fetched', 2592), ('assured', 431), ('impossible', 3467), ('horse', 3335), ('handled', 3123), ('matty', 4285), ('bigger', 673), ('ganging', 2868), ('force', 2733), ('withdrawn', 7789), ('loved', 4144), ('hesitate', 3248), ('improvement', 3480), ('informed', 3544), ('follows', 2722), ('strongly', 6699), ('gina', 2933), ('misgiving', 4412), ('uh', 7297), ('overly', 4892), ('tabby', 6877), ('route', 5893), ('creek', 1554), ('former', 2754), ('meadow', 4297), ('sipping', 6286), ('diet', 1873), ('coke', 1246), ('swimming', 6855), ('aggravated', 157), ('mousekins', 4503), ('listener', 4070), ('crossed', 1576), ('derby', 1795), ('disregard', 1968), ('loyal', 4153), ('existent', 2433), ('manipulkated', 4230), ('lucy', 4160), ('charlie', 1083), ('spiritually', 6527), ('understanding', 7330), ('defensive', 1727), ('fantabulous', 2523), ('protective', 5403), ('envelope', 2311), ('literally', 4073), ('hundred', 3378), ('eucharist', 2355), ('include', 3495), ('homeless', 3298), ('banker', 550), ('poor', 5210), ('conservative', 1388), ('liberal', 4018), ('gay', 2886), ('arrogant', 385), ('ipad', 3673), ('snippet', 6391), ('stared', 6597), ('goddess', 2977), ('rising', 5856), ('adoption', 120), ('consider', 1389), ('crake', 1524), ('received', 5599), ('feminism', 2582), ('saving', 5982), ('bauer', 581), ('proclaims', 5359), ('article', 387), ('unconvinced', 7322), ('tongue', 7118), ('ignored', 3427), ('minor', 4404), ('tantrum', 6908), ('jumped', 3798), ('pace', 4915), ('beyond', 664), ('wisconsin', 7775), ('remodeled', 5727), ('amenity', 240), ('libertine', 4020), ('aloft', 213), ('reflection', 5644), ('sunny', 6786), ('rainy', 5528), ('climate', 1199), ('maintain', 4200), ('tolerate', 7109), ('trouble', 7231), ('wife', 7742), ('nesty', 4638), ('teeny', 6949), ('weeny', 7672), ('clothing', 1218), ('sheer', 6174), ('button', 921), ('pressing', 5311), ('enthusiast', 2300), ('gathering', 2881), ('sumthg', 6781), ('thk', 7030), ('dazzling', 1678), ('cert', 1048), ('whilst', 7708), ('clairee', 1166), ('winston', 7766), ('churchill', 1152), ('www', 7861), ('fam', 2514), ('retrospect', 5813), ('prepare', 5296), ('bunch', 894), ('prepared', 5297), ('perspective', 5072), ('provide', 5413), ('context', 1427), ('seemingly', 6065), ('unimaginable', 7370), ('incapable', 3487), ('defending', 1725), ('fragile', 2773), ('spot', 6549), ('comforting', 1278), ('trusty', 7243), ('louche', 4136), ('animal', 277), ('politely', 5199), ('backed', 513), ('corner', 1474), ('orange', 4838), ('norah', 4696), ('jones', 3770), ('nurse', 4732), ('pushed', 5465), ('witch', 7785), ('punched', 5446), ('sighed', 6248), ('brunch', 869), ('trumpeter', 7238), ('waldo', 7595), ('carter', 1000), ('startled', 6603), ('flinched', 2682), ('blunt', 747), ('relation', 5682), ('temptation', 6963), ('dad', 1636), ('neglect', 4618), ('rampant', 5535), ('parenting', 4964), ('finality', 2620), ('financial', 2623), ('repercussion', 5745), ('gastric', 2876), ('cynicism', 1634), ('damaged', 1643), ('clubbed', 1223), ('upside', 7443), ('dose', 2037), ('dorama', 2033), ('limit', 4054), ('validity', 7479), ('graceful', 3004), ('mythical', 4560), ('underage', 7323), ('unfulfilled', 7360), ('paint', 4935), ('cdn', 1033), ('predatory', 5282), ('deform', 1738), ('exhilarated', 2428), ('nickey', 4666), ('stronger', 6697), ('sent', 6102), ('shiny', 6188), ('loud', 4137), ('scheme', 6007), ('regardless', 5659), ('michigan', 4372), ('york', 7902), ('governor', 2998), ('prostitute', 5399), ('direction', 1905), ('vault', 7490), ('meantime', 4303), ('mirror', 4408), ('crab', 1520), ('achieving', 66), ('slobby', 6338), ('average', 483), ('growled', 3064), ('cheated', 1097), ('spurned', 6563), ('vine', 7539), ('tended', 6969), ('nursed', 4733), ('sending', 6090), ('oregon', 4846), ('moulding', 4496), ('touching', 7142), ('repeatedly', 5742), ('lightening', 4038), ('storm', 6663), ('umbrella', 7303), ('roommate', 5882), ('half', 3106), ('prayer', 5272), ('considering', 1394), ('cash', 1004), ('belonging', 639), ('laundering', 3941), ('intensely', 3614), ('gas', 2874), ('save', 5980), ('interrupt', 3635), ('concept', 1342), ('lit', 4072), ('outbreak', 4865), ('ptpt', 5428), ('pre', 5274), ('te', 6930), ('pouhere', 5246), ('surely', 6810), ('fullest', 2834), ('tolerated', 7110), ('action', 78), ('irrational', 3681), ('pickle', 5107), ('soooo', 6466), ('booked', 777), ('kissing', 3861), ('travel', 7193), ('bite', 696), ('fucking', 2827), ('log', 4096), ('daydream', 1673), ('bet', 659), ('costume', 1485), ('independence', 3516), ('operation', 4824), ('indicated', 3519), ('continues', 1432), ('correction', 1479), ('specially', 6504), ('vinegary', 7541), ('callus', 945), ('tech', 6939), ('asset', 418), ('bogged', 762), ('progress', 5376), ('resurrect', 5807), ('lengthy', 3998), ('celebrity', 1039), ('asian', 404), ('courtesy', 1507), ('mask', 4270), ('reduce', 5631), ('spreading', 6556), ('exact', 2386), ('opposite', 4831), ('cede', 1034), ('prevent', 5324), ('doomnation', 2029), ('damnation', 1646), ('tracy', 7157), ('firey', 2639), ('dull', 2104), ('detail', 1834), ('questioned', 5491), ('accomplishment', 50), ('euan', 2354), ('hauled', 3179), ('discontent', 1929), ('episode', 2322), ('playoff', 5166), ('ruslan', 5918), ('fedotenko', 2563), ('broke', 854), ('piss', 5136), ('trillion', 7219), ('cop', 1463), ('lecture', 3979), ('serious', 6121), ('tough', 7144), ('mudder', 4522), ('counsellor', 1495), ('replaced', 5747), ('spite', 6529), ('visited', 7558), ('psychologist', 5425), ('closing', 1215), ('letting', 4012), ('martin', 4260), ('rate', 5555), ('butt', 918), ('charming', 1086), ('forefront', 2738), ('becomes', 601), ('private', 5345), ('receiving', 5601), ('ii', 3429), ('posted', 5238), ('babychaser', 510), ('ruach', 5896), ('hakodesh', 3105), ('holy', 3294), ('compassion', 1309), ('moved', 4506), ('sensible', 6098), ('sitter', 6294), ('christine', 1145), ('dismisses', 1954), ('blindly', 725), ('sew', 6139), ('dubai', 2097), ('competing', 1314), ('fedex', 2562), ('cup', 1608), ('physically', 5100), ('acquainted', 72), ('ensure', 2290), ('arcade', 362), ('simple', 6265), ('practically', 5258), ('moaning', 4435), ('annoying', 290), ('cluttered', 1230), ('healing', 3194), ('wounding', 7838), ('underway', 7334), ('nuance', 4726), ('likely', 4048), ('trigger', 7216), ('psychotic', 5426), ('kg', 3837), ('fab', 2485), ('sir', 6287), ('mba', 4290), ('career', 985), ('destiny', 1829), ('turned', 7267), ('tug', 7256), ('lip', 4064), ('naman', 4573), ('na', 4563), ('negatively', 4616), ('benign', 652), ('chaotic', 1073), ('destructive', 1833), ('consulted', 1412), ('partially', 4974), ('counsel', 1493), ('copay', 1464), ('naughty', 4593), ('butterfly', 920), ('using', 7459), ('vent', 7502), ('vicious', 7522), ('adult', 123), ('resource', 5788), ('besides', 656), ('tv', 7272), ('largely', 3923), ('scare', 5992), ('packing', 4924), ('bye', 925), ('dealing', 1684), ('overwhelming', 4906), ('displacement', 1962), ('alba', 187), ('fitting', 2650), ('planet', 5149), ('brendon', 834), ('base', 564), ('wander', 7605), ('afield', 144), ('salon', 5947), ('relieve', 5698), ('turmoil', 7265), ('gun', 3085), ('resent', 5770), ('needlessly', 4614), ('unreasonably', 7402), ('slightest', 6331), ('idiosyncrasy', 3416), ('ged', 2889), ('rid', 5836), ('dating', 1666), ('age', 153), ('nicely', 4662), ('sum', 6776), ('pursuit', 5463), ('flame', 2657), ('singed', 6276), ('frail', 2776), ('delicate', 1750), ('foul', 2765), ('smelling', 6358), ('concoction', 1350), ('flesh', 2673), ('ridiculously', 5841), ('insensitive', 3574), ('pride', 5331), ('business', 915), ('generic', 2903), ('harrass', 3162), ('oppressed', 4833), ('taylor', 6928), ('swift', 6853), ('basks', 571), ('writes', 7849), ('december', 1695), ('spin', 6521), ('strapping', 6675), ('bear', 588), ('sturdy', 6725), ('contributed', 1439), ('ignore', 3426), ('witness', 7792), ('sadistic', 5931), ('glint', 2959), ('madness', 4186), ('pathological', 5000), ('curiosity', 1613), ('mg', 4369), ('seroquel', 6124), ('syndrome', 6871), ('surroundings', 6825), ('myriad', 4555), ('advantage', 127), ('bell', 633), ('conclusion', 1349), ('musing', 4548), ('teasing', 6938), ('scrutiny', 6037), ('rice', 5834), ('led', 3980), ('pursue', 5461), ('tiger', 7069), ('katniss', 3824), ('tense', 6976), ('adjustment', 104), ('citizen', 1160), ('nationality', 4588), ('spanish', 6492), ('increasing', 3508), ('volume', 7572), ('victim', 7523), ('correctly', 1480), ('screaming', 6028), ('helped', 3233), ('ted', 6943), ('greater', 3033), ('simplicity', 6266), ('includes', 3497), ('scroll', 6034), ('hanging', 3129), ('younger', 7904), ('encounter', 2246), ('tranquil', 7175), ('wine', 7762), ('plane', 5148), ('singapore', 6275), ('expressing', 2468), ('airtime', 181), ('believed', 628), ('preclude', 5281), ('serving', 6128), ('discovering', 1933), ('uncle', 7314), ('showing', 6229), ('impressed', 3472), ('awkward', 500), ('shape', 6161), ('became', 598), ('increasingly', 3509), ('accumulation', 58), ('elusive', 2206), ('acceptance', 36), ('followed', 2719), ('everywhere', 2379), ('degree', 1742), ('shutting', 6234), ('friggin', 2809), ('stole', 6652), ('rmb', 5859), ('exceptionally', 2402), ('queezy', 5487), ('prowl', 5420), ('jungle', 3801), ('deserted', 1805), ('signifies', 6255), ('causing', 1023), ('undue', 7341), ('stress', 6683), ('refreshed', 5648), ('adventure', 128), ('hellip', 3231), ('shooter', 6204), ('inevitable', 3531), ('trivial', 7227), ('smoke', 6365), ('cigarette', 1155), ('b', 506), ('illogically', 3433), ('early', 2131), ('bursting', 912), ('c', 926), ('kj', 3866), ('permalink', 5056), ('middot', 4375), ('plant', 5153), ('lettuce', 4013), ('pesky', 5075), ('bunny', 897), ('raiding', 5524), ('garden', 2872), ('akward', 182), ('unusual', 7420), ('surged', 6814), ('drunk', 2094), ('confirm', 1369), ('contract', 1436), ('escorting', 2336), ('flawless', 2670), ('vast', 7488), ('relentless', 5693), ('standard', 6592), ('main', 4197), ('scientist', 6012), ('observing', 4752), ('moon', 4465), ('zero', 7921), ('gravity', 3029), ('bouncier', 802), ('articulate', 388), ('prius', 5343), ('al', 183), ('gore', 2991), ('patagonia', 4996), ('insidious', 3578), ('driving', 2085), ('borrowed', 790), ('bumper', 893), ('destroyed', 1830), ('inform', 3542), ('afterwards', 152), ('piano', 5102), ('grew', 3042), ('hyperventilating', 3396), ('twist', 7278), ('explanation', 2454), ('cough', 1488), ('concert', 1346), ('previous', 5326), ('conflict', 1370), ('compared', 1305), ('temp', 6956), ('survivor', 6829), ('skill', 6304), ('kicked', 3842), ('stripped', 6691), ('avoid', 485), ('deadline', 1681), ('geez', 2891), ('cara', 977), ('raised', 5529), ('beaten', 593), ('mord', 4472), ('sith', 6292), ('empowerment', 2236), ('marathon', 4241), ('spook', 6546), ('randomly', 5539), ('cd', 1032), ('listened', 4069), ('globe', 2963), ('homeland', 3297), ('utter', 7467), ('thankfulness', 7004), ('gesture', 2920), ('porcupine', 5217), ('fighting', 2608), ('shower', 6228), ('movement', 4507), ('effortlessly', 2176), ('yoga', 7901), ('hop', 3319), ('treadmill', 7197), ('kitchen', 3863), ('endeavor', 2252), ('occasional', 4760), ('watcher', 7639), ('trudging', 7233), ('eyebrow', 2482), ('waxed', 7645), ('instinct', 3597), ('creature', 1550), ('wip', 7771), ('cheating', 1098), ('busy', 916), ('pinning', 5129), ('nanashi', 4577), ('football', 2730), ('mcdonalds', 4292), ('advance', 125), ('stick', 6635), ('somebody', 6444), ('stage', 6584), ('entering', 2295), ('area', 364), ('limbo', 4053), ('adulthood', 124), ('paying', 5016), ('dollar', 2016), ('procedure', 5354), ('somethign', 6449), ('repaired', 5736), ('maggie', 4187), ('lee', 3981), ('titled', 7095), ('vol', 7571), ('skinny', 6308), ('disposable', 1966), ('income', 3499), ('shopping', 6208), ('mall', 4211), ('condone', 1357), ('achieve', 63), ('goal', 2974), ('hardcore', 3149), ('sxe', 6864), ('chocolating', 1134), ('fabric', 2486), ('routine', 5894), ('agony', 164), ('motherhood', 4484), ('recall', 5597), ('grey', 3043), ('highly', 3261), ('fiber', 2599), ('atmosphere', 447), ('ironic', 3679), ('broadly', 853), ('permanently', 5058), ('false', 2512), ('beluga', 642), ('whale', 7695), ('teenage', 6947), ('wally', 7603), ('lamb', 3909), ('chick', 1117), ('vienna', 7528), ('beirut', 625), ('nagging', 4566), ('club', 1222), ('nudist', 4728), ('convention', 1446), ('chickie', 1119), ('iolani', 3672), ('happening', 3137), ('oomph', 4815), ('constructive', 1407), ('handful', 3119), ('describing', 1803), ('sink', 6282), ('flip', 2684), ('flop', 2692), ('cage', 931), ('testing', 6994), ('justification', 3806), ('spark', 6494), ('unkindness', 7385), ('form', 2750), ('selfishness', 6082), ('unkind', 7384), ('requires', 5765), ('distorted', 1982), ('supported', 6800), ('displayed', 1964), ('yearning', 7884), ('semblance', 6085), ('normality', 4700), ('arab', 361), ('armed', 370), ('soldier', 6431), ('breaking', 825), ('medicine', 4315), ('sinus', 6284), ('uneasy', 7343), ('stupidly', 6723), ('eagle', 2127), ('mainly', 4198), ('dangerously', 1655), ('earlier', 2129), ('hmmm', 3275), ('honest', 3306), ('distinct', 1980), ('ultimately', 7301), ('turnout', 7269), ('wryly', 7857), ('banal', 543), ('comedy', 1274), ('error', 2330), ('salvaging', 5948), ('friendship', 2807), ('publisher', 5433), ('jeanette', 3742), ('winterson', 7769), ('essentially', 2343), ('scope', 6017), ('explore', 2458), ('bird', 686), ('lestat', 4007), ('regimented', 5660), ('roll', 5874), ('windy', 7761), ('beach', 584), ('thoroughly', 7034), ('vowed', 7580), ('climb', 1200), ('scafell', 5987), ('willy', 7753), ('nilly', 4676), ('floor', 2691), ('finding', 2627), ('pound', 5247), ('white', 7722), ('trash', 7190), ('dickish', 1869), ('backpacking', 517), ('brow', 863), ('sweetener', 6847), ('refined', 5641), ('sugar', 6767), ('bummed', 890), ('snatched', 6384), ('prayed', 5271), ('birth', 688), ('irregardless', 3683), ('naturally', 4591), ('cambodia', 951), ('lax', 3949), ('bi', 666), ('divert', 1997), ('registration', 5662), ('uneventful', 7347), ('kim', 3850), ('kardashion', 3817), ('tutorial', 7271), ('clay', 1179), ('expression', 2469), ('mastery', 4277), ('vey', 7516), ('oncology', 4808), ('dpt', 2050), ('hospital', 3337), ('paranoiud', 4960), ('cancer', 962), ('chemo', 1111), ('structure', 6702), ('revalidation', 5818), ('portfolio', 5220), ('courthouse', 1508), ('designed', 1809), ('intimidate', 3642), ('cheerfully', 1107), ('chatting', 1093), ('judge', 3786), ('chamber', 1064), ('economy', 2157), ('driven', 2083), ('gm', 2971), ('ridiculous', 5840), ('warmly', 7621), ('hugging', 3361), ('invest', 3658), ('direct', 1902), ('message', 4355), ('dm', 2007), ('jeff', 3744), ('laughter', 3939), ('remain', 5710), ('weighed', 7675), ('heavier', 3215), ('crashing', 1533), ('attempting', 457), ('toughest', 7145), ('image', 3437), ('popped', 5213), ('knot', 3876), ('shoelace', 6200), ('conor', 1383), ('yelling', 7890), ('quit', 5499), ('scar', 5991), ('cutting', 1628), ('vote', 7578), ('clue', 1224), ('rex', 5831), ('dingler', 1894), ('mentioned', 4343), ('intolerably', 3644), ('polar', 5192), ('sensing', 6100), ('beneath', 646), ('wobbly', 7795), ('pulse', 5439), ('chase', 1087), ('dragon', 2058), ('suck', 6753), ('begging', 611), ('translate', 7183), ('sorrow', 6472), ('mercy', 4346), ('unfold', 7358), ('desiring', 1814), ('truthful', 7245), ('sting', 6643), ('assault', 414), ('justify', 3808), ('research', 5768), ('excellent', 2398), ('tail', 6886), ('band', 545), ('kiss', 3859), ('wat', 7636), ('lifestyle', 4030), ('bearable', 589), ('betrayed', 660), ('sixty', 6299), ('emm', 2220), ('documented', 2011), ('countless', 1499), ('impoverished', 3470), ('fold', 2716), ('bopping', 783), ('singing', 6278), ('oh', 4791), ('figure', 2610), ('oooh', 4816), ('technique', 6941), ('garbage', 2871), ('acctually', 55), ('wonderfull', 7804), ('israel', 3700), ('liberated', 4019), ('recognize', 5613), ('press', 5309), ('swing', 6857), ('fiance', 2598), ('kai', 3814), ('closer', 1212), ('boisterous', 764), ('kairi', 3815), ('gush', 3087), ('turbulently', 7263), ('flew', 2675), ('violently', 7546), ('container', 1420), ('exchanging', 2405), ('snappy', 6383), ('entail', 2292), ('noisy', 4684), ('pretending', 5320), ('missile', 4418), ('spy', 6565), ('overwhelmingly', 4907), ('chromosome', 1148), ('broom', 859), ('scrubbing', 6035), ('brush', 870), ('vinegar', 7540), ('newspaper', 4655), ('refer', 5635), ('joining', 3764), ('cookie', 1455), ('legacy', 3985), ('sucker', 6755), ('battle', 579), ('apparent', 336), ('discernment', 1921), ('loose', 4122), ('ed', 2160), ('xmas', 7870), ('def', 1718), ('cure', 1612), ('admires', 111), ('makeup', 4207), ('intellectually', 3608), ('crunch', 1588), ('looming', 4119), ('thursday', 7057), ('idreamculture', 3421), ('trope', 7229), ('horror', 3334), ('hug', 3358), ('beer', 608), ('surmise', 6816), ('sitcom', 6290), ('stationary', 6614), ('motion', 4487), ('bury', 913), ('hatchet', 3170), ('apologizing', 332), ('punk', 5453), ('escape', 2333), ('forehead', 2740), ('scrunching', 6036), ('permanent', 5057), ('footing', 2731), ('dizzy', 2004), ('bodypump', 760), ('gather', 2879), ('coaching', 1234), ('compulsory', 1336), ('cue', 1602), ('drinkin', 2080), ('whiskey', 7718), ('paul', 5009), ('farm', 2528), ('feed', 2566), ('jakun', 3723), ('mustered', 4550), ('christmassy', 1147), ('timing', 7080), ('ingrain', 3548), ('flagellating', 2653), ('albino', 189), ('priest', 5332), ('angel', 267), ('demon', 1764), ('blocked', 730), ('major', 4202), ('instance', 3592), ('require', 5762), ('tool', 7123), ('ideal', 3409), ('therapist', 7015), ('presumably', 5316), ('necessity', 4607), ('uniqueness', 7377), ('wholeness', 7727), ('presupposition', 5317), ('ought', 4864), ('service', 6127), ('youth', 7906), ('blatant', 715), ('defiance', 1730), ('olivias', 4802), ('prominent', 5384), ('characteristic', 1077), ('bloody', 739), ('incessant', 3490), ('bitching', 694), ('clock', 1209), ('calf', 937), ('tire', 7087), ('rank', 5542), ('frugal', 2819), ('antic', 304), ('improv', 3477), ('flattered', 2665), ('cause', 1021), ('irritation', 3690), ('belief', 626), ('lea', 3959), ('pleasent', 5172), ('benzema', 653), ('mould', 4495), ('sober', 6410), ('fellowship', 2579), ('searching', 6043), ('slap', 6316), ('burden', 900), ('mediterranean', 4319), ('surprise', 6817), ('lured', 4171), ('promise', 5385), ('champagne', 1065), ('bestselling', 658), ('kathy', 3823), ('lette', 4010), ('empowered', 2234), ('newer', 4651), ('cheaper', 1095), ('larger', 3924), ('leanne', 3967), ('honkerblonked', 3311), ('whirlwind', 7717), ('shoeless', 6201), ('slowing', 6344), ('hint', 3268), ('moffat', 4442), ('foreshadowing', 2742), ('solid', 6435), ('narrative', 4582), ('logic', 4098), ('suspense', 6832), ('manager', 4220), ('preparation', 5295), ('liked', 4046), ('whore', 7735), ('sniiiiifff', 6389), ('honey', 3309), ('gt', 3070), ('yunhos', 7910), ('rap', 5544), ('wtf', 7858), ('parked', 4968), ('opened', 4819), ('afrade', 146), ('manner', 4233), ('center', 1043), ('sacrificed', 5928), ('formal', 2751), ('evaluation', 2361), ('lightly', 4041), ('moanday', 4434), ('encourage', 2248), ('organization', 4849), ('chair', 1056), ('fellow', 2578), ('presented', 5305), ('impacting', 3453), ('detested', 1842), ('wherein', 7703), ('stirred', 6648), ('bond', 769), ('ehh', 2184), ('prize', 5348), ('italy', 3704), ('chasing', 1089), ('vj', 7566), ('library', 4022), ('sage', 5938), ('identify', 3412), ('palm', 4941), ('sulk', 6775), ('eqafe', 2323), ('continuing', 1433), ('boost', 780), ('nutrition', 4738), ('split', 6535), ('visiting', 7559), ('confrontation', 1373), ('aroused', 375), ('bringing', 845), ('dharma', 1859), ('necessary', 4606), ('alliance', 204), ('wink', 7764), ('livejournals', 4080), ('feature', 2555), ('enabling', 2241), ('journal', 3775), ('publish', 5431), ('grit', 3052), ('teeth', 6951), ('shook', 6202), ('weighing', 7676), ('filling', 2615), ('homework', 3303), ('olympics', 4804), ('complaining', 1318), ('semester', 6086), ('regularly', 5666), ('nyc', 4740), ('jersey', 3751), ('cooperative', 1461), ('slam', 6314), ('boss', 792), ('harass', 3146), ('museum', 4542), ('goliath', 2982), ('undone', 7339), ('humblest', 3369), ('protection', 5402), ('scratch', 6024), ('pot', 5241), ('sentence', 6103), ('consists', 1398), ('poop', 5209), ('joke', 3765), ('swamp', 6838), ('unfeeling', 7354), ('apathetic', 323), ('humanbeings', 3365), ('ass', 412), ('tattoo', 6924), ('peggy', 5030), ('mara', 4240), ('disdainful', 1940), ('ex', 2385), ('personalized', 5069), ('judged', 3787), ('nic', 4660), ('tape', 6909), ('election', 2194), ('rage', 5520), ('crossfit', 1577), ('coach', 1233), ('plank', 5150), ('enjoyed', 2278), ('recognised', 5611), ('thrown', 7053), ('cheer', 1104), ('commercialism', 1284), ('angie', 271), ('profoundly', 5372), ('sold', 6430), ('soulmate', 6478), ('regarding', 5658), ('chemistry', 1110), ('unlike', 7389), ('unease', 7342), ('apt', 360), ('known', 3881), ('classroom', 1176), ('intellect', 3606), ('flushing', 2703), ('headache', 3186), ('happier', 3139), ('implementing', 3459), ('alternative', 226), ('faux', 2543), ('hawk', 3182), ('dykey', 2122), ('exiting', 2438), ('freakishly', 2789), ('plunging', 5181), ('multitude', 4530), ('colored', 1260), ('pencil', 5033), ('nonetheless', 4692), ('enormously', 2285), ('included', 3496), ('pretended', 5319), ('lied', 4027), ('treassured', 7198), ('whip', 7714), ('crunchy', 1591), ('bully', 888), ('trailer', 7166), ('condescending', 1354), ('sunlight', 6785), ('affect', 137), ('growth', 3066), ('alexis', 194), ('magical', 4190), ('achieved', 64), ('athletic', 440), ('proving', 5417), ('typical', 7287), ('american', 242), ('dependent', 1784), ('foreign', 2741), ('oil', 4792), ('washington', 7632), ('torn', 7127), ('bleu', 723), ('arrive', 381), ('setup', 6135), ('seeking', 6061), ('ffxi', 2597), ('nobody', 4679), ('bothering', 795), ('including', 3498), ('duh', 2102), ('observation', 4750), ('feared', 2551), ('dh', 1857), ('internally', 3631), ('blessing', 722), ('entrusted', 2308), ('redcoat', 5626), ('obstacle', 4756), ('leaden', 3961), ('placed', 5144), ('anothers', 296), ('sympathy', 6869), ('protected', 5401), ('shifting', 6184), ('circle', 1157), ('reassures', 5591), ('dumb', 2107), ('defeat', 1720), ('challenged', 1062), ('cook', 1454), ('damaging', 1644), ('effect', 2170), ('remembering', 5720), ('feelbut', 2572), ('serenity', 6115), ('subtle', 6742), ('pink', 5127), ('cautious', 1025), ('shade', 6147), ('orgasm', 4852), ('boob', 775), ('impolite', 3462), ('handed', 3118), ('ride', 5837), ('wide', 7739), ('design', 1808), ('magi', 4188), ('herod', 3243), ('wax', 7644), ('tak', 6888), ('bare', 559), ('segregate', 6070), ('hurtful', 3384), ('handle', 3122), ('devote', 1852), ('significant', 6253), ('provocation', 5418), ('lifting', 4034), ('calmer', 948), ('inquire', 3568), ('incheswhyinches', 3492), ('relocating', 5705), ('metal', 4361), ('laughing', 3938), ('extreme', 2478), ('exchange', 2404), ('effecting', 2171), ('attracted', 464), ('unza', 7428), ('challenging', 1063), ('closure', 1216), ('module', 4441), ('interacted', 3622), ('definite', 1734), ('development', 1848), ('carl', 993), ('clarke', 1170), ('default', 1719), ('speaker', 6500), ('check', 1099), ('scheduled', 6005), ('motivating', 4490), ('studying', 6715), ('lifetime', 4031), ('fandom', 2520), ('stood', 6657), ('donning', 2024), ('vip', 7547), ('sticker', 6636), ('january', 3732), ('wicked', 7738), ('solution', 6439), ('raphael', 5547), ('grasping', 3024), ('eloquence', 2202), ('slip', 6334), ('ease', 2138), ('encoding', 2245), ('utf', 7465), ('locale', 4091), ('en', 2240), ('isprivate', 3698), ('ismobile', 3695), ('mobileclass', 4436), ('isprivateblog', 3699), ('languagedirection', 3917), ('ltr', 4156), ('feedlinks', 2570), ('atom', 448), ('xml', 7871), ('title', 7094), ('ovation', 4881), ('assume', 427), ('glanced', 2948), ('sidewalk', 6243), ('longing', 4113), ('weariness', 7656), ('slipped', 6335), ('unwelcome', 7424), ('easiest', 2142), ('praise', 5264), ('experiencing', 2447), ('twinge', 7277), ('eaten', 2147), ('dreadful', 2069), ('railway', 5525), ('burger', 904), ('secretary', 6051), ('tapped', 6910), ('politician', 5201), ('bias', 668), ('themed', 7011), ('anthology', 302), ('warning', 7625), ('aligncenter', 198), ('wp', 7839), ('mrdanbaird', 4513), ('suspected', 6831), ('distrustful', 1991), ('orphan', 4858), ('crisis', 1565), ('motor', 4492), ('instruction', 3600), ('bump', 892), ('mixture', 4432), ('generated', 2899), ('usmleasy', 7460), ('ptl', 5427), ('caring', 992), ('andthenwear', 265), ('bondmusings', 772), ('preservation', 5307), ('justice', 3805), ('ton', 7115), ('fair', 2502), ('ugliness', 7295), ('cramp', 1525), ('aching', 67), ('amazingly', 233), ('chill', 1125), ('ativan', 444), ('educating', 2167), ('educationg', 2169), ('mama', 4212), ('papa', 4950), ('supermarket', 6793), ('account', 53), ('offensive', 4781), ('dlk', 2005), ('anyways', 318), ('doha', 2014), ('mailman', 4195), ('handing', 3121), ('outing', 4872), ('tragedy', 7163), ('veil', 7498), ('lifted', 4033), ('range', 5541), ('uncommon', 7318), ('atheist', 439), ('moral', 4468), ('wasting', 7635), ('reply', 5750), ('zumba', 7929), ('tight', 7070), ('knit', 3872), ('oatmeal', 4742), ('sheri', 6179), ('king', 3856), ('ivspirit', 3712), ('translatethis', 7184), ('expensive', 2444), ('packaged', 4921), ('waitrose', 7591), ('parking', 4969), ('annoy', 287), ('radio', 5519), ('nation', 4587), ('lorena', 4126), ('kidnapped', 3844), ('enemy', 2261), ('desperate', 1819), ('vain', 7475), ('relieving', 5700), ('youthful', 7907), ('employment', 2233), ('charged', 1079), ('disoriented', 1959), ('swung', 6863), ('plodded', 5177), ('impending', 3455), ('dissatisfaction', 1974), ('riled', 5847), ('unsheathe', 7410), ('sword', 6861), ('lord', 4124), ('relief', 5697), ('linger', 4060), ('da', 1635), ('bul', 886), ('taewuhbeoryeo', 6884), ('burn', 907), ('niga', 4668), ('ulbujitneun', 7299), ('nal', 4572), ('ah', 168), ('neoneun', 4628), ('wiheomhae', 7744), ('gal', 2860), ('ttaekkaji', 7249), ('gatsseo', 2883), ('woooo', 7810), ('becuz', 603), ('cuz', 1629), ('contacting', 1419), ('externally', 2475), ('flexible', 2676), ('offending', 4778), ('related', 5679), ('homosexuality', 3305), ('karen', 3818), ('pushy', 5467), ('demanding', 1762), ('honor', 3312), ('sentinel', 6105), ('hanford', 3127), ('city', 1161), ('councilman', 1492), ('dan', 1648), ('chin', 1126), ('proposed', 5397), ('policy', 5196), ('secret', 6050), ('committee', 1289), ('summed', 6778), ('smaller', 6352), ('lego', 3990), ('delay', 1745), ('prizecompetition', 5349), ('acne', 70), ('pimple', 5121), ('obsessing', 4753), ('clover', 1220), ('lay', 3950), ('burst', 911), ('serve', 6125), ('limitation', 4055), ('fascinated', 2529), ('spacy', 6490), ('effective', 2172), ('pg', 5085), ('planning', 5152), ('informing', 3545), ('permeates', 5060), ('asylum', 432), ('seeker', 6060), ('dam', 1641), ('lake', 3908), ('recognition', 5612), ('subtly', 6743), ('select', 6076), ('spray', 6554), ('variant', 7485), ('pet', 5077), ('rewrite', 5830), ('fma', 2709), ('op', 4817), ('gigantic', 2930), ('clumsy', 1226), ('exited', 2437), ('talkative', 6899), ('sleepy', 6323), ('bandaid', 546), ('starving', 6606), ('ethiopia', 2352), ('abnormally', 15), ('staked', 6588), ('feeder', 2568), ('panic', 4944), ('flooding', 2690), ('darkness', 1659), ('japanese', 3733), ('intercourse', 3624), ('closet', 1214), ('numerous', 4731), ('accumulated', 57), ('disconnect', 1927), ('carried', 996), ('audre', 470), ('lorde', 4125), ('meaning', 4300), ('brainless', 814), ('touched', 7141), ('judgment', 3789), ('entitled', 2306), ('whining', 7712), ('delusion', 1758), ('forever', 2743), ('maintaining', 4201), ('settling', 6134), ('worst', 7830), ('damage', 1642), ('destruction', 1832), ('grudge', 3067), ('gratefulness', 3026), ('downright', 2046), ('bill', 677), ('ra', 5508), ('panicky', 4946), ('fuss', 2849), ('completing', 1325), ('warms', 7622), ('midst', 4377), ('quirky', 5498), ('inter', 3621), ('generational', 2901), ('epic', 2320), ('feat', 2554), ('lean', 3966), ('george', 2914), ('asks', 409), ('dorm', 2036), ('inspected', 3586), ('perfectly', 5046), ('frankly', 2780), ('progressing', 5377), ('wading', 7586), ('dialog', 1862), ('famous', 2517), ('cathartic', 1018), ('secretly', 6052), ('mychem', 4554), ('cred', 1551), ('ahahahaha', 170), ('morbidly', 4471), ('funny', 2845), ('complicated', 1328), ('commonplace', 1293), ('sacrifice', 5927), ('oddly', 4771), ('disjointed', 1951), ('antagonism', 301), ('misunderstanding', 4426), ('wholeheartedly', 7726), ('traditional', 7161), ('armistice', 371), ('remembrance', 5721), ('litte', 4075), ('implement', 3458), ('mediate', 4310), ('controlled', 1442), ('manipulated', 4229), ('pagetitle', 4929), ('awkwardness', 502), ('dink', 1896), ('double', 2039), ('prettymuch', 5323), ('awesome', 496), ('acronym', 73), ('daylight', 1676), ('provides', 5415), ('command', 1282), ('yarn', 7879), ('allows', 209), ('quality', 5481), ('raid', 5523), ('luftwaffe', 4161), ('jacket', 3717), ('mesh', 4353), ('consciously', 1386), ('replace', 5746), ('envous', 2319), ('sin', 6270), ('childish', 1123), ('address', 99), ('conducive', 1358), ('broken', 855), ('lick', 4023), ('lollypop', 4104), ('creatively', 1547), ('stimulating', 6642), ('fulfilling', 2832), ('teaching', 6934), ('pursuing', 5462), ('stumped', 6718), ('gentle', 2909), ('continental', 1428), ('purely', 5458), ('heaven', 3213), ('asbestos', 399), ('reluctance', 5706), ('federal', 2560), ('employ', 2230), ('plain', 5146), ('subdued', 6733), ('journalism', 3776), ('sibling', 6238), ('bro', 851), ('attending', 459), ('owen', 4911), ('morgan', 4474), ('undertaking', 7333), ('lightning', 4042), ('aa', 0), ('copy', 1469), ('paste', 4994), ('freely', 2792), ('stone', 6655), ('saved', 5981), ('manuscript', 4237), ('rabbit', 5509), ('foreboding', 2735), ('noleans', 4685), ('diy', 2003), ('sorta', 6475), ('wihtout', 7745), ('scrapbook', 6022), ('hesitation', 3249), ('engaged', 2268), ('rhythmic', 5833), ('jail', 3722), ('inhuman', 3551), ('realised', 5578), ('netherlands', 4640), ('thatrupert', 7008), ('polite', 5198), ('neutral', 4644), ('narrow', 4583), ('source', 6483), ('thyroid', 7060), ('dramatic', 2061), ('whiny', 7713), ('sam', 5950), ('pent', 5037), ('woken', 7798), ('customary', 1623), ('siesta', 6244), ('bald', 535), ('property', 5395), ('unsuspecting', 7417), ('displaced', 1961), ('disciple', 1922), ('manifestation', 4225), ('pierce', 5113), ('glory', 2964), ('thrill', 7043), ('kissed', 3860), ('knitting', 3874), ('covered', 1511), ('minimize', 4402), ('decompress', 1707), ('mid', 4373), ('magic', 4189), ('ibleeditout', 3401), ('kodi', 3882), ('brat', 819), ('request', 5761), ('viewed', 7530), ('sara', 5963), ('div', 1994), ('clearboth', 1186), ('padding', 4925), ('genuine', 2912), ('aout', 320), ('pumped', 5442), ('reject', 5672), ('scary', 5995), ('lottery', 4134), ('fill', 2613), ('porn', 5218), ('industry', 3530), ('buck', 876), ('oiler', 4793), ('rachel', 5511), ('reactive', 5568), ('caption', 973), ('idiocy', 3415), ('supremely', 6808), ('fastforwarding', 2536), ('mariah', 4246), ('carey', 991), ('classic', 1173), ('selective', 6078), ('privacy', 5344), ('send', 6089), ('invite', 3666), ('moody', 4464), ('depend', 1783), ('wishful', 7782), ('gaining', 2859), ('commitment', 1287), ('naega', 4564), ('deo', 1781), ('apaya', 326), ('hae', 3099), ('dasi', 1664), ('neol', 4626), ('chajeul', 1057), ('su', 6729), ('itge', 3709), ('sigani', 6246), ('heureulsurok', 3250), ('gaseumi', 2875), ('apawa', 325), ('hanbeon', 3114), ('manirado', 4231), ('wo', 7794), ('doedollil', 2012), ('suman', 6777), ('itdamyeon', 3706), ('gotong', 2995), ('ttawin', 7250), ('naegen', 4565), ('certainly', 1050), ('cost', 1483), ('brighter', 842), ('marginalised', 4244), ('define', 1733), ('layout', 3953), ('bicycle', 671), ('transport', 7186), ('bsc', 872), ('loop', 4120), ('ally', 211), ('marvellous', 4264), ('prank', 5268), ('prestige', 5315), ('pattern', 5008), ('harmony', 3161), ('swore', 6862), ('heap', 3198), ('greatness', 3036), ('kindness', 3855), ('sai', 5939), ('amos', 248), ('retrofitting', 5812), ('cohens', 1244), ('arrangement', 377), ('merely', 4348), ('homage', 3295), ('lurker', 4173), ('loss', 4131), ('chakotay', 1058), ('silently', 6259), ('approached', 354), ('chemotherapy', 1112), ('pinching', 5124), ('niggles', 4670), ('virtual', 7550), ('silence', 6257), ('cramping', 1527), ('sor', 6470), ('organizing', 4851), ('monastery', 4452), ('blackburn', 704), ('blackpool', 705), ('holloway', 3291), ('wave', 7643), ('shortsighted', 6217), ('saddened', 5930), ('hoped', 3321), ('expecting', 2442), ('bittersweet', 701), ('suffocated', 6766), ('pause', 5011), ('yknow', 7899), ('mr', 4512), ('giveaway', 2939), ('resist', 5779), ('execute', 2414), ('dishwasher', 1949), ('reflect', 5642), ('instant', 3593), ('refocus', 5645), ('moisturiser', 4443), ('sample', 5951), ('lasting', 3927), ('twice', 7275), ('cleansing', 1184), ('moisturising', 4444), ('america', 241), ('torso', 7130), ('siwons', 6297), ('loathe', 4086), ('gamer', 2865), ('molyneux', 4445), ('whose', 7736), ('jammed', 3726), ('excessive', 2403), ('noseband', 4705), ('considerable', 1390), ('reiterate', 5671), ('despondent', 1825), ('incident', 3493), ('mermaidhaire', 4352), ('public', 5430), ('heed', 3222), ('tossing', 7134), ('cube', 1599), ('swirl', 6858), ('sniff', 6387), ('recommend', 5614), ('popeye', 5212), ('cartoon', 1001), ('blissfully', 727), ('unaware', 7310), ('atrophy', 449), ('immense', 3449), ('proto', 5408), ('agent', 156), ('moreso', 4473), ('sucked', 6754), ('cycle', 1632), ('obedience', 4743), ('exhaling', 2424), ('vapor', 7484), ('lifeline', 4029), ('cleat', 1189), ('piling', 5118), ('covering', 1512), ('duct', 2100), ('active', 79), ('manitz', 4232), ('dot', 2038), ('accent', 32), ('inch', 3491), ('separating', 6110), ('mindset', 4397), ('digress', 1885), ('rescue', 5767), ('pretentious', 5321), ('extraordinarily', 2477), ('yup', 7911), ('coursing', 1505), ('attend', 458), ('video', 7526), ('imposed', 3466), ('adaption', 92), ('nosy', 4707), ('primary', 5333), ('hyperchondria', 3392), ('exaggeration', 2389), ('openly', 4821), ('frantically', 2782), ('studio', 6713), ('hormone', 3330), ('handrail', 3125), ('basement', 566), ('chicken', 1118), ('doubting', 2042), ('km', 3867), ('underrated', 7328), ('record', 5618), ('album', 190), ('hogging', 3281), ('angsty', 275), ('photography', 5096), ('omitted', 4806), ('questionable', 5490), ('nyps', 4741), ('webpage', 7663), ('wed', 7665), ('prove', 5410), ('pea', 5020), ('leap', 3968), ('stash', 6607), ('sane', 5958), ('guarantee', 3071), ('paragraph', 4955), ('tall', 6902), ('jerome', 3749), ('humanly', 3366), ('complain', 1317), ('sustained', 6836), ('afterward', 151), ('carrying', 998), ('program', 5373), ('junk', 3803), ('dough', 2043), ('panicked', 4945), ('unhealthy', 7365), ('creep', 1555), ('bodega', 757), ('laundry', 3942), ('devoid', 1851), ('coin', 1245), ('changer', 1069), ('machine', 4183), ('prior', 5340), ('gfathers', 2924), ('ute', 7464), ('load', 4085), ('prefer', 5288), ('manure', 4236), ('compost', 1332), ('indulge', 3527), ('wounded', 7837), ('burdened', 901), ('quarrel', 5482), ('lily', 4052), ('obligated', 4746), ('proven', 5412), ('slide', 6327), ('flash', 2659), ('west', 7690), ('meath', 4307), ('pinging', 5126), ('rudolph', 5901), ('valentino', 7477), ('unspeakable', 7412), ('baffled', 524), ('khatsii', 3839), ('tissue', 7091), ('overtly', 4901), ('embarrased', 2211), ('compete', 1313), ('mindful', 4396), ('experiment', 2448), ('resentment', 5773), ('blow', 741), ('slacking', 6313), ('unspoilt', 7413), ('ladder', 3901), ('jot', 3774), ('hussein', 3387), ('thug', 7055), ('administration', 106), ('humorous', 3375), ('caller', 942), ('entrance', 2307), ('biochemistry', 684), ('zambia', 7915), ('impressive', 3475), ('background', 514), ('clinic', 1204), ('lawyer', 3948), ('finishing', 2632), ('speech', 6509), ('jens', 3746), ('retirement', 5810), ('lunch', 4167), ('shortly', 6215), ('wimbledon', 7754), ('width', 7740), ('doodly', 2027), ('puzzled', 5472), ('trendy', 7209), ('stellar', 6626), ('overtone', 4902), ('ink', 3560), ('capture', 974), ('consistent', 1396), ('abstract', 24), ('compare', 1304), ('describe', 1800), ('alarm', 184), ('overtook', 4903), ('snake', 6378), ('bullying', 889), ('disrespected', 1971), ('twin', 7276), ('copper', 1468), ('pipe', 5133), ('contemplated', 1421), ('flowed', 2699), ('outward', 4879), ('soapbox', 6406), ('accepts', 39), ('erm', 2329), ('unjust', 7383), ('murt', 4540), ('gulam', 3082), ('ali', 195), ('classical', 1174), ('singer', 6277), ('nearby', 4602), ('driver', 2084), ('unappreciated', 7307), ('lest', 4006), ('ringing', 5849), ('sits', 6293), ('comfy', 1279), ('daddy', 1637), ('pack', 4919), ('mate', 4280), ('bonded', 770), ('touchy', 7143), ('feely', 2576), ('stymied', 6728), ('unintended', 7373), ('gap', 2869), ('region', 5661), ('outer', 4869), ('carniola', 994), ('evidence', 2380), ('suburban', 6744), ('luckily', 4158), ('ordering', 4842), ('pizza', 5141), ('thanksgiving', 7007), ('softball', 6426), ('vindictive', 7538), ('browser', 867), ('booth', 782), ('purchase', 5456), ('importance', 3463), ('sparkle', 6495), ('hopelessly', 3325), ('channel', 1071), ('disconnected', 1928), ('repentant', 5744), ('opposition', 4832), ('civil', 1162), ('sensitive', 6101), ('si', 6237), ('awoken', 503), ('fought', 2764), ('apologize', 330), ('dread', 2067), ('hike', 3264), ('sickened', 6240), ('lance', 3912), ('dallas', 1640), ('cashier', 1005), ('deaf', 1682), ('housewife', 3349), ('funky', 2844), ('secondary', 6049), ('cornish', 1475), ('cornwall', 1476), ('sheltered', 6177), ('clinique', 1205), ('nervousness', 4634), ('waited', 7589), ('rested', 5800), ('unfinished', 7355), ('freud', 2800), ('irma', 3678), ('injection', 3556), ('completion', 1326), ('specifically', 6506), ('offline', 4788), ('advise', 132), ('smelly', 6359), ('jalopy', 3724), ('ripe', 5853), ('m', 4179), ('linux', 4063), ('ubuntu', 7293), ('user', 7457), ('platform', 5159), ('eschew', 2335), ('foraging', 2732), ('unattainable', 7308), ('vow', 7579), ('reporting', 5753), ('requirement', 5764), ('patent', 4997), ('metallic', 4362), ('clutch', 1228), ('accessory', 41), ('exercising', 2422), ('experimented', 2449), ('sadly', 5932), ('ther', 7014), ('weaker', 7650), ('profile', 5370), ('responsible', 5797), ('beacuse', 585), ('dirty', 1909), ('effectively', 2173), ('recovering', 5621), ('deceived', 1694), ('deciding', 1702), ('cream', 1541), ('sandwich', 5956), ('sweetness', 6849), ('recess', 5605), ('vomit', 7573), ('flow', 2698), ('resisting', 5781), ('peregrinos', 5044), ('unfairness', 7351), ('apologise', 329), ('vagina', 7473), ('sugary', 6768), ('distinctly', 1981), ('excuse', 2413), ('ticket', 7064), ('marten', 4259), ('sol', 6429), ('barbies', 558), ('shattered', 6171), ('carbs', 979), ('underground', 7325), ('toby', 7099), ('tunji', 7260), ('accomplish', 47), ('demotivate', 1768), ('enthusiasm', 2299), ('diwali', 2002), ('katanya', 3821), ('feauture', 2556), ('feautures', 2557), ('selena', 6079), ('soo', 6462), ('colour', 1262), ('birthday', 689), ('flutter', 2705), ('annulment', 292), ('case', 1003), ('trepidatious', 7210), ('chat', 1091), ('rustie', 5921), ('dean', 1686), ('hometown', 3302), ('moose', 4466), ('filled', 2614), ('pant', 4947), ('sour', 6482), ('manual', 4235), ('unsupervised', 7415), ('sucessfully', 6752), ('handbrake', 3117), ('un', 7304), ('eloquent', 2203), ('charm', 1084), ('array', 379), ('delight', 1752), ('legard', 3987), ('anyones', 315), ('amvassago', 254), ('beefy', 607), ('amkris', 245), ('toshibalol', 7133), ('amits', 244), ('beef', 606), ('nooo', 4695), ('aac', 1), ('miserable', 4410), ('clawed', 1178), ('courage', 1503), ('massively', 4274), ('downvoted', 2047), ('rugmi', 5904), ('moss', 4481), ('encased', 2244), ('muffling', 4523), ('sharper', 6170), ('painful', 4933), ('l', 3889), ('immature', 3445), ('cheat', 1096), ('dust', 2116), ('sport', 6548), ('anatomy', 259), ('ty', 7285), ('complex', 1327), ('chalking', 1060), ('academia', 29), ('created', 1543), ('delightful', 1754), ('everythings', 2377), ('psychically', 5423), ('galvanised', 2863), ('wrestle', 7843), ('reread', 5766), ('trial', 7211), ('e', 2124), ('terminando', 6982), ('com', 1266), ('um', 7302), ('ano', 293), ('depois', 1788), ('humbled', 3368), ('legend', 3988), ('ewan', 2384), ('investing', 3662), ('dummy', 2108), ('pariah', 4965), ('giver', 2941), ('taker', 6893), ('drained', 2059), ('defense', 1726), ('onscreen', 4813), ('boxing', 808), ('determine', 1839), ('unwell', 7425), ('flattened', 2664), ('chipping', 1132), ('deffinately', 1729), ('stunningly', 6720), ('elegant', 2196), ('darling', 1660), ('unibrow', 7367), ('spare', 6493), ('creeping', 1556), ('eyelid', 2483), ('snack', 6375), ('amongst', 247), ('sincerity', 6273), ('moxie', 4510), ('cath', 1017), ('script', 6033), ('li', 4016), ('border', 784), ('margin', 4243), ('disservice', 1976), ('artifically', 390), ('chaperone', 1074), ('mentality', 4340), ('enmayi', 2283), ('ing', 3547), ('bothersome', 796), ('snapping', 6382), ('manicure', 4224), ('heal', 3193), ('surprisingly', 6820), ('earn', 2132), ('rolex', 5873), ('collection', 1253), ('draft', 2052), ('jewellery', 3754), ('hum', 3363), ('shift', 6183), ('warp', 7626), ('wednesday', 7667), ('bombed', 767), ('interview', 3638), ('tastic', 6919), ('celebrated', 1037), ('occur', 4764), ('defend', 1723), ('code', 1239), ('fanatic', 2519), ('behave', 616), ('culturally', 1604), ('lends', 3995), ('projected', 5380), ('ecstasy', 2158), ('triumph', 7225), ('overweight', 4904), ('refusing', 5653), ('sniping', 6390), ('surprising', 6819), ('decluttering', 1706), ('swelling', 6851), ('jumpy', 3800), ('bottle', 797), ('pill', 5119), ('amazingness', 234), ('holly', 3292), ('wallowing', 7602), ('pity', 5140), ('revovles', 5828), ('ansi', 297), ('exhausting', 2426), ('discouraged', 1930), ('sue', 6760), ('bloater', 728), ('click', 1194), ('available', 482), ('churchoffuck', 1153), ('outweighs', 4880), ('xango', 7864), ('juice', 3792), ('wrapping', 7842), ('fiddly', 2602), ('wasted', 7634), ('sensibly', 6099), ('depleted', 1787), ('checklist', 1102), ('remedy', 5717), ('soccer', 6412), ('bar', 555), ('rip', 5852), ('spinach', 6522), ('feta', 2590), ('cranberry', 1528), ('salad', 5944), ('balsamic', 540), ('viniagrette', 7542), ('clash', 1171), ('laconic', 3899), ('justin', 3810), ('aryiku', 397), ('echo', 2154), ('participate', 4976), ('sketch', 6302), ('sweden', 6845), ('embarassing', 2210), ('dreaded', 2068), ('dreading', 2070), ('lover', 4146), ('controlling', 1443), ('wary', 7629), ('bleh', 718), ('sexually', 6144), ('psychologically', 5424), ('atleast', 445), ('dd', 1679), ('nicest', 4664), ('kindest', 3853), ('caterpillar', 1016), ('beside', 655), ('crawling', 1537), ('denying', 1780), ('leather', 3976), ('sandal', 5955), ('tasting', 6920), ('exposing', 2464), ('shyness', 6236), ('aloof', 217), ('headphone', 3192), ('philip', 5089), ('reaura', 5593), ('firming', 2641), ('smoothing', 6371), ('grade', 3006), ('owl', 4912), ('template', 6960), ('canvas', 969), ('pensive', 5036), ('visual', 7562), ('spoke', 6542), ('reported', 5752), ('dissassociated', 1973), ('hu', 3355), ('jia', 3757), ('store', 6661), ('waste', 7633), ('biology', 685), ('tease', 6937), ('approx', 357), ('foggy', 2714), ('joseph', 3772), ('walt', 7604), ('emphasize', 2229), ('hypersexual', 3394), ('tartlet', 6913), ('rihanna', 5845), ('provocative', 5419), ('scotty', 6021), ('priced', 5330), ('happily', 3140), ('bobbing', 754), ('exploring', 2461), ('formed', 2753), ('encountered', 2247), ('essay', 2340), ('fitted', 2649), ('skirt', 6311), ('significantly', 6254), ('instagram', 3591), ('predicted', 5286), ('gallows', 2862), ('nine', 4677), ('unmotivated', 7393), ('grabbed', 3001), ('collar', 1250), ('pulled', 5437), ('tonguey', 7119), ('cheek', 1103), ('pulsed', 5440), ('bud', 878), ('clit', 1208), ('thorough', 7033), ('preschool', 5299), ('spotless', 6550), ('bright', 841), ('sudden', 6758), ('rd', 5562), ('decade', 1692), ('nevertheless', 4647), ('swept', 6852), ('superstition', 6794), ('caution', 1024), ('slate', 6319), ('unilaterally', 7369), ('forgiving', 2747), ('carelessness', 989), ('perceived', 5041), ('abuse', 26), ('communion', 1297), ('sublime', 6736), ('proved', 5411), ('pointless', 5189), ('uneffected', 7345), ('remarkably', 5716), ('foolish', 2728), ('jew', 3753), ('religious', 5702), ('obey', 4744), ('prohibition', 5378), ('desirable', 1812), ('unfairly', 7350), ('heading', 3188), ('abyss', 28), ('refers', 5640), ('ironically', 3680), ('loudons', 4140), ('kate', 3822), ('mcgarrigle', 4293), ('rufus', 5903), ('wainwright', 7587), ('insomnia', 3584), ('softer', 6427), ('ensue', 2289), ('repressed', 5755), ('instigated', 3596), ('reilly', 5669), ('perfume', 5051), ('woodland', 7809), ('activity', 83), ('treasure', 7199), ('whereas', 7702), ('pushing', 5466), ('slapping', 6318), ('fake', 2508), ('anne', 283), ('coulter', 1491), ('schultz', 6010), ('outrage', 4874), ('collective', 1254), ('tirade', 7086), ('eatery', 2149), ('spice', 6518), ('flavor', 2667), ('diverse', 1995), ('tag', 6885), ('fund', 2840), ('lighted', 4036), ('relatively', 5685), ('economically', 2156), ('hr', 3352), ('pete', 5079), ('edochie', 2165), ('responds', 5794), ('hoax', 3277), ('olajideolafunmbi', 4797), ('accidentally', 43), ('impromptu', 3476), ('cinema', 1156), ('info', 3541), ('acutely', 89), ('totality', 7136), ('gently', 2911), ('cluster', 1227), ('outburst', 4866), ('hubby', 3356), ('agreed', 166), ('anxiously', 310), ('bearing', 590), ('ww', 7860), ('engineer', 2270), ('dsp', 2096), ('crunching', 1590), ('software', 6428), ('remaining', 5712), ('explains', 2453), ('bridge', 838), ('continuity', 1434), ('rooster', 5883), ('underwhelmed', 7336), ('lil', 4051), ('axel', 504), ('prompting', 5388), ('insulting', 3603), ('mri', 4514), ('legality', 3986), ('tatter', 6923), ('messaging', 4356), ('prop', 5392), ('compartmentalised', 1308), ('science', 6011), ('separate', 6107), ('dial', 1860), ('halfway', 3107), ('factory', 2493), ('butchery', 917), ('painless', 4934), ('grocery', 3053), ('terry', 6992), ('yippee', 7897), ('unloved', 7390), ('forgotten', 2749), ('decent', 1696), ('efficient', 2174), ('derfwadmanor', 1797), ('momma', 4449), ('willed', 7749), ('tx', 7284), ('sassiness', 5971), ('breeze', 833), ('vividly', 7565), ('university', 7382), ('administrator', 107), ('readmit', 5573), ('collin', 1257), ('finnerty', 2635), ('jan', 3727), ('ten', 6967), ('cross', 1575), ('beam', 587), ('metre', 4366), ('inaction', 3484), ('insist', 3582), ('charity', 1082), ('donated', 2020), ('easel', 2139), ('alongside', 216), ('diane', 1863), ('von', 7577), ('furstenberg', 2848), ('rodarte', 5870), ('wu', 7859), ('devotee', 1854), ('deen', 1714), ('bandhu', 547), ('uplifter', 7433), ('benefit', 649), ('menswear', 4338), ('venture', 7504), ('intrigued', 3645), ('deodorant', 1782), ('snob', 6393), ('intrusive', 3651), ('sexual', 6143), ('evaporate', 2363), ('cyberspace', 1631), ('heathen', 3212), ('enjoys', 2281), ('arousing', 376), ('swarming', 6839), ('intuitive', 3653), ('sauna', 5978), ('steam', 6623), ('goldilocks', 2981), ('sexy', 6145), ('reckless', 5609), ('failing', 2499), ('overconfident', 4887), ('worse', 7827), ('reign', 5668), ('difficulty', 1879), ('orgasmic', 4853), ('stupor', 6724), ('envelops', 2313), ('discover', 1931), ('eternally', 2349), ('zack', 7914), ('ken', 3832), ('dentist', 1778), ('abit', 13), ('hidden', 3254), ('temporarily', 6962), ('exit', 2436), ('lawrencewashington', 3947), ('divinity', 1999), ('snail', 6377), ('mucus', 4520), ('texture', 6997), ('considers', 1395), ('nuclear', 4727), ('weapon', 7654), ('protest', 5407), ('riot', 5851), ('defeated', 1721), ('fool', 2726), ('gook', 2989), ('gulped', 3083), ('spew', 6517), ('desperation', 1821), ('birthmoms', 690), ('headlamp', 3189), ('tent', 6978), ('slight', 6329), ('lens', 3999), ('likeaudrey', 4045), ('hepburn', 3240), ('tiffany', 7068), ('nominated', 4686), ('mary', 4266), ('whingeing', 7711), ('uglier', 7294), ('deformed', 1739), ('peter', 5080), ('recent', 5602), ('decidedly', 1700), ('egalitarian', 2177), ('feminist', 2583), ('jonalyn', 3769), ('finchers', 2625), ('soulation', 6477), ('gabapentin', 2854), ('zonisamide', 7927), ('detailed', 1835), ('feeble', 2565), ('holistic', 3288), ('enthusiastic', 2301), ('insert', 3575), ('asshole', 419), ('ballet', 538), ('vibration', 7519), ('admired', 110), ('optimist', 4835), ('obligation', 4747), ('reasonably', 5589), ('genealogical', 2895), ('strain', 6668), ('nutritional', 4739), ('solve', 6440), ('miracle', 4406), ('grumble', 3068), ('spitting', 6531), ('disrespect', 1970), ('smarter', 6355), ('rounded', 5892), ('demonstrate', 1765), ('heinous', 3227), ('logistics', 4100), ('glasgow', 2952), ('ebb', 2152), ('dissipate', 1977), ('resolution', 5782), ('offense', 4780), ('frightening', 2811), ('frightful', 2812), ('vulnerability', 7582), ('manifesting', 4226), ('hating', 3175), ('sliding', 6328), ('throbbing', 7047), ('cock', 1238), ('millennium', 4391), ('brainstorming', 815), ('vice', 7521), ('shaving', 6173), ('precision', 5280), ('interaction', 3623), ('hurry', 3382), ('haptic', 3144), ('herrman', 3244), ('haptics', 3145), ('brach', 811), ('chipmunk', 1131), ('gettin', 2922), ('conducted', 1360), ('survey', 6826), ('onel', 4810), ('creator', 1549), ('eminent', 2219), ('patriotic', 5005), ('deed', 1711), ('digust', 1886), ('trend', 7208), ('rejuvenated', 5676), ('implant', 3457), ('gwiyomi', 3091), ('undoubtedly', 7340), ('banking', 551), ('pundit', 5450), ('steal', 6622), ('joshua', 3773), ('apathy', 324), ('powerlessness', 5255), ('sends', 6091), ('tizzy', 7096), ('haagen', 3094), ('dazs', 1677), ('putter', 5469), ('ignoring', 3428), ('plea', 5167), ('relaxing', 5689), ('defriended', 1740), ('imagining', 3442), ('intuition', 3652), ('stinky', 6646), ('paralysis', 4957), ('forefinger', 2737), ('thumb', 7056), ('bizarre', 702), ('mistreated', 4424), ('recite', 5608), ('mantra', 4234), ('shiftless', 6185), ('tempura', 6966), ('sundae', 6783), ('swear', 6840), ('malignant', 4210), ('melonoma', 4330), ('proper', 5393), ('bod', 756), ('browne', 865), ('reacting', 5566), ('tempted', 6964), ('mun', 4534), ('stressful', 6685), ('ambulatory', 239), ('dannika', 1656), ('cow', 1514), ('gabriella', 2855), ('apple', 343), ('tempered', 6959), ('fearless', 2553), ('importantly', 3465), ('clicked', 1195), ('twitchy', 7281), ('captured', 975), ('federer', 2561), ('excelent', 2397), ('deny', 1779), ('inducing', 3526), ('deprecation', 1789), ('frustration', 2823), ('artificially', 391), ('skincare', 6307), ('sectret', 6054), ('egf', 2179), ('repairing', 5737), ('gel', 2892), ('switched', 6860), ('jar', 3734), ('sparkleapple', 6496), ('vegetarian', 7495), ('vegan', 7494), ('eater', 2148), ('toxin', 7152), ('healthcare', 3196), ('trample', 7173), ('multiplayer', 4527), ('agenda', 155), ('tank', 6907), ('zara', 7916), ('marveling', 4263), ('prescribed', 5300), ('pia', 5101), ('insanely', 3570), ('hardship', 3156), ('assessment', 417), ('curb', 1611), ('elevated', 2198), ('metabolism', 4360), ('drug', 2092), ('hyperthyroidism', 3395), ('oncologist', 4807), ('initally', 3552), ('internist', 3633), ('nasal', 4584), ('sarcoma', 5969), ('raw', 5559), ('suspicion', 6833), ('negativity', 4617), ('stud', 6710), ('attach', 450), ('decorative', 1709), ('visible', 7554), ('gold', 2979), ('jewelry', 3755), ('minimal', 4400), ('selling', 6084), ('revenue', 5823), ('creation', 1545), ('wig', 7743), ('inner', 3564), ('duty', 2117), ('mu', 4515), ('tou', 7139), ('massage', 4272), ('rejoice', 5675), ('nursing', 4735), ('chronically', 1149), ('grandeur', 3015), ('squirt', 6574), ('suffered', 6763), ('nightmare', 4675), ('addition', 98), ('bodywork', 761), ('paris', 4966), ('predictable', 5284), ('migraine', 4381), ('intensifying', 3615), ('bubbling', 874), ('stuffed', 6717), ('lying', 4177), ('admin', 105), ('ie', 3422), ('ehb', 2183), ('ow', 4909), ('grinned', 3049), ('giggly', 2932), ('orchestra', 4839), ('reinforcement', 5670), ('cognitive', 1242), ('reframing', 5646), ('diminishing', 1890), ('dissolving', 1978), ('deferring', 1728), ('luka', 4163), ('deke', 1744), ('puzzling', 5473), ('singled', 6280), ('ssr', 6577), ('oxygen', 4913), ('theory', 7013), ('unsolved', 7411), ('hugely', 3360), ('smoothie', 6370), ('dining', 1895), ('cope', 1465), ('puncture', 5449), ('tyre', 7290), ('synthetic', 6872), ('pearl', 5025), ('trinket', 7222), ('rash', 5553), ('tomfoolery', 7113), ('shenanigan', 6178), ('advocate', 133), ('coordinate', 1462), ('cave', 1028), ('tibris', 7062), ('parody', 4971), ('congratulation', 1378), ('cared', 983), ('rapport', 5549), ('column', 1265), ('logging', 4097), ('queen', 5485), ('tasked', 6916), ('miscreant', 4409), ('downer', 2045), ('humping', 3376), ('hip', 3269), ('splurge', 6536), ('spur', 6562), ('critical', 1567), ('dennis', 1775), ('covingtons', 1513), ('merit', 4351), ('sabotaging', 5924), ('funk', 2843), ('floating', 2689), ('confront', 1372), ('absolute', 20), ('openness', 4822), ('whir', 7716), ('stir', 6647), ('glare', 2950), ('directed', 1903), ('stating', 6612), ('disrupt', 1972), ('euro', 2357), ('shire', 6189), ('reunited', 5817), ('medically', 4313), ('asserting', 416), ('fail', 2497), ('communicate', 1294), ('seek', 6059), ('optimism', 4834), ('refusal', 5650), ('humiliated', 3371), ('conventional', 1447), ('sens', 6093), ('ceiling', 1035), ('surface', 6811), ('transcribe', 7179), ('figt', 2609), ('mug', 4524), ('hallucination', 3111), ('chaste', 1090), ('apartment', 322), ('budget', 880), ('spreadsheet', 6557), ('someplace', 6448), ('maniacal', 4223), ('andreas', 263), ('belly', 636), ('meanness', 4301), ('withdrawal', 7787), ('lambrusco', 3910), ('bubbly', 875), ('tenure', 6979), ('protects', 5405), ('intrusion', 3650), ('gender', 2893), ('paparazzo', 4951), ('zq', 7928), ('jcho', 3738), ('cpine', 1518), ('hardest', 3153), ('suppress', 6807), ('tiring', 7090), ('crochet', 1570), ('square', 6568), ('unexpected', 7348), ('dreamed', 2072), ('graduation', 3011), ('spying', 6566), ('tackle', 6879), ('dom', 2017), ('tide', 7066), ('relentlessly', 5694), ('surrounding', 6824), ('declare', 1705), ('sickening', 6241), ('songy', 6458), ('betraying', 661), ('warming', 7620), ('practiced', 5260), ('correctness', 1481), ('endeavoring', 2253), ('honesty', 3308), ('authenticity', 475), ('shortlist', 6213), ('congratulate', 1377), ('nominee', 4687), ('scotland', 6019), ('intro', 3646), ('fff', 2595), ('trebuchet', 7203), ('helvetica', 3236), ('bitstream', 697), ('vera', 7506), ('w', 7585), ('catapulted', 1012), ('paid', 4930), ('centered', 1044), ('dictated', 1870), ('innate', 3563), ('idealistic', 3410), ('proported', 5396), ('pitied', 5139), ('spoiler', 6541), ('badass', 521), ('seeps', 6069), ('guide', 3078), ('loner', 4109), ('occasionally', 4761), ('luggage', 4162), ('exceptional', 2401), ('firefly', 2637), ('mixed', 4430), ('crafted', 1523), ('chore', 1139), ('exploration', 2457), ('stadium', 6582), ('wherever', 7704), ('zen', 7919), ('careeeeee', 984), ('induced', 3525), ('nightlife', 4673), ('speed', 6510), ('concieve', 1348), ('spoken', 6543), ('hyperemesis', 3393), ('vomity', 7576), ('shocked', 6197), ('condemning', 1353), ('consequence', 1387), ('november', 4722), ('hummpffff', 3373), ('tornado', 7128), ('hav', 3181), ('indonesia', 3524), ('disgust', 1944), ('drew', 2077), ('focalors', 2710), ('sigil', 6250), ('opium', 4827), ('incense', 3489), ('grabbing', 3002), ('wooden', 7808), ('powder', 5251), ('mistress', 4425), ('kite', 3864), ('shelter', 6176), ('offender', 4777), ('amusing', 253), ('slugged', 6346), ('dozen', 2048), ('poo', 5207), ('convenience', 1444), ('notion', 4718), ('ensuring', 2291), ('demotivated', 1769), ('curriculum', 1619), ('priority', 5341), ('knock', 3875), ('backlog', 516), ('sustainability', 6835), ('dwelling', 2120), ('brief', 839), ('invested', 3659), ('pumpkin', 5444), ('latte', 3934), ('marvelous', 4265), ('irresistible', 3686), ('frock', 2814), ('endure', 2259), ('ridiculed', 5839), ('nicer', 4663), ('mothering', 4485), ('weekly', 7671), ('irresistable', 3685), ('polish', 5197), ('jacked', 3716), ('electrified', 2195), ('weave', 7660), ('definitive', 1737), ('forsaken', 2757), ('migrate', 4382), ('freshman', 2799), ('consumes', 1415), ('processing', 5356), ('associate', 423), ('practicies', 5261), ('cult', 1603), ('falun', 2513), ('gong', 2984), ('bemused', 643), ('caregiver', 988), ('fooled', 2727), ('upcoming', 7430), ('drowning', 2090), ('empowering', 2235), ('andover', 262), ('dunham', 2114), ('portrayed', 5225), ('hannahs', 3132), ('minimise', 4401), ('distress', 1988), ('unfair', 7349), ('brutality', 871), ('leer', 3982), ('whelming', 7700), ('nick', 4665), ('forgetting', 2745), ('conversing', 1449), ('ro', 5860), ('anna', 282), ('wealth', 7653), ('paused', 5012), ('glancing', 2949), ('kakashi', 3816), ('elliptical', 2201), ('confrontational', 1374), ('thrive', 7045), ('executive', 2418), ('corporate', 1478), ('introduce', 3647), ('balanced', 534), ('historian', 3271), ('devin', 1850), ('hehe', 3225), ('bos', 791), ('gifted', 2929), ('imagination', 3439), ('radiator', 5517), ('regarded', 5657), ('highest', 3259), ('urgency', 7447), ('addressing', 100), ('blush', 750), ('resting', 5801), ('cavalier', 1027), ('trimmed', 7220), ('spoil', 6539), ('breed', 832), ('coat', 1236), ('unemotional', 7346), ('required', 5763), ('toronto', 7129), ('loser', 4129), ('degrassi', 1741), ('junior', 3802), ('weep', 7673), ('responding', 5793), ('dumpee', 2110), ('slighted', 6330), ('stem', 6627), ('rejection', 5674), ('replacement', 5748), ('forum', 2762), ('unmentioned', 7392), ('unity', 7379), ('highlight', 3260), ('hallucinate', 3110), ('returned', 5815), ('bunking', 896), ('imperfect', 3456), ('abandonment', 6), ('cliche', 1193), ('xox', 7872), ('learing', 3969), ('idol', 3419), ('flighty', 2681), ('mere', 4347), ('yearns', 7885), ('invaded', 3655), ('recurring', 5624), ('clench', 1190), ('tether', 6995), ('soothe', 6468), ('womanhood', 7800), ('ampatuan', 251), ('spread', 6555), ('odor', 4773), ('julia', 3794), ('mehow', 4324), ('casually', 1009), ('april', 359), ('infield', 3536), ('insider', 3577), ('ji', 3756), ('kin', 3851), ('spore', 6547), ('mailorder', 4196), ('kome', 3883), ('misspelt', 4421), ('cumming', 1607), ('devastated', 1844), ('dezinesamaze', 1856), ('gleefully', 2956), ('roasting', 5864), ('marshmallow', 4257), ('fireplace', 2638), ('original', 4855), ('slink', 6333), ('dressed', 2075), ('contribute', 1438), ('precisely', 5279), ('spock', 6538), ('reciprocate', 5607), ('refused', 5652), ('separated', 6108), ('introducing', 3648), ('sprinkling', 6560), ('coupled', 1502), ('senior', 6092), ('pastor', 4995), ('glaring', 2951), ('inexperience', 3533), ('pounding', 5248), ('cyber', 1630), ('tith', 7093), ('ath', 437), ('disaster', 1919), ('afp', 145), ('actress', 85), ('st', 6578), ('janne', 3731), ('suominen', 6788), ('pinched', 5123), ('disabled', 1911), ('mda', 4296), ('telethon', 6953), ('combination', 1268), ('relegated', 5692), ('frosting', 2817), ('cooky', 1457), ('butter', 919), ('shortening', 6212), ('trans', 7176), ('committed', 1288), ('agreement', 167), ('anybody', 311), ('washing', 7631), ('motivate', 4488), ('babe', 508), ('peach', 5023), ('manipulate', 4228), ('lined', 4059), ('positioned', 5229), ('prupose', 5421), ('snacking', 6376), ('smothered', 6373), ('supervising', 6796), ('compere', 1312), ('thwarted', 7059), ('immobile', 3451), ('thanked', 7001), ('admitted', 115), ('wholly', 7729), ('qualify', 5480), ('offence', 4774), ('delhi', 1747), ('punjabi', 5452), ('easter', 2144), ('kiat', 3840), ('obsessive', 4755), ('anal', 256), ('mailbox', 4194), ('clerk', 1191), ('willingness', 7752), ('comparatively', 1303), ('delivered', 1756), ('disgruntled', 1943), ('digesting', 1881), ('ish', 3692), ('unnaturally', 7394), ('compensate', 1311), ('eid', 2185), ('continuous', 1435), ('lash', 3925), ('mushy', 4543), ('feverishly', 2594), ('pirate', 5135), ('landlubber', 3915), ('demand', 1761), ('drum', 2093), ('venerable', 7500), ('sock', 6419), ('string', 6690), ('risen', 5855), ('desolate', 1816), ('soundscapes', 6480), ('firm', 2640), ('believer', 629), ('lift', 4032), ('bead', 586), ('snooze', 6397), ('july', 3796), ('concidence', 1347), ('energetically', 2263), ('carson', 999), ('potato', 5242), ('brokeup', 856), ('persistent', 5063), ('wheeeeee', 7698), ('youngster', 7905), ('fad', 2495), ('pedestrian', 5027), ('passenger', 4986), ('mince', 4394), ('goodie', 2987), ('esp', 2338), ('uw', 7471), ('originally', 4856), ('nursery', 4734), ('enjoyable', 2277), ('pupil', 5454), ('huhuhu', 3362), ('battling', 580), ('natasha', 4586), ('gan', 2866), ('suede', 6761), ('boot', 781), ('chadstone', 1053), ('tonite', 7121), ('counter', 1498), ('female', 2581), ('redhead', 5629), ('wising', 7784), ('superman', 6792), ('foodie', 2725), ('crol', 1573), ('tl', 7097), ('per', 5039), ('unsettling', 7409), ('usa', 7451), ('physic', 5098), ('recover', 5620), ('intend', 3611), ('albeit', 188), ('riku', 5846), ('opposed', 4830), ('exceedingly', 2396), ('resented', 5771), ('directly', 1906), ('backdrop', 512), ('examine', 2392), ('phenomenon', 5088), ('influencing', 3540), ('calming', 949), ('bold', 765), ('leopard', 4002), ('artistry', 394), ('bishan', 691), ('fetch', 2591), ('belittle', 631), ('spoiled', 6540), ('jack', 3715), ('julian', 3795), ('redundant', 5632), ('credential', 1552), ('persecuted', 5062), ('dominican', 2019), ('republic', 5758), ('threaten', 7039), ('conducting', 1361), ('lexicon', 4015), ('innovation', 3566), ('economic', 2155), ('labor', 3893), ('replica', 5749), ('nomming', 4688), ('relived', 5704), ('truely', 7235), ('kingdom', 3857), ('trembly', 7205), ('whack', 7694), ('messed', 4357), ('denial', 1770), ('hastings', 3168), ('disorder', 1956), ('insisted', 3583), ('plagued', 5145), ('named', 4575), ('dylan', 2123), ('hunger', 3379), ('ferocious', 2585), ('continually', 1429), ('triggered', 7217), ('admittance', 114), ('snotface', 6398), ('zealand', 7918), ('overseas', 4897), ('exhilarating', 2429), ('scenery', 5999), ('unintentionally', 7374), ('favorable', 2545), ('starter', 6601), ('niggling', 4671), ('wiser', 7779), ('kierkegaard', 3845), ('philosopher', 5090), ('removing', 5731), ('maryland', 4267), ('balk', 536), ('soup', 6481), ('cell', 1040), ('bio', 682), ('nowwwwww', 4725), ('strop', 6700), ('ruffling', 5902), ('inflating', 3537), ('exaggerating', 2388), ('ller', 4084), ('sale', 5945), ('weigh', 7674), ('consideration', 1392), ('florence', 2694), ('salvation', 5949), ('merciless', 4345), ('vocab', 7568), ('eh', 2182), ('verge', 7509), ('tenderly', 6972), ('detatched', 1837), ('russell', 5919), ('crowe', 1582), ('robin', 5866), ('hood', 3316), ('merida', 4350), ('owe', 4910), ('tradition', 7160), ('flaunt', 2666), ('policeman', 5195), ('viewpoint', 7532), ('nd', 4599), ('vlog', 7567), ('loudly', 4139), ('exhausted', 2425), ('gradually', 3008), ('pacified', 4917), ('disappear', 1915), ('resistant', 5780), ('fist', 2646), ('anansi', 258), ('cautiously', 1026), ('distracting', 1985), ('metaphorically', 4364), ('peril', 5053), ('deranged', 1794), ('villian', 7537), ('wiped', 7773), ('spritz', 6561), ('toner', 7117), ('teeter', 6950), ('totering', 7138), ('sentimental', 6104), ('lawn', 3946), ('assurance', 430), ('xd', 7866), ('disgusting', 1946), ('tactic', 6882), ('spat', 6497), ('fragrance', 2775), ('freshen', 2798), ('underwear', 7335), ('drawer', 2064), ('gorgeously', 2993), ('girly', 2937), ('clint', 1206), ('excitment', 2410), ('xdd', 7867), ('hohoho', 3282), ('foward', 2771), ('sharia', 6165), ('stream', 6679), ('european', 2358), ('union', 7375), ('thesis', 7020), ('glc', 2954), ('affend', 141), ('catholic', 1019), ('inviting', 3668), ('involving', 3671), ('decaf', 1693), ('learns', 3973), ('corey', 1472), ('boasting', 752), ('horrid', 3333), ('climbing', 1202), ('horizontal', 3329), ('cramped', 1526), ('creepy', 1557), ('macabre', 4182), ('fountain', 2769), ('pleading', 5168), ('bunnysuit', 898), ('ab', 3), ('referee', 5637), ('partial', 4973), ('jubilation', 3784), ('dismayed', 1952), ('studied', 6712), ('childlike', 1124), ('anti', 303), ('mat', 4278), ('anyhow', 312), ('circuit', 1158), ('spine', 6523), ('indigo', 3521), ('emoticon', 2222), ('ahkman', 172), ('shaking', 6152), ('disbelief', 1920), ('clueless', 1225), ('homesick', 3301), ('misused', 4428), ('apostrophe', 334), ('bbc', 583), ('incorrect', 3506), ('spelling', 6512), ('itv', 3710), ('stored', 6662), ('reset', 5775), ('mount', 4498), ('nearing', 4603), ('lighter', 4039), ('warrick', 7627), ('naivety', 4569), ('hilarious', 3265), ('dork', 2034), ('loathing', 4087), ('sinking', 6283), ('unwarranted', 7423), ('depression', 1792), ('max', 4286), ('crib', 1559), ('perceive', 5040), ('worshiping', 7829), ('defeating', 1722), ('cheered', 1105), ('blubbering', 745), ('sufficient', 6765), ('snippy', 6392), ('sharp', 6168), ('inevitably', 3532), ('blame', 711), ('tab', 6876), ('despise', 1822), ('baker', 531), ('smallest', 6353), ('scraped', 6023), ('nook', 4694), ('cranny', 1530), ('shell', 6175), ('juicy', 3793), ('morsel', 4479), ('president', 5308), ('scattered', 5996), ('yuuki', 7912), ('phoenix', 5092), ('artwork', 395), ('supply', 6798), ('likelihood', 4047), ('nonchalant', 4690), ('easi', 2140), ('tribal', 7212), ('journalist', 3777), ('wheel', 7699), ('purposely', 5460), ('censorship', 1042), ('cubicle', 1600), ('doom', 2028), ('wet', 7692), ('theofilou', 7012), ('nod', 4680), ('kastrioti', 3820), ('board', 751), ('suicidal', 6771), ('admittedly', 116), ('liberty', 4021), ('compelled', 1310), ('meek', 4321), ('morris', 4478), ('penn', 5034), ('sifted', 6245), ('mound', 4497), ('atari', 433), ('murmur', 4539), ('mac', 4181), ('upbeat', 7429), ('morose', 4477), ('sombre', 6443), ('resident', 5777), ('lone', 4106), ('judging', 3788), ('brad', 812), ('cooped', 1459), ('assumed', 428), ('virginia', 7549), ('florida', 2695), ('dieting', 1874), ('mysterious', 4556), ('intimately', 3641), ('buoyed', 899), ('surrender', 6821), ('transcendent', 7178), ('surge', 6813), ('bf', 665), ('speaks', 6502), ('inventory', 3657), ('sauce', 5976), ('perishable', 5055), ('solidarity', 6436), ('iraq', 3675), ('prisoner', 5342), ('stripping', 6692), ('elf', 2199), ('estimate', 2345), ('nepali', 4629), ('german', 2918), ('denmark', 1774), ('lunge', 4169), ('gene', 2894), ('dominant', 2018), ('poet', 5185), ('definately', 1731), ('habitual', 3096), ('wh', 7693), ('initiation', 3555), ('ons', 4812), ('coronation', 1477), ('addicted', 95), ('nicotine', 4667), ('symptom', 6870), ('dry', 2095), ('fishing', 2645), ('reved', 5820), ('inspect', 3585), ('wheat', 7697), ('proclaim', 5358), ('primer', 5335), ('tuck', 7253), ('strand', 6670), ('overdo', 4888), ('heartache', 3204), ('fade', 2496), ('hairstyle', 3104), ('droop', 2086), ('frizz', 2813), ('exhibit', 2427), ('triggering', 7218), ('vomiting', 7575), ('britain', 848), ('louis', 4141), ('xvi', 7873), ('marie', 4247), ('antoinette', 306), ('russia', 5920), ('krupke', 3886), ('prejudice', 5293), ('emanating', 2209), ('naked', 4570), ('longingly', 4114), ('probing', 5352), ('hardness', 3155), ('entertainer', 2297), ('williams', 7750), ('preface', 5287), ('disclaimer', 1923), ('peta', 5078), ('herzog', 3246), ('qaf', 5476), ('cryin', 1597), ('jacynthe', 3719), ('lookin', 4117), ('rupaul', 5913), ('scissor', 6013), ('valentine', 7476), ('kayle', 3826), ('gerling', 2916), ('exhilirated', 2430), ('facing', 2490), ('tch', 6929), ('muaz', 4517), ('solo', 6438), ('wandering', 7606), ('counted', 1497), ('quo', 5505), ('callous', 944), ('cheap', 1094), ('unfaithful', 7352), ('stack', 6581), ('latest', 3932), ('graphic', 3021), ('pose', 5226), ('springer', 6559), ('skilled', 6305), ('presentational', 5304), ('wilder', 7747), ('puppy', 5455), ('mill', 4390), ('emergency', 2217), ('commit', 1286), ('engagement', 2269), ('newbie', 4649), ('majority', 4203), ('discovery', 1934), ('injustice', 3559), ('summery', 6780), ('bummin', 891), ('postponing', 5240), ('solved', 6441), ('iteration', 3708), ('contradictory', 1437), ('abdomen', 9), ('pelvis', 5031), ('kenny', 3833), ('werner', 7689), ('thomas', 7032), ('quivering', 5503), ('lapse', 3920), ('shivering', 6194), ('accelerated', 31), ('flickering', 2678), ('racing', 5513), ('heralding', 3241), ('refrigerator', 5649), ('cleaned', 1181), ('leadingstrings', 3964), ('accommodation', 45), ('rustle', 5922), ('implies', 3461), ('orderly', 4843), ('procession', 5357), ('remove', 5730), ('knowingly', 3879), ('refresh', 5647), ('batting', 578), ('approaching', 355), ('detest', 1841), ('cruising', 1586), ('tuesday', 7255), ('caffeined', 930), ('flaw', 2669), ('intermittent', 3630), ('lacklustre', 3898), ('pen', 5032), ('buffy', 882), ('multiple', 4528), ('pan', 4942), ('dried', 2078), ('bladder', 707), ('adopt', 119), ('label', 3892), ('queer', 5486), ('unclear', 7315), ('joel', 3761), ('nervs', 4635), ('min', 4393), ('offends', 4779), ('eric', 2327), ('granted', 3020), ('staggering', 6585), ('upstairs', 7444), ('twisted', 7279), ('allocated', 205), ('lurking', 4174), ('panel', 4943), ('deemed', 1713), ('poisoned', 5190), ('laughed', 3937), ('dire', 1901), ('mediation', 4311), ('value', 7481), ('everytime', 2378), ('pothole', 5245), ('admission', 112), ('ratty', 5558), ('dickensian', 1867), ('hosted', 3339), ('portray', 5223), ('intermarrying', 3628), ('caged', 932), ('gatorade', 2882), ('participant', 4975), ('pregnant', 5292), ('adapted', 91), ('hackle', 3098), ('digging', 1882), ('enriching', 2288), ('tends', 6973), ('euphoria', 2356), ('harbor', 3147), ('seafood', 6040), ('paella', 4926), ('lemonade', 3993), ('sangria', 5959), ('bitterly', 700), ('voyeur', 7581), ('warmed', 7618), ('calmed', 947), ('determination', 1838), ('magnitude', 4191), ('rubber', 5897), ('dong', 2023), ('yank', 7876), ('vomited', 7574), ('blaming', 712), ('slut', 6349), ('shaming', 6159), ('mircowaved', 4407), ('flustered', 2704), ('projector', 5381), ('displeasing', 1965), ('musty', 4551), ('nesting', 4637), ('homemaking', 3299), ('reprieve', 5756), ('halloween', 3109), ('turkey', 7264), ('shoplifting', 6207), ('package', 4920), ('gummy', 3084), ('paige', 4931), ('acheivment', 62), ('alcest', 191), ('janine', 3730), ('thanking', 7005), ('posse', 5232), ('intervention', 3637), ('behalf', 615), ('investigate', 3660), ('mythology', 4561), ('impression', 3473), ('resort', 5786), ('conductor', 1362), ('oiut', 4794), ('minibus', 4399), ('fare', 2527), ('smoothly', 6372), ('consuming', 1416), ('eternal', 2348), ('alight', 197), ('hotel', 3343), ('bellman', 635), ('glance', 2947), ('dilute', 1888), ('timetable', 7078), ('spider', 6519), ('flat', 2662), ('enlist', 2282), ('temperature', 6958), ('heartburn', 3206), ('shooting', 6205), ('diversity', 1996), ('bleeding', 717), ('lemon', 3992), ('purchased', 5457), ('warehouse', 7616), ('portland', 5222), ('burmeister', 906), ('gooooood', 2990), ('reassuring', 5592), ('adherence', 102), ('appear', 339), ('august', 471), ('olympic', 4803), ('medal', 4309), ('precise', 5278), ('twitch', 7280), ('swell', 6850), ('quiver', 5502), ('charitable', 1081), ('donation', 2021), ('sodding', 6423), ('canteen', 968), ('coloured', 1263), ('sniffle', 6388), ('itchy', 3705), ('feverish', 2593), ('weatherman', 7659), ('forecast', 2736), ('fertility', 2586), ('fantasy', 2525), ('sucky', 6757), ('cassandra', 1006), ('attic', 461), ('barn', 561), ('ginger', 2934), ('abelard', 10), ('directing', 1904), ('distraction', 1986), ('grace', 3003), ('bleed', 716), ('arun', 396), ('choir', 1136), ('dealt', 1685), ('killer', 3848), ('ignites', 3423), ('veering', 7493), ('stereotype', 6632), ('vexed', 7515), ('animosity', 279), ('executed', 2415), ('topping', 7126), ('comparison', 1307), ('slice', 6326), ('eighteen', 2187), ('ups', 7440), ('shushing', 6232), ('andintrupte', 261), ('trad', 7158), ('bagan', 527), ('shiver', 6193), ('wondrous', 7806), ('nameless', 4576), ('graduate', 3009), ('marginally', 4245), ('attached', 451), ('awash', 494), ('overeducated', 4890), ('underpaid', 7327), ('indentured', 3515), ('duped', 2115), ('activism', 81), ('construes', 1409), ('j', 3714), ('integrity', 3605), ('jilted', 3758), ('passport', 4992), ('accomplishing', 49), ('flipping', 2685), ('published', 5432), ('assistance', 421), ('remains', 5713), ('runneth', 5910), ('opinionated', 4826), ('positively', 5231), ('andy', 266), ('chemical', 1109), ('browse', 866), ('dart', 1662), ('reputation', 5760), ('population', 5216), ('northwestern', 4703), ('shortlisted', 6214), ('smoker', 6366), ('harsh', 3164), ('distortion', 1983), ('mane', 4221), ('release', 5690), ('lp', 4154), ('trap', 7188), ('bomb', 766), ('femme', 2584), ('fatale', 2538), ('britneys', 850), ('deliver', 1755), ('haze', 3183), ('duckie', 2099), ('commie', 1285), ('noise', 4683), ('needle', 4613), ('dialed', 1861), ('frequency', 2794), ('eternity', 2350), ('danced', 1650), ('offend', 4775), ('appeal', 338), ('entirety', 2305), ('consumption', 1417), ('improving', 3481), ('allergy', 203), ('drank', 2062), ('zipline', 7924), ('grove', 3061), ('scarf', 5994), ('berate', 654), ('brassed', 818), ('clearer', 1187), ('likewise', 4049), ('unrest', 7404), ('unavoidably', 7309), ('shortcoming', 6211), ('runner', 5909), ('brooklyn', 858), ('latch', 3928), ('skipping', 6310), ('sofa', 6424), ('incrementally', 3512), ('throwing', 7052), ('rigid', 5844), ('paranoia', 4958), ('newest', 4652), ('sponsor', 6544), ('pester', 5076), ('ibs', 3402), ('bowel', 806), ('employee', 2231), ('rapidly', 5548), ('ramadan', 5532), ('misplaced', 4414), ('involves', 3670), ('hihi', 3263), ('grappled', 3022), ('burlesque', 905), ('educate', 2166), ('destroying', 1831), ('dedicated', 1710), ('eurovision', 2359), ('vacation', 7472), ('relaxation', 5687), ('enviously', 2315), ('whipped', 7715), ('station', 6613), ('fled', 2671), ('underbelly', 7324), ('subway', 6745), ('map', 4239), ('frazzle', 2785), ('meltdown', 4332), ('untrieds', 7419), ('generator', 2902), ('parcel', 4962), ('timer', 7077), ('sewing', 6140), ('neighbour', 4623), ('muze', 4552), ('mujhe', 4525), ('kay', 3825), ('zay', 7917), ('respectful', 5791), ('extrememly', 2480), ('sophomore', 6469), ('beg', 609), ('unit', 7378), ('drafting', 2054), ('elder', 2192), ('ditlevsen', 1993), ('remembered', 5719), ('impressionable', 3474), ('immediate', 3446), ('individually', 3523), ('portrayal', 5224), ('gratuitously', 3028), ('seized', 6072), ('bewildered', 663), ('ingrained', 3549), ('dontknow', 2025), ('linus', 4062), ('misscariage', 4416), ('grieving', 3046), ('ashton', 403), ('isaac', 3691), ('knight', 3871), ('shining', 6187), ('denim', 1772), ('sympathize', 6867), ('loos', 4121), ('unafraid', 7306), ('flounder', 2696), ('jerk', 3748), ('decides', 1701), ('poke', 5191), ('succeeded', 6747), ('resulted', 5805), ('cheerful', 1106), ('organised', 4848), ('etape', 2346), ('prep', 5294), ('caledonia', 936), ('affair', 135), ('avoided', 486), ('stance', 6590), ('pin', 5122), ('reflected', 5643), ('escaped', 2334), ('interminable', 3629), ('bout', 805), ('dressing', 2076), ('gown', 2999), ('lapel', 3919), ('spectacle', 6508), ('intent', 3616), ('bonding', 771), ('wardrode', 7615), ('rotten', 5887), ('completeness', 1324), ('sobered', 6411), ('deliberate', 1748), ('rudely', 5900), ('desperately', 1820), ('q', 5475), ('humbug', 3370), ('unconscious', 7319), ('racism', 5514), ('overt', 4900), ('ta', 6875), ('jz', 3812), ('admire', 109), ('athleticism', 441), ('severely', 6138), ('favourite', 2548), ('winterpaysforsummer', 7768), ('ahaha', 169), ('retarded', 5809), ('concurrently', 1351), ('trajectory', 7172), ('noticing', 4717), ('intentionality', 3619), ('fri', 2801), ('shannon', 6160), ('resupplied', 5806), ('vitamin', 7564), ('spurring', 6564), ('established', 2344), ('comp', 1300), ('zhu', 7923), ('snapbacks', 6381), ('lotus', 4135), ('wholesale', 7728), ('snapback', 6380), ('waning', 7608), ('sexaholic', 6142), ('agnostic', 162), ('judeo', 3785), ('fundamentalist', 2841), ('radical', 5518), ('cottage', 1486), ('rustling', 5923), ('mighty', 4380), ('roar', 5862), ('fester', 2588), ('french', 2793), ('claret', 1167), ('jug', 3790), ('france', 2779), ('aconfident', 71), ('overcomet', 4885), ('packet', 4923), ('clown', 1221), ('sympathizing', 6868), ('laiya', 3907), ('jennifer', 3745), ('scampering', 5989), ('platitude', 5160), ('barbeque', 556), ('aged', 154), ('embedding', 2213), ('unlucky', 7391), ('genetics', 2906), ('orthodontist', 4859), ('pediatric', 5028), ('tremendously', 7206), ('lobia', 4089), ('masala', 4268), ('protein', 5406), ('warmer', 7619), ('empathy', 2228), ('schindlers', 6008), ('ghost', 2925), ('abusive', 27), ('disability', 1910), ('hemorrhoid', 3237), ('dullness', 2106), ('heaviness', 3217), ('unsatisfied', 7406), ('evoked', 2382), ('buzzy', 924), ('mi', 4370), ('stepping', 6631), ('dishonoring', 1948), ('quest', 5488), ('remorse', 5728), ('corinthian', 1473), ('melting', 4333), ('elation', 2191), ('balloon', 539), ('lush', 4175), ('overworked', 4908), ('fume', 2837), ('relevant', 5695), ('clique', 1207), ('chooses', 1138), ('triple', 7224), ('pompous', 5205), ('notoriety', 4719), ('chink', 1130), ('armor', 372), ('dismiss', 1953), ('lagging', 3904), ('repeated', 5741), ('trustworthy', 7242), ('unreasonable', 7401), ('lent', 4001), ('scissors', 6014), ('todd', 7102), ('caleb', 935), ('third', 7028), ('cafe', 928), ('rob', 5865), ('nurture', 4736), ('absolutly', 22), ('flourishing', 2697), ('confusion', 1376), ('inconsistent', 3502), ('gripped', 3051), ('printer', 5339), ('nipping', 4678), ('articulating', 389), ('verbally', 7507), ('disagreement', 1914), ('recommending', 5616), ('marshal', 4256), ('invited', 3667), ('glenn', 2957), ('unworthiness', 7426), ('cancelled', 961), ('dine', 1893), ('argued', 367), ('verdict', 7508), ('revise', 5826), ('appropriate', 356), ('ti', 7061), ('toast', 7098), ('stylesheet', 6727), ('cs', 1598), ('jdelivery', 3739), ('statistic', 6615), ('mormon', 4475), ('depressant', 1790), ('startling', 6604), ('flirt', 2686), ('identifying', 3413), ('striking', 6689), ('associated', 424), ('standby', 6593), ('socket', 6420), ('perform', 5047), ('submarine', 6737), ('cartwheel', 1002), ('ankle', 281), ('serendipity', 6114), ('collide', 1256), ('louder', 4138), ('waxing', 7646), ('flailing', 2654), ('gander', 2867), ('donut', 2026), ('leading', 3963), ('alignment', 199), ('solemn', 6433), ('render', 5732), ('thearchitecturality', 7009), ('utopian', 7466), ('strive', 6693), ('serina', 6119), ('cleaner', 1182), ('gallery', 2861), ('struff', 6703), ('fedtastic', 2564), ('tennis', 6975), ('persona', 5066), ('insecured', 3572), ('monster', 4459), ('coercive', 1240), ('tasty', 6921), ('abound', 16), ('cruz', 1595), ('unseen', 7407), ('ambient', 235), ('laid', 3905), ('renowned', 5735), ('anonymous', 294), ('fiddle', 2601), ('loquacious', 4123), ('hunter', 3381), ('dung', 2113), ('marry', 4254), ('dew', 1855), ('south', 6484), ('advancement', 126), ('ivory', 3711), ('furniture', 2847), ('spacious', 6489), ('consultant', 1411), ('awaiting', 488), ('reception', 5604), ('egg', 2180), ('benedict', 647), ('edgy', 2162), ('bloging', 735), ('closest', 1213), ('budding', 879), ('belonged', 638), ('hopelessness', 3326), ('issued', 3702), ('supplied', 6797), ('consulate', 1410), ('los', 4127), ('angeles', 268), ('permeate', 5059), ('classmate', 1175), ('wished', 7781), ('greatest', 3034), ('poll', 5203), ('fashioned', 2533), ('illustration', 3435), ('liar', 4017), ('xia', 7869), ('amy', 255), ('suggested', 6769), ('beast', 591), ('screamed', 6027), ('uncontrollably', 7321), ('everchanging', 2371), ('sailormoon', 5941), ('gateway', 2878), ('india', 3518), ('photographed', 5095), ('blonde', 737), ('murakami', 4536), ('quaker', 5477), ('announced', 286), ('fortnight', 2759), ('boo', 774), ('friggety', 2808), ('hoo', 3315), ('personnel', 5071), ('grayish', 3030), ('musically', 4546), ('daycare', 1672), ('chaos', 1072), ('adress', 122), ('arena', 365), ('successfully', 6750), ('mxm', 4553), ('usage', 7452), ('absorbed', 23), ('revelation', 5822), ('tome', 7112), ('strewn', 6687), ('luminary', 4165), ('swinelord', 6856), ('deluxe', 1759), ('designing', 1811), ('workload', 7818), ('fifteen', 2606), ('melancholy', 4325), ('thereof', 7019), ('investigator', 3661), ('ponder', 5206), ('raging', 5522), ('erupt', 2332), ('seriouly', 6120), ('intimate', 3639), ('bodily', 758), ('enormous', 2284), ('flamingo', 2658), ('shallow', 6155), ('atention', 436), ('misstreated', 4422), ('affeccion', 136), ('messy', 4358), ('terrifying', 6988), ('cammie', 954), ('sobbing', 6409), ('aircleaner', 178), ('michael', 4371), ('calgary', 938), ('pb', 5017), ('criticism', 1568), ('stink', 6644), ('pious', 5132), ('uppity', 7439), ('obsession', 4754), ('hindered', 3267), ('solitude', 6437), ('meditation', 4318), ('mummy', 4533), ('toilet', 7107), ('understood', 7332), ('neighborhood', 4622), ('access', 40), ('hollywood', 3293), ('root', 5884), ('condemned', 1352), ('detailing', 1836), ('unedited', 7344), ('monitoring', 4457), ('humility', 3372), ('hypocritical', 3398), ('hun', 3377), ('hype', 3390), ('janelle', 3729), ('mon', 4451), ('elle', 2200), ('canada', 959), ('february', 2558), ('oblige', 4748), ('mainstream', 4199), ('belongingness', 640), ('shalt', 6156), ('din', 1892), ('hw', 3388), ('xxx', 7874), ('lowest', 4150), ('hotshot', 3344), ('redden', 5627), ('manhood', 4222), ('novice', 4723), ('nao', 4578), ('liebster', 4026), ('sweater', 6842), ('melee', 4327), ('dp', 2049), ('profession', 5367), ('troubled', 7232), ('cherish', 1113), ('remix', 5726), ('multitasking', 4529), ('ragged', 5521), ('destination', 1827), ('seeped', 6068), ('complainy', 1320), ('brazilian', 822), ('sharpe', 6169), ('portion', 5221), ('nigeria', 4669), ('safely', 5935), ('atheism', 438), ('fails', 2500), ('anniversary', 285), ('fundamentally', 2842), ('selection', 6077), ('democratic', 1763), ('hoard', 3276), ('bride', 837), ('reeeeeeeeally', 5633), ('crocs', 1571), ('fashionable', 2532), ('icon', 3406), ('disturb', 1992), ('imdoing', 3443), ('bobby', 755), ('melodramatically', 4329), ('sweatshirt', 6844), ('taco', 6881), ('emptiness', 2238), ('baggage', 528), ('lobbying', 4088), ('sympathic', 6866), ('jonesing', 3771), ('brotherhood', 861), ('titanium', 7092), ('hedgehog', 3221), ('harvest', 3165), ('ruined', 5905), ('damp', 1647), ('similarly', 6264), ('segregated', 6071), ('feeding', 2569), ('colourful', 1264), ('heaving', 3218), ('defended', 1724), ('sanctity', 5953), ('webkit', 7662), ('adjust', 103), ('auto', 478), ('inline', 3561), ('kassim', 3819), ('selamat', 6074), ('swallow', 6837), ('racial', 5512), ('slur', 6348), ('aimed', 175), ('abandoned', 5), ('biannual', 667), ('mammogram', 4214), ('unusually', 7421), ('hen', 3238), ('coo', 1453), ('cuddle', 1601), ('firstborn', 2643), ('dismissing', 1955), ('revered', 5824), ('pioneer', 5131), ('acclimated', 44), ('observer', 4751), ('lathi', 3933), ('scabi', 5986), ('verona', 7510), ('chai', 1054), ('encouragement', 2250), ('blender', 719), ('provided', 5414), ('rebuilding', 5596), ('uplifting', 7434), ('graduating', 3010), ('laetshi', 3903), ('crisp', 1566), ('necklace', 4609), ('combing', 1270), ('sooooooooooo', 6467), ('dignity', 1884), ('shunned', 6231), ('wieght', 7741), ('soley', 6434), ('youtube', 7908), ('neurosurgeon', 4642), ('treader', 7195), ('hardcover', 3150), ('predict', 5283), ('prey', 5328), ('brazil', 821), ('trimming', 7221), ('harrassment', 3163), ('implication', 3460), ('will', 7748), ('chief', 1120), ('ccw', 1031), ('yanked', 7877), ('pavement', 5013), ('uploaded', 7436), ('pinpoint', 5130), ('chatter', 1092), ('genius', 2907), ('merge', 4349), ('soak', 6404), ('explodes', 2456), ('debris', 1690), ('idling', 3418), ('recording', 5619), ('shamefully', 6158), ('guru', 3086), ('persuasively', 5073), ('offered', 4783), ('cheering', 1108), ('homis', 3304), ('nerdy', 4630), ('romantic', 5878), ('combine', 1269), ('headless', 3190), ('abbigail', 7), ('apraxia', 358), ('delayed', 1746), ('occurring', 4766), ('demonstration', 1766), ('specimen', 6507), ('glistening', 2960), ('accentuating', 33), ('exercised', 2421), ('witty', 7793), ('cognize', 1243), ('disregarding', 1969), ('cosmos', 1482), ('years', 7886), ('brooding', 857), ('gnawing', 2972), ('constitution', 1404), ('constitutional', 1405), ('bureaucracy', 902), ('hyena', 3389), ('motorway', 4494), ('telephone', 6952), ('daydreaming', 1675), ('shove', 6224), ('panty', 4949), ('haul', 3178), ('lava', 3943), ('export', 2462), ('port', 5219), ('croissant', 1572), ('agiatated', 160), ('darn', 1661), ('rampage', 5534), ('oversized', 4899), ('tee', 6945), ('baggy', 529), ('streaked', 6678), ('locked', 4093), ('ivy', 3713), ('aid', 173), ('quitter', 5501), ('ethical', 2351), ('dwell', 2119), ('lowly', 4152), ('shame', 6157), ('blossoming', 740), ('untouched', 7418), ('plight', 5176), ('strawberry', 6677), ('reel', 5634), ('exclusively', 2411), ('devoted', 1853), ('reserved', 5774), ('squeak', 6570), ('baachan', 507), ('trolley', 7228), ('gervase', 2919), ('piped', 5134), ('brink', 847), ('instinctively', 3598), ('passer', 4987), ('incorporate', 3504), ('recovery', 5622), ('jumping', 3799), ('preferably', 5289), ('companion', 1301), ('uplifted', 7432), ('martinez', 4261), ('association', 425), ('ambulance', 238), ('flashing', 2660), ('sensibility', 6097), ('locker', 4094), ('showed', 6227), ('lacy', 3900), ('g', 2853), ('underneath', 7326), ('aaron', 2), ('behaving', 617), ('crunk', 1592), ('vegitarianism', 7496), ('videotape', 7527), ('military', 4388), ('rhetoric', 5832), ('apc', 327), ('silent', 6258), ('caretaker', 990), ('hourglass', 3346), ('chased', 1088), ('clutched', 1229), ('plantar', 5154), ('fascitis', 2530), ('lighting', 4040), ('irresponcible', 3687), ('biceps', 670), ('shaping', 6162), ('rammstein', 5533), ('amish', 243), ('punctual', 5448), ('sec', 6047), ('luke', 4164), ('distributor', 1990), ('floral', 2693), ('hausa', 3180), ('motorcyclist', 4493), ('resemblance', 5769), ('tunnel', 7261), ('injured', 3557), ('opponent', 4828), ('disqualification', 1967), ('interrupted', 3636), ('benadryl', 644), ('acknowledgment', 69), ('origin', 4854), ('muay', 4516), ('speedy', 6511), ('renovation', 5734), ('tackling', 6880), ('mammoth', 4215), ('rubbish', 5898), ('spouting', 6553), ('muck', 4519), ('taunted', 6926), ('frailty', 2777), ('exterior', 2473), ('existance', 2431), ('masculinity', 4269), ('omangy', 4805), ('wristwatch', 7846), ('marketer', 4251), ('consumer', 1414), ('laze', 3954), ('pajama', 4938), ('archeological', 363), ('stable', 6580), ('pleasing', 5173), ('protectiveness', 5404), ('surfacing', 6812), ('saudi', 5977), ('scented', 6001), ('terminal', 6981), ('dulles', 2105), ('frickin', 2802), ('devastating', 1845), ('rumour', 5907), ('leisurely', 3991), ('trainable', 7168), ('chewing', 1116), ('lve', 4176), ('yu', 7909), ('actuality', 87), ('presenting', 5306), ('dragged', 2056), ('hi', 3253), ('splendor', 6534), ('sally', 5946), ('hansen', 3133), ('cha', 1052), ('ching', 1129), ('silver', 6261), ('glitter', 2961), ('pumpin', 5443), ('snap', 6379), ('representing', 5754), ('universal', 7380), ('metaphor', 4363), ('patio', 5003), ('storming', 6665), ('flush', 2702), ('neighbor', 4621), ('yo', 7900), ('tremor', 7207), ('terpene', 6983), ('flavour', 2668), ('noticable', 4714), ('creme', 1558), ('commuter', 1299), ('african', 148), ('reliable', 5696), ('diazepam', 1865), ('takeing', 6890), ('mensa', 4337), ('disco', 1925), ('decently', 1697), ('justanswer', 3804), ('steroid', 6633), ('derek', 1796), ('refered', 5636), ('outta', 4878), ('diminish', 1889), ('ocd', 4767), ('starve', 6605), ('internship', 3634), ('scoop', 6016), ('raped', 5546), ('systematically', 6874), ('assassinated', 413), ('actively', 80), ('borne', 789), ('tingle', 7082), ('stitching', 6650), ('tod', 7100), ('stalker', 6589), ('snooty', 6396), ('gauche', 2884), ('describes', 1802), ('cox', 1515), ('metropolitan', 4367), ('pavilion', 5014), ('invented', 3656), ('hail', 3102), ('ember', 2214), ('flake', 2655), ('newtown', 4657), ('tighter', 7071), ('realizing', 5585), ('signing', 6256), ('spazzing', 6498), ('gloss', 2965), ('afford', 143), ('rocking', 5869), ('shock', 6196), ('battered', 577), ('unconsciously', 7320), ('stiller', 6640), ('vaughn', 7489), ('hater', 3174), ('enjoyment', 2280), ('slapped', 6317), ('egan', 2178), ('kurt', 3887), ('belle', 634), ('sebastian', 6046), ('relish', 5703), ('squelching', 6573), ('sodden', 6422), ('sardonic', 5970), ('squat', 6569), ('earning', 2133), ('superficial', 6790), ('preceptor', 5275), ('snowboarding', 6400), ('strait', 6669), ('hatter', 3177), ('alice', 196), ('glowing', 2967), ('mastered', 4276), ('plastic', 5156), ('slipper', 6336), ('dopey', 2032), ('attempted', 456), ('communicator', 1296), ('pronounced', 5390), ('accordance', 51), ('faithfulness', 2507), ('patriotism', 5006), ('yard', 7878), ('waterside', 7642), ('ultimate', 7300), ('restore', 5803), ('kneel', 3869), ('worship', 7828), ('attain', 454), ('hapiness', 3134), ('tango', 6906), ('mak', 4205), ('hamper', 3112), ('lenghth', 3996), ('measure', 4304), ('pp', 5256), ('cooperation', 1460), ('yearn', 7883), ('intact', 3604), ('exempted', 2419), ('guessed', 3074), ('riva', 5858), ('harvey', 3166), ('weinstein', 7680), ('pram', 5266), ('overeating', 4889), ('fullness', 2835), ('hangover', 3130), ('hannah', 3131), ('montana', 4460), ('wee', 7668), ('backward', 518), ('executing', 2416), ('mystery', 4557), ('environmental', 2317), ('trophy', 7230), ('cumberland', 1606), ('h', 3093), ('badman', 523), ('regulated', 5667), ('shortness', 6216), ('tranny', 7174), ('blake', 710), ('solves', 6442), ('comparing', 1306), ('sneha', 6386), ('aimlessly', 176), ('crone', 1574), ('prompted', 5387), ('overrrrrrrrrrrr', 4896), ('intellectual', 3607), ('eagerly', 2126), ('andri', 264), ('abroad', 17), ('proof', 5391), ('homeschooling', 3300), ('sonia', 6459), ('yixuan', 7898), ('atiqah', 443), ('annie', 284), ('churn', 1154), ('commodore', 1291), ('hobby', 3279), ('sloppy', 6340), ('desp', 1817), ('pacing', 4918), ('exert', 2423), ('transportation', 7187), ('clarity', 1169), ('lavender', 3944), ('substitute', 6741), ('essential', 2342), ('dint', 1899), ('reared', 5587), ('evangelical', 2362), ('holier', 3287), ('thou', 7035), ('incomplete', 3500), ('bombing', 768), ('coca', 1237), ('cola', 1247), ('traction', 7156), ('denise', 1773), ('runnin', 5911), ('bein', 623), ('confined', 1368), ('stic', 6634), ('lighten', 4037), ('binging', 681), ('stasia', 6608), ('similarity', 6263), ('ambition', 236), ('handbag', 3116), ('sachaying', 5925), ('frequented', 2795), ('clingy', 1203), ('planting', 5155), ('spontaneous', 6545), ('urgh', 7449), ('intimated', 3640)])"
            ]
          },
          "metadata": {},
          "execution_count": 20
        }
      ]
    },
    {
      "cell_type": "code",
      "source": [
        "# Get unique labels from the 'Emotion' column\n",
        "unique_labels = df['Emotion'].unique()\n",
        "\n",
        "# Create a mapping for each unique label\n",
        "emotion_mapping = {label: idx for idx, label in enumerate(unique_labels)}\n",
        "\n",
        "# Map the 'Emotion' column to numerical values\n",
        "df['Emotion_num'] = df['Emotion'].map(emotion_mapping)\n"
      ],
      "metadata": {
        "id": "U7Ua6MUVQmDi"
      },
      "execution_count": 21,
      "outputs": []
    },
    {
      "cell_type": "code",
      "source": [
        "print(df['Emotion_num'].unique())"
      ],
      "metadata": {
        "colab": {
          "base_uri": "https://localhost:8080/"
        },
        "id": "iYMdwpBcRVQ2",
        "outputId": "c08cb686-d34d-4478-ea1f-151a6278500c"
      },
      "execution_count": null,
      "outputs": [
        {
          "output_type": "stream",
          "name": "stdout",
          "text": [
            "[0 1 2]\n"
          ]
        }
      ]
    },
    {
      "cell_type": "code",
      "source": [
        "y = df['Emotion_num']"
      ],
      "metadata": {
        "id": "e-bHZ4XdSD4G"
      },
      "execution_count": 22,
      "outputs": []
    },
    {
      "cell_type": "code",
      "source": [
        "import numpy as np\n",
        "from scipy.sparse import coo_matrix\n",
        "\n",
        "# Assuming X and y are already defined as follows:\n",
        "# X = df['Comment']\n",
        "# y = df['Emotion_num']\n",
        "\n",
        "# Convert X to a dense array if it's a sparse matrix\n",
        "X_dense = X.toarray() if isinstance(X, coo_matrix) else X\n",
        "\n",
        "# Set a random seed for reproducibility\n",
        "np.random.seed(42)\n",
        "\n",
        "# Define the proportion of data for training (e.g., 80%)\n",
        "train_proportion = 0.8\n",
        "\n",
        "# Determine the number of samples for training\n",
        "num_train_samples = int(train_proportion * X_dense.shape[0])\n",
        "\n",
        "# Create an array of indices for shuffling\n",
        "indices = np.arange(X_dense.shape[0])\n",
        "np.random.shuffle(indices)\n",
        "\n",
        "# Use the shuffled indices to split the data\n",
        "train_indices = indices[:num_train_samples]\n",
        "test_indices = indices[num_train_samples:]\n",
        "\n",
        "# Create training and testing sets\n",
        "X_train = X[train_indices]\n",
        "y_train = y[train_indices]\n",
        "X_test = X[test_indices]\n",
        "y_test = y[test_indices]\n"
      ],
      "metadata": {
        "id": "9LfHtHrfrqkM"
      },
      "execution_count": 23,
      "outputs": []
    },
    {
      "cell_type": "code",
      "source": [
        "print(y_train)"
      ],
      "metadata": {
        "colab": {
          "base_uri": "https://localhost:8080/"
        },
        "id": "nhHZUf5_t_l9",
        "outputId": "836c5cd4-e6d6-444c-e262-a6df97b5cc00"
      },
      "execution_count": null,
      "outputs": [
        {
          "output_type": "stream",
          "name": "stdout",
          "text": [
            "1867    0\n",
            "3988    2\n",
            "4516    1\n",
            "1397    0\n",
            "1669    0\n",
            "       ..\n",
            "5571    0\n",
            "5368    2\n",
            "1279    1\n",
            "5817    0\n",
            "1555    0\n",
            "Name: Emotion_num, Length: 4749, dtype: int64\n"
          ]
        }
      ]
    },
    {
      "cell_type": "code",
      "source": [
        "import numpy as np\n",
        "from collections import defaultdict\n",
        "from scipy.sparse import issparse\n",
        "\n",
        "class NaiveBayesClassifier:\n",
        "    def __init__(self):\n",
        "        self.class_probs = None\n",
        "        self.word_probs = None\n",
        "        self.classes = None\n",
        "\n",
        "    def fit(self, X_train, y_train):\n",
        "        # Convert X_train to a numpy array\n",
        "        X_train = X_train.toarray() if issparse(X_train) else np.array(X_train)\n",
        "\n",
        "        # Convert y_train to integers if it's not already\n",
        "        y_train = np.array(y_train)\n",
        "\n",
        "        # Calculate class probabilities\n",
        "        self.classes, class_counts = np.unique(y_train, return_counts=True)\n",
        "        self.class_probs = class_counts / len(y_train)\n",
        "\n",
        "        # Create a dictionary to store word counts for each class\n",
        "        word_counts_per_class = defaultdict(lambda: np.zeros(X_train.shape[1], dtype=int))\n",
        "\n",
        "        # Count occurrences of each word in each class\n",
        "        for i, c in enumerate(self.classes):\n",
        "            X_c = X_train[y_train == c]\n",
        "            word_counts_per_class[c] = np.sum(X_c, axis=0)\n",
        "\n",
        "        # Calculate word probabilities for each class using Laplace smoothing\n",
        "        self.word_probs = {c: (word_counts.astype(int) + 1) / (np.sum(word_counts) + X_train.shape[1])\n",
        "                           for c, word_counts in word_counts_per_class.items()}\n",
        "\n",
        "    def predict(self, X_test):\n",
        "        predictions = []\n",
        "\n",
        "        # Convert X_test to a numpy array\n",
        "        X_test = X_test.toarray() if issparse(X_test) else np.array(X_test)\n",
        "\n",
        "        for x in X_test:\n",
        "            # Calculate log probabilities for each class\n",
        "            log_probs = np.log(self.class_probs)\n",
        "\n",
        "            # Add log probabilities for each word in the document\n",
        "            for word_index, count in enumerate(x):\n",
        "                for c in self.classes:\n",
        "                    log_probs[c] += count * np.log(self.word_probs[c][word_index])\n",
        "\n",
        "            # Predict the class with the highest log probability\n",
        "            prediction = np.argmax(log_probs)\n",
        "            predictions.append(prediction)\n",
        "\n",
        "        return predictions\n",
        "\n",
        "    def evaluate_metrics(self, true_labels, predicted_labels):\n",
        "        # Confusion Matrix\n",
        "        confusion_matrix = np.zeros((len(self.classes), len(self.classes)), dtype=int)\n",
        "        for true_label, predicted_label in zip(true_labels, predicted_labels):\n",
        "            confusion_matrix[true_label, predicted_label] += 1\n",
        "\n",
        "        # Precision, Recall, F1 Score\n",
        "        precision = np.zeros(len(self.classes))\n",
        "        recall = np.zeros(len(self.classes))\n",
        "        f1 = np.zeros(len(self.classes))\n",
        "\n",
        "        for i in range(len(self.classes)):\n",
        "            true_positive = confusion_matrix[i, i]\n",
        "            false_positive = np.sum(confusion_matrix[:, i]) - true_positive\n",
        "            false_negative = np.sum(confusion_matrix[i, :]) - true_positive\n",
        "\n",
        "            # Precision\n",
        "            precision[i] = true_positive / (true_positive + false_positive) if (true_positive + false_positive) != 0 else 0\n",
        "\n",
        "            # Recall\n",
        "            recall[i] = true_positive / (true_positive + false_negative) if (true_positive + false_negative) != 0 else 0\n",
        "\n",
        "            # F1 Score\n",
        "            f1[i] = 2 * (precision[i] * recall[i]) / (precision[i] + recall[i]) if (precision[i] + recall[i]) != 0 else 0\n",
        "\n",
        "        # Calculate the average precision, recall, and F1 Score\n",
        "        avg_precision = np.mean(precision)\n",
        "        avg_recall = np.mean(recall)\n",
        "        avg_f1 = np.mean(f1)\n",
        "\n",
        "        # Accuracy\n",
        "        accuracy = np.mean(true_labels == predicted_labels)\n",
        "\n",
        "        return accuracy, avg_precision, avg_recall, avg_f1\n",
        "\n",
        "# Example usage:\n",
        "nb_classifier = NaiveBayesClassifier()\n",
        "nb_classifier.fit(X_train, y_train)\n",
        "predictions = nb_classifier.predict(X_test)\n",
        "\n",
        "# Evaluate metrics\n",
        "accuracy, avg_precision, avg_recall, avg_f1 = nb_classifier.evaluate_metrics(y_test, predictions)\n",
        "\n",
        "print(\"Accuracy:\", accuracy)\n",
        "print(\"Precision:\", avg_precision)\n",
        "print(\"Recall:\", avg_recall)\n",
        "print(\"F1 Score:\", avg_f1)\n"
      ],
      "metadata": {
        "colab": {
          "base_uri": "https://localhost:8080/"
        },
        "id": "sabIhf_dHroR",
        "outputId": "0a6959c0-e635-4389-9d86-830edaf86261"
      },
      "execution_count": null,
      "outputs": [
        {
          "output_type": "stream",
          "name": "stdout",
          "text": [
            "Accuracy: 0.9015151515151515\n",
            "Precision: 0.9013421363942585\n",
            "Recall: 0.9014360474510551\n",
            "F1 Score: 0.9012482549742821\n"
          ]
        }
      ]
    },
    {
      "cell_type": "code",
      "source": [
        "# Create training and testing sets\n",
        "X_train = X[train_indices]\n",
        "y_train = y[train_indices]\n",
        "X_test = X[test_indices]\n",
        "y_test = y[test_indices]"
      ],
      "metadata": {
        "id": "jOkIr0GQvt9s"
      },
      "execution_count": null,
      "outputs": []
    },
    {
      "cell_type": "code",
      "source": [
        "import numpy as np\n",
        "import matplotlib.pyplot as plt\n",
        "from sklearn.naive_bayes import MultinomialNB\n",
        "from sklearn.model_selection import train_test_split\n",
        "from sklearn import metrics\n",
        "from sklearn.metrics import confusion_matrix, roc_auc_score, roc_curve, auc\n",
        "from sklearn.preprocessing import label_binarize\n",
        "\n",
        "# Assuming X_train, X_test, y_train, y_test are your training and testing data\n",
        "\n",
        "# Use scikit-learn's MultinomialNB\n",
        "nb_classifier = MultinomialNB()\n",
        "nb_classifier.fit(X_train, y_train)\n",
        "\n",
        "# Make predictions on the test set\n",
        "predictions = nb_classifier.predict(X_test)\n",
        "\n",
        "# Evaluate metrics\n",
        "accuracy = metrics.accuracy_score(y_test, predictions)\n",
        "precision = metrics.precision_score(y_test, predictions, average='weighted')\n",
        "recall = metrics.recall_score(y_test, predictions, average='weighted')\n",
        "f1_score = metrics.f1_score(y_test, predictions, average='weighted')\n",
        "\n",
        "# Compute confusion matrix\n",
        "conf_matrix = confusion_matrix(y_test, predictions)\n",
        "\n",
        "# Calculate class probabilities for AUC-ROC Curve\n",
        "class_probabilities = nb_classifier.predict_proba(X_test)\n",
        "\n",
        "# Binarize the labels\n",
        "y_test_bin = label_binarize(y_test, classes=np.unique(y_test))\n",
        "\n",
        "# Compute ROC curve and ROC area for each class\n",
        "fpr = dict()\n",
        "tpr = dict()\n",
        "roc_auc = dict()\n",
        "for i in range(len(np.unique(y_test))):\n",
        "    fpr[i], tpr[i], _ = roc_curve(y_test_bin[:, i], class_probabilities[:, i])\n",
        "    roc_auc[i] = auc(fpr[i], tpr[i])\n",
        "\n",
        "# Calculate TP, FP, TN, FN for each class\n",
        "TP = conf_matrix.diagonal()\n",
        "FP = conf_matrix.sum(axis=0) - TP\n",
        "FN = conf_matrix.sum(axis=1) - TP\n",
        "TN = conf_matrix.sum() - (TP + FP + FN)\n",
        "\n",
        "# Print metrics\n",
        "print(\"Accuracy:\", accuracy)\n",
        "print(\"Confusion Matrix:\\n\", conf_matrix)\n",
        "print(\"AUC-ROC Score:\", roc_auc)\n",
        "print(\"Precision:\", precision)\n",
        "print(\"Recall:\", recall)\n",
        "print(\"F1 Score:\", f1_score)\n",
        "\n",
        "# Print TP, FP, TN, FN for each class\n",
        "for i in range(len(TP)):\n",
        "    print(f\"Class {i}:\")\n",
        "    print(f\"TP: {TP[i]}, FP: {FP[i]}, TN: {TN[i]}, FN: {FN[i]}\")\n",
        "\n",
        "# Plot ROC curves\n",
        "plt.figure(figsize=(10, 8))\n",
        "colors = ['aqua', 'darkorange', 'cornflowerblue', 'red', 'green', 'purple']  # Add more colors as needed\n",
        "for i, color in zip(range(len(np.unique(y_test))), colors):\n",
        "    plt.plot(fpr[i], tpr[i], color=color, lw=2, label=f'ROC curve (class {i}) (AUC = {roc_auc[i]:.2f})')\n",
        "\n",
        "plt.plot([0, 1], [0, 1], 'k--', lw=2)\n",
        "plt.xlim([0.0, 1.0])\n",
        "plt.ylim([0.0, 1.05])\n",
        "plt.xlabel('False Positive Rate')\n",
        "plt.ylabel('True Positive Rate')\n",
        "plt.title('ROC Curve for Multi-Class Classification')\n",
        "plt.legend(loc=\"lower right\")\n",
        "plt.show()\n"
      ],
      "metadata": {
        "colab": {
          "base_uri": "https://localhost:8080/",
          "height": 987
        },
        "id": "Koo174U6I7CN",
        "outputId": "990625e2-e391-4a59-d0a5-a3b1b745a404"
      },
      "execution_count": 28,
      "outputs": [
        {
          "output_type": "stream",
          "name": "stdout",
          "text": [
            "Accuracy: 0.9031986531986532\n",
            "Confusion Matrix:\n",
            " [[351  34  12]\n",
            " [ 21 347  15]\n",
            " [ 17  16 375]]\n",
            "AUC-ROC Score: {0: 0.9767583679110395, 1: 0.9805831698100969, 2: 0.9831290849673203}\n",
            "Precision: 0.9036858149024937\n",
            "Recall: 0.9031986531986532\n",
            "F1 Score: 0.9033014240181332\n",
            "Class 0:\n",
            "TP: 351, FP: 38, TN: 753, FN: 46\n",
            "Class 1:\n",
            "TP: 347, FP: 50, TN: 755, FN: 36\n",
            "Class 2:\n",
            "TP: 375, FP: 27, TN: 753, FN: 33\n"
          ]
        },
        {
          "output_type": "display_data",
          "data": {
            "text/plain": [
              "<Figure size 1000x800 with 1 Axes>"
            ],
            "image/png": "[encoded data removed]"
          },
          "metadata": {}
        }
      ]
    },
    {
      "cell_type": "code",
      "source": [],
      "metadata": {
        "id": "4OiKEJnsvoGN"
      },
      "execution_count": null,
      "outputs": []
    }
  ]
}